{
    "metadata": {
        "kernelspec": {
            "name": "SQL",
            "display_name": "SQL",
            "language": "sql"
        },
        "language_info": {
            "name": "sql",
            "version": ""
        }
    },
    "nbformat_minor": 2,
    "nbformat": 4,
    "cells": [
        {
            "cell_type": "code",
            "source": [
                "/* SOAL 1 */\n",
                "SELECT    COUNT(*) \n",
                "FROM      Orders \n",
                "WHERE     YEAR(OrderDate) = '1997' \n",
                "GROUP BY  MONTH(OrderDate)"
            ],
            "metadata": {
                "azdata_cell_guid": "076cb3f6-dbd4-45ac-9222-559d562f2f40",
                "language": "sql"
            },
            "outputs": [
                {
                    "output_type": "display_data",
                    "data": {
                        "text/html": "(12 rows affected)"
                    },
                    "metadata": {}
                },
                {
                    "output_type": "display_data",
                    "data": {
                        "text/html": "Total execution time: 00:00:00.013"
                    },
                    "metadata": {}
                },
                {
                    "output_type": "execute_result",
                    "metadata": {},
                    "execution_count": 1,
                    "data": {
                        "application/vnd.dataresource+json": {
                            "schema": {
                                "fields": [
                                    {
                                        "name": "(No column name)"
                                    }
                                ]
                            },
                            "data": [
                                {
                                    "0": "33"
                                },
                                {
                                    "0": "29"
                                },
                                {
                                    "0": "30"
                                },
                                {
                                    "0": "31"
                                },
                                {
                                    "0": "32"
                                },
                                {
                                    "0": "30"
                                },
                                {
                                    "0": "33"
                                },
                                {
                                    "0": "33"
                                },
                                {
                                    "0": "37"
                                },
                                {
                                    "0": "38"
                                },
                                {
                                    "0": "34"
                                },
                                {
                                    "0": "48"
                                }
                            ]
                        },
                        "text/html": [
                            "<table>",
                            "<tr><th>(No column name)</th></tr>",
                            "<tr><td>33</td></tr>",
                            "<tr><td>29</td></tr>",
                            "<tr><td>30</td></tr>",
                            "<tr><td>31</td></tr>",
                            "<tr><td>32</td></tr>",
                            "<tr><td>30</td></tr>",
                            "<tr><td>33</td></tr>",
                            "<tr><td>33</td></tr>",
                            "<tr><td>37</td></tr>",
                            "<tr><td>38</td></tr>",
                            "<tr><td>34</td></tr>",
                            "<tr><td>48</td></tr>",
                            "</table>"
                        ]
                    }
                }
            ],
            "execution_count": 1
        },
        {
            "cell_type": "code",
            "source": [
                "/* SOAL 2 */\n",
                "SELECT LastName,FirstName\n",
                "FROM Employees\n",
                "WHERE Title LIKE '%Sales%Representative%'"
            ],
            "metadata": {
                "language": "sql",
                "azdata_cell_guid": "d2a41655-40fc-4352-952e-3e252c4d9311"
            },
            "outputs": [
                {
                    "output_type": "display_data",
                    "data": {
                        "text/html": "(6 rows affected)"
                    },
                    "metadata": {}
                },
                {
                    "output_type": "display_data",
                    "data": {
                        "text/html": "Total execution time: 00:00:00.023"
                    },
                    "metadata": {}
                },
                {
                    "output_type": "execute_result",
                    "metadata": {},
                    "execution_count": 2,
                    "data": {
                        "application/vnd.dataresource+json": {
                            "schema": {
                                "fields": [
                                    {
                                        "name": "LastName"
                                    },
                                    {
                                        "name": "FirstName"
                                    }
                                ]
                            },
                            "data": [
                                {
                                    "0": "Davolio",
                                    "1": "Nancy"
                                },
                                {
                                    "0": "Leverling",
                                    "1": "Janet"
                                },
                                {
                                    "0": "Peacock",
                                    "1": "Margaret"
                                },
                                {
                                    "0": "Suyama",
                                    "1": "Michael"
                                },
                                {
                                    "0": "King",
                                    "1": "Robert"
                                },
                                {
                                    "0": "Dodsworth",
                                    "1": "Anne"
                                }
                            ]
                        },
                        "text/html": [
                            "<table>",
                            "<tr><th>LastName</th><th>FirstName</th></tr>",
                            "<tr><td>Davolio</td><td>Nancy</td></tr>",
                            "<tr><td>Leverling</td><td>Janet</td></tr>",
                            "<tr><td>Peacock</td><td>Margaret</td></tr>",
                            "<tr><td>Suyama</td><td>Michael</td></tr>",
                            "<tr><td>King</td><td>Robert</td></tr>",
                            "<tr><td>Dodsworth</td><td>Anne</td></tr>",
                            "</table>"
                        ]
                    }
                }
            ],
            "execution_count": 2
        },
        {
            "cell_type": "code",
            "source": [
                "/* SOAL 3 */\n",
                "SELECT TOP 5 Products.ProductName,COUNT(Products.ProductName) as OrdersValue\n",
                "FROM [Order Details]\n",
                "JOIN Orders\n",
                "ON [Order Details].OrderID = Orders.OrderID\n",
                "JOIN Products\n",
                "on [Order Details].ProductID = Products.ProductID\n",
                "WHERE year(Orders.OrderDate) = 1997 AND\n",
                "MONTH(Orders.OrderDate) = 1\n",
                "GROUP BY Products.ProductName\n",
                "ORDER By COUNT(Products.ProductName) DESC"
            ],
            "metadata": {
                "language": "sql",
                "azdata_cell_guid": "f799383c-a783-469f-beae-6ca68a01457f",
                "tags": []
            },
            "outputs": [
                {
                    "output_type": "display_data",
                    "data": {
                        "text/html": "(5 rows affected)"
                    },
                    "metadata": {}
                },
                {
                    "output_type": "display_data",
                    "data": {
                        "text/html": "Total execution time: 00:00:00.018"
                    },
                    "metadata": {}
                },
                {
                    "output_type": "execute_result",
                    "metadata": {},
                    "execution_count": 1,
                    "data": {
                        "application/vnd.dataresource+json": {
                            "schema": {
                                "fields": [
                                    {
                                        "name": "ProductName"
                                    },
                                    {
                                        "name": "OrdersValue"
                                    }
                                ]
                            },
                            "data": [
                                {
                                    "0": "Gumbär Gummibärchen",
                                    "1": "4"
                                },
                                {
                                    "0": "Raclette Courdavault",
                                    "1": "4"
                                },
                                {
                                    "0": "Alice Mutton",
                                    "1": "3"
                                },
                                {
                                    "0": "Geitost",
                                    "1": "3"
                                },
                                {
                                    "0": "Gnocchi di nonna Alice",
                                    "1": "3"
                                }
                            ]
                        },
                        "text/html": [
                            "<table>",
                            "<tr><th>ProductName</th><th>OrdersValue</th></tr>",
                            "<tr><td>Gumbär Gummibärchen</td><td>4</td></tr>",
                            "<tr><td>Raclette Courdavault</td><td>4</td></tr>",
                            "<tr><td>Alice Mutton</td><td>3</td></tr>",
                            "<tr><td>Geitost</td><td>3</td></tr>",
                            "<tr><td>Gnocchi di nonna Alice</td><td>3</td></tr>",
                            "</table>"
                        ]
                    }
                }
            ],
            "execution_count": 1
        },
        {
            "cell_type": "code",
            "source": [
                "/* SOAL 4 */\n",
                "SELECT DISTINCT(Orders.ShipName)\n",
                "FROM [Order Details]\n",
                "JOIN Orders\n",
                "ON [Order Details].OrderID = Orders.OrderID\n",
                "JOIN Products\n",
                "on [Order Details].ProductID = Products.ProductID\n",
                "WHERE year(Orders.OrderDate) = 1997 AND\n",
                "MONTH(Orders.OrderDate) = 6 AND\n",
                "Products.ProductName = 'Chai'"
            ],
            "metadata": {
                "language": "sql",
                "azdata_cell_guid": "1eb6fe7f-54de-4902-8170-99e8922445a7"
            },
            "outputs": [
                {
                    "output_type": "display_data",
                    "data": {
                        "text/html": "(1 row affected)"
                    },
                    "metadata": {}
                },
                {
                    "output_type": "display_data",
                    "data": {
                        "text/html": "Total execution time: 00:00:00.048"
                    },
                    "metadata": {}
                },
                {
                    "output_type": "execute_result",
                    "metadata": {},
                    "execution_count": 2,
                    "data": {
                        "application/vnd.dataresource+json": {
                            "schema": {
                                "fields": [
                                    {
                                        "name": "ShipName"
                                    }
                                ]
                            },
                            "data": [
                                {
                                    "0": "Tortuga Restaurante"
                                }
                            ]
                        },
                        "text/html": [
                            "<table>",
                            "<tr><th>ShipName</th></tr>",
                            "<tr><td>Tortuga Restaurante</td></tr>",
                            "</table>"
                        ]
                    }
                }
            ],
            "execution_count": 2
        },
        {
            "cell_type": "code",
            "source": [
                "/* SOAL 5 */\n",
                "SELECT Orders.OrderID, SUM([Order Details].UnitPrice * [Order Details].Quantity ) AS TotalPrice, \n",
                "CASE\n",
                "    WHEN SUM([Order Details].UnitPrice * [Order Details].Quantity ) <= 100 Then 'SMALL'\n",
                "    WHEN SUM([Order Details].UnitPrice * [Order Details].Quantity ) BETWEEN 100 AND 500 Then 'MED'\n",
                "    ELSE 'LARGE'\n",
                "END AS StatusOfTotalPrice\n",
                "FROM [Order Details]\n",
                "JOIN Orders\n",
                "ON [Order Details].OrderID = Orders.OrderID\n",
                "JOIN Products\n",
                "on [Order Details].ProductID = Products.ProductID\n",
                "GROUP BY Orders.OrderID\n",
                ""
            ],
            "metadata": {
                "language": "sql",
                "azdata_cell_guid": "c4a3a9e1-a059-4d49-845d-21c6cdea7505"
            },
            "outputs": [
                {
                    "output_type": "display_data",
                    "data": {
                        "text/html": "(830 rows affected)"
                    },
                    "metadata": {}
                },
                {
                    "output_type": "display_data",
                    "data": {
                        "text/html": "Total execution time: 00:00:00.074"
                    },
                    "metadata": {}
                },
                {
                    "output_type": "execute_result",
                    "metadata": {},
                    "execution_count": 3,
                    "data": {
                        "application/vnd.dataresource+json": {
                            "schema": {
                                "fields": [
                                    {
                                        "name": "OrderID"
                                    },
                                    {
                                        "name": "TotalPrice"
                                    },
                                    {
                                        "name": "StatusOfTotalPrice"
                                    }
                                ]
                            },
                            "data": [
                                {
                                    "0": "10411",
                                    "1": "1208,50",
                                    "2": "LARGE"
                                },
                                {
                                    "0": "10743",
                                    "1": "336,00",
                                    "2": "MED"
                                },
                                {
                                    "0": "11075",
                                    "1": "586,00",
                                    "2": "LARGE"
                                },
                                {
                                    "0": "10388",
                                    "1": "1274,00",
                                    "2": "LARGE"
                                },
                                {
                                    "0": "10720",
                                    "1": "550,00",
                                    "2": "LARGE"
                                },
                                {
                                    "0": "11052",
                                    "1": "1665,00",
                                    "2": "LARGE"
                                },
                                {
                                    "0": "10457",
                                    "1": "1584,00",
                                    "2": "LARGE"
                                },
                                {
                                    "0": "10789",
                                    "1": "3687,00",
                                    "2": "LARGE"
                                },
                                {
                                    "0": "10434",
                                    "1": "360,00",
                                    "2": "MED"
                                },
                                {
                                    "0": "10766",
                                    "1": "2310,00",
                                    "2": "LARGE"
                                },
                                {
                                    "0": "10248",
                                    "1": "440,00",
                                    "2": "MED"
                                },
                                {
                                    "0": "10835",
                                    "1": "851,00",
                                    "2": "LARGE"
                                },
                                {
                                    "0": "10906",
                                    "1": "427,50",
                                    "2": "MED"
                                },
                                {
                                    "0": "10912",
                                    "1": "8267,40",
                                    "2": "LARGE"
                                },
                                {
                                    "0": "10265",
                                    "1": "1176,00",
                                    "2": "LARGE"
                                },
                                {
                                    "0": "10271",
                                    "1": "48,00",
                                    "2": "SMALL"
                                },
                                {
                                    "0": "10812",
                                    "1": "1852,00",
                                    "2": "LARGE"
                                },
                                {
                                    "0": "10929",
                                    "1": "1174,75",
                                    "2": "LARGE"
                                },
                                {
                                    "0": "10935",
                                    "1": "700,00",
                                    "2": "LARGE"
                                },
                                {
                                    "0": "10294",
                                    "1": "1887,60",
                                    "2": "LARGE"
                                },
                                {
                                    "0": "10365",
                                    "1": "403,20",
                                    "2": "MED"
                                },
                                {
                                    "0": "10958",
                                    "1": "781,00",
                                    "2": "LARGE"
                                },
                                {
                                    "0": "10440",
                                    "1": "5793,10",
                                    "2": "LARGE"
                                },
                                {
                                    "0": "10981",
                                    "1": "15810,00",
                                    "2": "LARGE"
                                },
                                {
                                    "0": "10749",
                                    "1": "1080,00",
                                    "2": "LARGE"
                                },
                                {
                                    "0": "10998",
                                    "1": "686,00",
                                    "2": "LARGE"
                                },
                                {
                                    "0": "10357",
                                    "1": "1360,00",
                                    "2": "LARGE"
                                },
                                {
                                    "0": "10394",
                                    "1": "442,00",
                                    "2": "MED"
                                },
                                {
                                    "0": "10511",
                                    "1": "3000,00",
                                    "2": "LARGE"
                                },
                                {
                                    "0": "10689",
                                    "1": "630,00",
                                    "2": "LARGE"
                                },
                                {
                                    "0": "10843",
                                    "1": "212,00",
                                    "2": "MED"
                                },
                                {
                                    "0": "10703",
                                    "1": "2545,00",
                                    "2": "LARGE"
                                },
                                {
                                    "0": "10952",
                                    "1": "491,20",
                                    "2": "MED"
                                },
                                {
                                    "0": "11035",
                                    "1": "1754,50",
                                    "2": "LARGE"
                                },
                                {
                                    "0": "10311",
                                    "1": "268,80",
                                    "2": "MED"
                                },
                                {
                                    "0": "10348",
                                    "1": "396,00",
                                    "2": "MED"
                                },
                                {
                                    "0": "10557",
                                    "1": "1152,50",
                                    "2": "LARGE"
                                },
                                {
                                    "0": "10643",
                                    "1": "1086,00",
                                    "2": "LARGE"
                                },
                                {
                                    "0": "10889",
                                    "1": "11380,00",
                                    "2": "LARGE"
                                },
                                {
                                    "0": "10254",
                                    "1": "625,20",
                                    "2": "LARGE"
                                },
                                {
                                    "0": "10497",
                                    "1": "1380,60",
                                    "2": "LARGE"
                                },
                                {
                                    "0": "10503",
                                    "1": "2048,50",
                                    "2": "LARGE"
                                },
                                {
                                    "0": "10989",
                                    "1": "1353,60",
                                    "2": "LARGE"
                                },
                                {
                                    "0": "10302",
                                    "1": "2708,80",
                                    "2": "LARGE"
                                },
                                {
                                    "0": "10597",
                                    "1": "800,10",
                                    "2": "LARGE"
                                },
                                {
                                    "0": "10603",
                                    "1": "1508,00",
                                    "2": "LARGE"
                                },
                                {
                                    "0": "10941",
                                    "1": "4769,00",
                                    "2": "LARGE"
                                },
                                {
                                    "0": "10451",
                                    "1": "4277,40",
                                    "2": "LARGE"
                                },
                                {
                                    "0": "10697",
                                    "1": "1073,90",
                                    "2": "LARGE"
                                },
                                {
                                    "0": "10795",
                                    "1": "2499,25",
                                    "2": "LARGE"
                                },
                                {
                                    "0": "11044",
                                    "1": "591,60",
                                    "2": "LARGE"
                                },
                                {
                                    "0": "10305",
                                    "1": "4157,00",
                                    "2": "LARGE"
                                },
                                {
                                    "0": "10551",
                                    "1": "1836,00",
                                    "2": "LARGE"
                                },
                                {
                                    "0": "10649",
                                    "1": "1434,00",
                                    "2": "LARGE"
                                },
                                {
                                    "0": "10895",
                                    "1": "6379,40",
                                    "2": "LARGE"
                                },
                                {
                                    "0": "10494",
                                    "1": "912,00",
                                    "2": "LARGE"
                                },
                                {
                                    "0": "10660",
                                    "1": "1701,00",
                                    "2": "LARGE"
                                },
                                {
                                    "0": "10992",
                                    "1": "69,60",
                                    "2": "SMALL"
                                },
                                {
                                    "0": "10351",
                                    "1": "5677,60",
                                    "2": "LARGE"
                                },
                                {
                                    "0": "10400",
                                    "1": "3063,00",
                                    "2": "LARGE"
                                },
                                {
                                    "0": "10517",
                                    "1": "352,00",
                                    "2": "MED"
                                },
                                {
                                    "0": "10566",
                                    "1": "2040,00",
                                    "2": "LARGE"
                                },
                                {
                                    "0": "11015",
                                    "1": "622,35",
                                    "2": "LARGE"
                                },
                                {
                                    "0": "11064",
                                    "1": "4722,30",
                                    "2": "LARGE"
                                },
                                {
                                    "0": "10374",
                                    "1": "459,00",
                                    "2": "MED"
                                },
                                {
                                    "0": "10543",
                                    "1": "1770,00",
                                    "2": "LARGE"
                                },
                                {
                                    "0": "10780",
                                    "1": "720,00",
                                    "2": "LARGE"
                                },
                                {
                                    "0": "10729",
                                    "1": "1850,00",
                                    "2": "LARGE"
                                },
                                {
                                    "0": "10803",
                                    "1": "1255,80",
                                    "2": "LARGE"
                                },
                                {
                                    "0": "10852",
                                    "1": "2984,00",
                                    "2": "LARGE"
                                },
                                {
                                    "0": "10586",
                                    "1": "28,00",
                                    "2": "SMALL"
                                },
                                {
                                    "0": "10829",
                                    "1": "1764,00",
                                    "2": "LARGE"
                                },
                                {
                                    "0": "10468",
                                    "1": "717,60",
                                    "2": "LARGE"
                                },
                                {
                                    "0": "10537",
                                    "1": "1823,80",
                                    "2": "LARGE"
                                },
                                {
                                    "0": "10709",
                                    "1": "3424,00",
                                    "2": "LARGE"
                                },
                                {
                                    "0": "10637",
                                    "1": "2896,25",
                                    "2": "LARGE"
                                },
                                {
                                    "0": "10686",
                                    "1": "1638,45",
                                    "2": "LARGE"
                                },
                                {
                                    "0": "10760",
                                    "1": "3304,00",
                                    "2": "LARGE"
                                },
                                {
                                    "0": "10417",
                                    "1": "11283,20",
                                    "2": "LARGE"
                                },
                                {
                                    "0": "10666",
                                    "1": "4666,94",
                                    "2": "LARGE"
                                },
                                {
                                    "0": "10915",
                                    "1": "539,50",
                                    "2": "LARGE"
                                },
                                {
                                    "0": "10523",
                                    "1": "2715,90",
                                    "2": "LARGE"
                                },
                                {
                                    "0": "11009",
                                    "1": "702,00",
                                    "2": "LARGE"
                                },
                                {
                                    "0": "11021",
                                    "1": "6941,49",
                                    "2": "LARGE"
                                },
                                {
                                    "0": "11058",
                                    "1": "858,00",
                                    "2": "LARGE"
                                },
                                {
                                    "0": "10288",
                                    "1": "89,00",
                                    "2": "SMALL"
                                },
                                {
                                    "0": "10617",
                                    "1": "1650,00",
                                    "2": "LARGE"
                                },
                                {
                                    "0": "10629",
                                    "1": "2775,05",
                                    "2": "LARGE"
                                },
                                {
                                    "0": "10866",
                                    "1": "1461,60",
                                    "2": "LARGE"
                                },
                                {
                                    "0": "10878",
                                    "1": "1620,00",
                                    "2": "LARGE"
                                },
                                {
                                    "0": "10274",
                                    "1": "538,60",
                                    "2": "LARGE"
                                },
                                {
                                    "0": "10680",
                                    "1": "1682,50",
                                    "2": "LARGE"
                                },
                                {
                                    "0": "10325",
                                    "1": "1497,00",
                                    "2": "LARGE"
                                },
                                {
                                    "0": "10331",
                                    "1": "88,50",
                                    "2": "SMALL"
                                },
                                {
                                    "0": "10574",
                                    "1": "764,30",
                                    "2": "LARGE"
                                },
                                {
                                    "0": "10580",
                                    "1": "1067,10",
                                    "2": "LARGE"
                                },
                                {
                                    "0": "10823",
                                    "1": "3107,50",
                                    "2": "LARGE"
                                },
                                {
                                    "0": "11072",
                                    "1": "5218,00",
                                    "2": "LARGE"
                                },
                                {
                                    "0": "10431",
                                    "1": "2523,00",
                                    "2": "LARGE"
                                },
                                {
                                    "0": "10474",
                                    "1": "1249,10",
                                    "2": "LARGE"
                                },
                                {
                                    "0": "10480",
                                    "1": "756,00",
                                    "2": "LARGE"
                                },
                                {
                                    "0": "10972",
                                    "1": "251,50",
                                    "2": "MED"
                                },
                                {
                                    "0": "10282",
                                    "1": "155,40",
                                    "2": "MED"
                                },
                                {
                                    "0": "10623",
                                    "1": "1429,75",
                                    "2": "LARGE"
                                },
                                {
                                    "0": "10872",
                                    "1": "2166,80",
                                    "2": "LARGE"
                                },
                                {
                                    "0": "10723",
                                    "1": "468,45",
                                    "2": "MED"
                                },
                                {
                                    "0": "10772",
                                    "1": "3603,22",
                                    "2": "LARGE"
                                },
                                {
                                    "0": "10577",
                                    "1": "569,00",
                                    "2": "LARGE"
                                },
                                {
                                    "0": "10909",
                                    "1": "670,00",
                                    "2": "LARGE"
                                },
                                {
                                    "0": "10554",
                                    "1": "1819,50",
                                    "2": "LARGE"
                                },
                                {
                                    "0": "10886",
                                    "1": "3127,50",
                                    "2": "LARGE"
                                },
                                {
                                    "0": "10460",
                                    "1": "234,80",
                                    "2": "MED"
                                },
                                {
                                    "0": "10531",
                                    "1": "110,00",
                                    "2": "MED"
                                },
                                {
                                    "0": "10792",
                                    "1": "399,85",
                                    "2": "MED"
                                },
                                {
                                    "0": "10385",
                                    "1": "864,00",
                                    "2": "LARGE"
                                },
                                {
                                    "0": "10483",
                                    "1": "704,00",
                                    "2": "LARGE"
                                },
                                {
                                    "0": "10815",
                                    "1": "40,00",
                                    "2": "SMALL"
                                },
                                {
                                    "0": "10337",
                                    "1": "2467,00",
                                    "2": "LARGE"
                                },
                                {
                                    "0": "10414",
                                    "1": "231,40",
                                    "2": "MED"
                                },
                                {
                                    "0": "10740",
                                    "1": "1770,00",
                                    "2": "LARGE"
                                },
                                {
                                    "0": "11001",
                                    "1": "2769,00",
                                    "2": "LARGE"
                                },
                                {
                                    "0": "10314",
                                    "1": "2327,00",
                                    "2": "LARGE"
                                },
                                {
                                    "0": "10437",
                                    "1": "393,00",
                                    "2": "MED"
                                },
                                {
                                    "0": "10763",
                                    "1": "616,00",
                                    "2": "LARGE"
                                },
                                {
                                    "0": "10978",
                                    "1": "1500,70",
                                    "2": "LARGE"
                                },
                                {
                                    "0": "10291",
                                    "1": "552,80",
                                    "2": "LARGE"
                                },
                                {
                                    "0": "10368",
                                    "1": "1834,20",
                                    "2": "LARGE"
                                },
                                {
                                    "0": "10786",
                                    "1": "1913,85",
                                    "2": "LARGE"
                                },
                                {
                                    "0": "10955",
                                    "1": "93,00",
                                    "2": "SMALL"
                                },
                                {
                                    "0": "11032",
                                    "1": "8902,50",
                                    "2": "LARGE"
                                },
                                {
                                    "0": "10268",
                                    "1": "1101,20",
                                    "2": "LARGE"
                                },
                                {
                                    "0": "10391",
                                    "1": "86,40",
                                    "2": "SMALL"
                                },
                                {
                                    "0": "10809",
                                    "1": "140,00",
                                    "2": "MED"
                                },
                                {
                                    "0": "10932",
                                    "1": "1925,50",
                                    "2": "LARGE"
                                },
                                {
                                    "0": "11055",
                                    "1": "1727,50",
                                    "2": "LARGE"
                                },
                                {
                                    "0": "10251",
                                    "1": "670,80",
                                    "2": "LARGE"
                                },
                                {
                                    "0": "10500",
                                    "1": "550,80",
                                    "2": "LARGE"
                                },
                                {
                                    "0": "10345",
                                    "1": "2924,80",
                                    "2": "LARGE"
                                },
                                {
                                    "0": "10560",
                                    "1": "1257,30",
                                    "2": "LARGE"
                                },
                                {
                                    "0": "10855",
                                    "1": "2275,25",
                                    "2": "LARGE"
                                },
                                {
                                    "0": "10892",
                                    "1": "2200,00",
                                    "2": "LARGE"
                                },
                                {
                                    "0": "10949",
                                    "1": "4422,00",
                                    "2": "LARGE"
                                },
                                {
                                    "0": "10262",
                                    "1": "624,80",
                                    "2": "LARGE"
                                },
                                {
                                    "0": "10594",
                                    "1": "565,50",
                                    "2": "LARGE"
                                },
                                {
                                    "0": "10606",
                                    "1": "1413,00",
                                    "2": "LARGE"
                                },
                                {
                                    "0": "10938",
                                    "1": "3642,50",
                                    "2": "LARGE"
                                },
                                {
                                    "0": "10408",
                                    "1": "1622,40",
                                    "2": "LARGE"
                                },
                                {
                                    "0": "10746",
                                    "1": "2311,70",
                                    "2": "LARGE"
                                },
                                {
                                    "0": "10752",
                                    "1": "252,00",
                                    "2": "MED"
                                },
                                {
                                    "0": "10995",
                                    "1": "1196,00",
                                    "2": "LARGE"
                                },
                                {
                                    "0": "10308",
                                    "1": "88,80",
                                    "2": "SMALL"
                                },
                                {
                                    "0": "10646",
                                    "1": "1928,00",
                                    "2": "LARGE"
                                },
                                {
                                    "0": "10454",
                                    "1": "414,00",
                                    "2": "MED"
                                },
                                {
                                    "0": "10700",
                                    "1": "2048,00",
                                    "2": "LARGE"
                                },
                                {
                                    "0": "11041",
                                    "1": "1887,00",
                                    "2": "LARGE"
                                },
                                {
                                    "0": "10354",
                                    "1": "568,80",
                                    "2": "LARGE"
                                },
                                {
                                    "0": "10600",
                                    "1": "479,80",
                                    "2": "MED"
                                },
                                {
                                    "0": "10846",
                                    "1": "1112,00",
                                    "2": "LARGE"
                                },
                                {
                                    "0": "10328",
                                    "1": "1168,00",
                                    "2": "LARGE"
                                },
                                {
                                    "0": "10826",
                                    "1": "730,00",
                                    "2": "LARGE"
                                },
                                {
                                    "0": "10683",
                                    "1": "63,00",
                                    "2": "SMALL"
                                },
                                {
                                    "0": "10732",
                                    "1": "360,00",
                                    "2": "MED"
                                },
                                {
                                    "0": "10849",
                                    "1": "1052,14",
                                    "2": "LARGE"
                                },
                                {
                                    "0": "10898",
                                    "1": "30,00",
                                    "2": "SMALL"
                                },
                                {
                                    "0": "10448",
                                    "1": "443,40",
                                    "2": "MED"
                                },
                                {
                                    "0": "10706",
                                    "1": "1893,00",
                                    "2": "LARGE"
                                },
                                {
                                    "0": "10875",
                                    "1": "729,50",
                                    "2": "LARGE"
                                },
                                {
                                    "0": "11038",
                                    "1": "751,00",
                                    "2": "LARGE"
                                },
                                {
                                    "0": "10397",
                                    "1": "843,20",
                                    "2": "LARGE"
                                },
                                {
                                    "0": "10471",
                                    "1": "1328,00",
                                    "2": "LARGE"
                                },
                                {
                                    "0": "10520",
                                    "1": "200,00",
                                    "2": "MED"
                                },
                                {
                                    "0": "11061",
                                    "1": "510,00",
                                    "2": "LARGE"
                                },
                                {
                                    "0": "10420",
                                    "1": "1897,60",
                                    "2": "LARGE"
                                },
                                {
                                    "0": "10491",
                                    "1": "305,30",
                                    "2": "MED"
                                },
                                {
                                    "0": "10657",
                                    "1": "4371,60",
                                    "2": "LARGE"
                                },
                                {
                                    "0": "10663",
                                    "1": "2032,00",
                                    "2": "LARGE"
                                },
                                {
                                    "0": "10640",
                                    "1": "945,00",
                                    "2": "LARGE"
                                },
                                {
                                    "0": "10806",
                                    "1": "572,10",
                                    "2": "LARGE"
                                },
                                {
                                    "0": "10540",
                                    "1": "10191,70",
                                    "2": "LARGE"
                                },
                                {
                                    "0": "10614",
                                    "1": "464,00",
                                    "2": "MED"
                                },
                                {
                                    "0": "10712",
                                    "1": "1238,40",
                                    "2": "LARGE"
                                },
                                {
                                    "0": "10783",
                                    "1": "1442,50",
                                    "2": "LARGE"
                                },
                                {
                                    "0": "10514",
                                    "1": "8623,45",
                                    "2": "LARGE"
                                },
                                {
                                    "0": "10563",
                                    "1": "965,00",
                                    "2": "LARGE"
                                },
                                {
                                    "0": "10334",
                                    "1": "144,80",
                                    "2": "MED"
                                },
                                {
                                    "0": "10583",
                                    "1": "2413,90",
                                    "2": "LARGE"
                                },
                                {
                                    "0": "10832",
                                    "1": "568,95",
                                    "2": "LARGE"
                                },
                                {
                                    "0": "10677",
                                    "1": "956,90",
                                    "2": "LARGE"
                                },
                                {
                                    "0": "10726",
                                    "1": "655,00",
                                    "2": "LARGE"
                                },
                                {
                                    "0": "10285",
                                    "1": "2179,20",
                                    "2": "LARGE"
                                },
                                {
                                    "0": "10371",
                                    "1": "91,20",
                                    "2": "SMALL"
                                },
                                {
                                    "0": "10534",
                                    "1": "517,40",
                                    "2": "LARGE"
                                },
                                {
                                    "0": "10620",
                                    "1": "57,50",
                                    "2": "SMALL"
                                },
                                {
                                    "0": "10961",
                                    "1": "1122,00",
                                    "2": "LARGE"
                                },
                                {
                                    "0": "10926",
                                    "1": "514,40",
                                    "2": "LARGE"
                                },
                                {
                                    "0": "10975",
                                    "1": "717,50",
                                    "2": "LARGE"
                                },
                                {
                                    "0": "11012",
                                    "1": "2974,00",
                                    "2": "LARGE"
                                },
                                {
                                    "0": "11024",
                                    "1": "1966,81",
                                    "2": "LARGE"
                                },
                                {
                                    "0": "10669",
                                    "1": "570,00",
                                    "2": "LARGE"
                                },
                                {
                                    "0": "10918",
                                    "1": "1930,00",
                                    "2": "LARGE"
                                },
                                {
                                    "0": "10769",
                                    "1": "1704,00",
                                    "2": "LARGE"
                                },
                                {
                                    "0": "10377",
                                    "1": "1016,00",
                                    "2": "LARGE"
                                },
                                {
                                    "0": "10626",
                                    "1": "1503,60",
                                    "2": "LARGE"
                                },
                                {
                                    "0": "10869",
                                    "1": "1630,00",
                                    "2": "LARGE"
                                },
                                {
                                    "0": "10428",
                                    "1": "192,00",
                                    "2": "MED"
                                },
                                {
                                    "0": "10477",
                                    "1": "672,00",
                                    "2": "LARGE"
                                },
                                {
                                    "0": "10969",
                                    "1": "108,00",
                                    "2": "MED"
                                },
                                {
                                    "0": "11018",
                                    "1": "1575,00",
                                    "2": "LARGE"
                                },
                                {
                                    "0": "10269",
                                    "1": "676,00",
                                    "2": "LARGE"
                                },
                                {
                                    "0": "10340",
                                    "1": "2564,40",
                                    "2": "LARGE"
                                },
                                {
                                    "0": "10601",
                                    "1": "2285,00",
                                    "2": "LARGE"
                                },
                                {
                                    "0": "10672",
                                    "1": "4210,50",
                                    "2": "LARGE"
                                },
                                {
                                    "0": "10933",
                                    "1": "920,60",
                                    "2": "LARGE"
                                },
                                {
                                    "0": "11004",
                                    "1": "295,38",
                                    "2": "MED"
                                },
                                {
                                    "0": "10363",
                                    "1": "447,20",
                                    "2": "MED"
                                },
                                {
                                    "0": "10578",
                                    "1": "477,00",
                                    "2": "MED"
                                },
                                {
                                    "0": "10695",
                                    "1": "642,00",
                                    "2": "LARGE"
                                },
                                {
                                    "0": "10910",
                                    "1": "452,90",
                                    "2": "MED"
                                },
                                {
                                    "0": "11027",
                                    "1": "1170,30",
                                    "2": "LARGE"
                                },
                                {
                                    "0": "10386",
                                    "1": "166,00",
                                    "2": "MED"
                                },
                                {
                                    "0": "10555",
                                    "1": "3680,50",
                                    "2": "LARGE"
                                },
                                {
                                    "0": "10718",
                                    "1": "3463,00",
                                    "2": "LARGE"
                                },
                                {
                                    "0": "10887",
                                    "1": "70,00",
                                    "2": "SMALL"
                                },
                                {
                                    "0": "11050",
                                    "1": "900,00",
                                    "2": "LARGE"
                                },
                                {
                                    "0": "10409",
                                    "1": "319,20",
                                    "2": "MED"
                                },
                                {
                                    "0": "10532",
                                    "1": "796,35",
                                    "2": "LARGE"
                                },
                                {
                                    "0": "10741",
                                    "1": "285,00",
                                    "2": "MED"
                                },
                                {
                                    "0": "10864",
                                    "1": "282,00",
                                    "2": "MED"
                                },
                                {
                                    "0": "11073",
                                    "1": "300,00",
                                    "2": "MED"
                                },
                                {
                                    "0": "10509",
                                    "1": "136,80",
                                    "2": "MED"
                                },
                                {
                                    "0": "10764",
                                    "1": "2540,00",
                                    "2": "LARGE"
                                },
                                {
                                    "0": "10486",
                                    "1": "1272,00",
                                    "2": "LARGE"
                                },
                                {
                                    "0": "10787",
                                    "1": "2760,80",
                                    "2": "LARGE"
                                },
                                {
                                    "0": "10392",
                                    "1": "1440,00",
                                    "2": "LARGE"
                                },
                                {
                                    "0": "10463",
                                    "1": "713,30",
                                    "2": "LARGE"
                                },
                                {
                                    "0": "10810",
                                    "1": "187,00",
                                    "2": "MED"
                                },
                                {
                                    "0": "10881",
                                    "1": "150,00",
                                    "2": "MED"
                                },
                                {
                                    "0": "11056",
                                    "1": "3740,00",
                                    "2": "LARGE"
                                },
                                {
                                    "0": "10317",
                                    "1": "288,00",
                                    "2": "MED"
                                },
                                {
                                    "0": "10415",
                                    "1": "102,40",
                                    "2": "MED"
                                },
                                {
                                    "0": "10858",
                                    "1": "649,00",
                                    "2": "LARGE"
                                },
                                {
                                    "0": "10956",
                                    "1": "677,00",
                                    "2": "LARGE"
                                },
                                {
                                    "0": "10263",
                                    "1": "2464,80",
                                    "2": "LARGE"
                                },
                                {
                                    "0": "10346",
                                    "1": "1731,20",
                                    "2": "LARGE"
                                },
                                {
                                    "0": "10595",
                                    "1": "6300,00",
                                    "2": "LARGE"
                                },
                                {
                                    "0": "10701",
                                    "1": "3370,00",
                                    "2": "LARGE"
                                },
                                {
                                    "0": "10904",
                                    "1": "1924,25",
                                    "2": "LARGE"
                                },
                                {
                                    "0": "11033",
                                    "1": "3592,00",
                                    "2": "LARGE"
                                },
                                {
                                    "0": "10300",
                                    "1": "608,00",
                                    "2": "LARGE"
                                },
                                {
                                    "0": "10309",
                                    "1": "1762,00",
                                    "2": "LARGE"
                                },
                                {
                                    "0": "10641",
                                    "1": "2054,00",
                                    "2": "LARGE"
                                },
                                {
                                    "0": "10655",
                                    "1": "193,00",
                                    "2": "MED"
                                },
                                {
                                    "0": "10950",
                                    "1": "110,00",
                                    "2": "MED"
                                },
                                {
                                    "0": "10987",
                                    "1": "2772,00",
                                    "2": "LARGE"
                                },
                                {
                                    "0": "10841",
                                    "1": "4581,00",
                                    "2": "LARGE"
                                },
                                {
                                    "0": "10847",
                                    "1": "6164,90",
                                    "2": "LARGE"
                                },
                                {
                                    "0": "10449",
                                    "1": "1838,20",
                                    "2": "LARGE"
                                },
                                {
                                    "0": "10455",
                                    "1": "2684,00",
                                    "2": "LARGE"
                                },
                                {
                                    "0": "10996",
                                    "1": "560,00",
                                    "2": "LARGE"
                                },
                                {
                                    "0": "10549",
                                    "1": "4181,50",
                                    "2": "LARGE"
                                },
                                {
                                    "0": "10893",
                                    "1": "5502,11",
                                    "2": "LARGE"
                                },
                                {
                                    "0": "10403",
                                    "1": "1005,90",
                                    "2": "LARGE"
                                },
                                {
                                    "0": "10747",
                                    "1": "1912,85",
                                    "2": "LARGE"
                                },
                                {
                                    "0": "10423",
                                    "1": "1020,00",
                                    "2": "LARGE"
                                },
                                {
                                    "0": "10684",
                                    "1": "1768,00",
                                    "2": "LARGE"
                                },
                                {
                                    "0": "10850",
                                    "1": "740,00",
                                    "2": "LARGE"
                                },
                                {
                                    "0": "10921",
                                    "1": "1936,00",
                                    "2": "LARGE"
                                },
                                {
                                    "0": "10707",
                                    "1": "1704,00",
                                    "2": "LARGE"
                                },
                                {
                                    "0": "11039",
                                    "1": "3090,00",
                                    "2": "LARGE"
                                },
                                {
                                    "0": "10472",
                                    "1": "1051,20",
                                    "2": "LARGE"
                                },
                                {
                                    "0": "10801",
                                    "1": "4035,80",
                                    "2": "LARGE"
                                },
                                {
                                    "0": "10778",
                                    "1": "96,50",
                                    "2": "SMALL"
                                },
                                {
                                    "0": "10827",
                                    "1": "843,00",
                                    "2": "LARGE"
                                },
                                {
                                    "0": "10515",
                                    "1": "10588,50",
                                    "2": "LARGE"
                                },
                                {
                                    "0": "10592",
                                    "1": "543,65",
                                    "2": "LARGE"
                                },
                                {
                                    "0": "10758",
                                    "1": "1644,60",
                                    "2": "LARGE"
                                },
                                {
                                    "0": "10443",
                                    "1": "537,60",
                                    "2": "LARGE"
                                },
                                {
                                    "0": "10492",
                                    "1": "896,00",
                                    "2": "LARGE"
                                },
                                {
                                    "0": "10609",
                                    "1": "424,00",
                                    "2": "MED"
                                },
                                {
                                    "0": "10615",
                                    "1": "120,00",
                                    "2": "MED"
                                },
                                {
                                    "0": "10658",
                                    "1": "4668,00",
                                    "2": "LARGE"
                                },
                                {
                                    "0": "10664",
                                    "1": "1515,75",
                                    "2": "LARGE"
                                },
                                {
                                    "0": "10466",
                                    "1": "216,00",
                                    "2": "MED"
                                },
                                {
                                    "0": "10635",
                                    "1": "1380,25",
                                    "2": "LARGE"
                                },
                                {
                                    "0": "10807",
                                    "1": "18,40",
                                    "2": "SMALL"
                                },
                                {
                                    "0": "10735",
                                    "1": "596,00",
                                    "2": "LARGE"
                                },
                                {
                                    "0": "10784",
                                    "1": "1650,00",
                                    "2": "LARGE"
                                },
                                {
                                    "0": "10429",
                                    "1": "1748,50",
                                    "2": "LARGE"
                                },
                                {
                                    "0": "10678",
                                    "1": "5256,50",
                                    "2": "LARGE"
                                },
                                {
                                    "0": "10927",
                                    "1": "800,00",
                                    "2": "LARGE"
                                },
                                {
                                    "0": "10535",
                                    "1": "2156,50",
                                    "2": "LARGE"
                                },
                                {
                                    "0": "10572",
                                    "1": "1565,65",
                                    "2": "LARGE"
                                },
                                {
                                    "0": "11070",
                                    "1": "1873,50",
                                    "2": "LARGE"
                                },
                                {
                                    "0": "10715",
                                    "1": "1296,00",
                                    "2": "LARGE"
                                },
                                {
                                    "0": "10727",
                                    "1": "1710,00",
                                    "2": "LARGE"
                                },
                                {
                                    "0": "10964",
                                    "1": "2052,50",
                                    "2": "LARGE"
                                },
                                {
                                    "0": "10976",
                                    "1": "912,00",
                                    "2": "LARGE"
                                },
                                {
                                    "0": "10286",
                                    "1": "3016,00",
                                    "2": "LARGE"
                                },
                                {
                                    "0": "10323",
                                    "1": "164,40",
                                    "2": "MED"
                                },
                                {
                                    "0": "10372",
                                    "1": "12281,20",
                                    "2": "LARGE"
                                },
                                {
                                    "0": "10913",
                                    "1": "958,75",
                                    "2": "LARGE"
                                },
                                {
                                    "0": "11013",
                                    "1": "361,00",
                                    "2": "MED"
                                },
                                {
                                    "0": "11019",
                                    "1": "76,00",
                                    "2": "SMALL"
                                },
                                {
                                    "0": "10621",
                                    "1": "758,50",
                                    "2": "LARGE"
                                },
                                {
                                    "0": "10380",
                                    "1": "1419,80",
                                    "2": "LARGE"
                                },
                                {
                                    "0": "10478",
                                    "1": "496,00",
                                    "2": "MED"
                                },
                                {
                                    "0": "10721",
                                    "1": "972,50",
                                    "2": "LARGE"
                                },
                                {
                                    "0": "10970",
                                    "1": "280,00",
                                    "2": "MED"
                                },
                                {
                                    "0": "10280",
                                    "1": "613,20",
                                    "2": "LARGE"
                                },
                                {
                                    "0": "10329",
                                    "1": "4819,40",
                                    "2": "LARGE"
                                },
                                {
                                    "0": "10821",
                                    "1": "678,00",
                                    "2": "LARGE"
                                },
                                {
                                    "0": "10870",
                                    "1": "160,00",
                                    "2": "MED"
                                },
                                {
                                    "0": "10435",
                                    "1": "631,60",
                                    "2": "LARGE"
                                },
                                {
                                    "0": "10506",
                                    "1": "462,00",
                                    "2": "MED"
                                },
                                {
                                    "0": "10767",
                                    "1": "28,00",
                                    "2": "SMALL"
                                },
                                {
                                    "0": "10838",
                                    "1": "2584,50",
                                    "2": "LARGE"
                                },
                                {
                                    "0": "10412",
                                    "1": "372,00",
                                    "2": "MED"
                                },
                                {
                                    "0": "10529",
                                    "1": "946,00",
                                    "2": "LARGE"
                                },
                                {
                                    "0": "10744",
                                    "1": "920,00",
                                    "2": "LARGE"
                                },
                                {
                                    "0": "10861",
                                    "1": "3523,40",
                                    "2": "LARGE"
                                },
                                {
                                    "0": "11076",
                                    "1": "1057,00",
                                    "2": "LARGE"
                                },
                                {
                                    "0": "10790",
                                    "1": "850,00",
                                    "2": "LARGE"
                                },
                                {
                                    "0": "10266",
                                    "1": "364,80",
                                    "2": "MED"
                                },
                                {
                                    "0": "10343",
                                    "1": "1586,00",
                                    "2": "LARGE"
                                },
                                {
                                    "0": "10930",
                                    "1": "2455,00",
                                    "2": "LARGE"
                                },
                                {
                                    "0": "11007",
                                    "1": "2633,90",
                                    "2": "LARGE"
                                },
                                {
                                    "0": "10289",
                                    "1": "479,40",
                                    "2": "MED"
                                },
                                {
                                    "0": "10320",
                                    "1": "516,00",
                                    "2": "LARGE"
                                },
                                {
                                    "0": "10953",
                                    "1": "4675,00",
                                    "2": "LARGE"
                                },
                                {
                                    "0": "10984",
                                    "1": "1809,75",
                                    "2": "LARGE"
                                },
                                {
                                    "0": "10389",
                                    "1": "1832,80",
                                    "2": "LARGE"
                                },
                                {
                                    "0": "10884",
                                    "1": "1450,60",
                                    "2": "LARGE"
                                },
                                {
                                    "0": "11053",
                                    "1": "3658,75",
                                    "2": "LARGE"
                                },
                                {
                                    "0": "10366",
                                    "1": "136,00",
                                    "2": "MED"
                                },
                                {
                                    "0": "10907",
                                    "1": "108,50",
                                    "2": "MED"
                                },
                                {
                                    "0": "11030",
                                    "1": "16321,90",
                                    "2": "LARGE"
                                },
                                {
                                    "0": "10512",
                                    "1": "618,00",
                                    "2": "LARGE"
                                },
                                {
                                    "0": "10844",
                                    "1": "735,00",
                                    "2": "LARGE"
                                },
                                {
                                    "0": "10406",
                                    "1": "2018,20",
                                    "2": "LARGE"
                                },
                                {
                                    "0": "10738",
                                    "1": "52,35",
                                    "2": "SMALL"
                                },
                                {
                                    "0": "10297",
                                    "1": "1420,00",
                                    "2": "LARGE"
                                },
                                {
                                    "0": "10546",
                                    "1": "2812,00",
                                    "2": "LARGE"
                                },
                                {
                                    "0": "10558",
                                    "1": "2142,90",
                                    "2": "LARGE"
                                },
                                {
                                    "0": "10644",
                                    "1": "1422,00",
                                    "2": "LARGE"
                                },
                                {
                                    "0": "10890",
                                    "1": "860,10",
                                    "2": "LARGE"
                                },
                                {
                                    "0": "11047",
                                    "1": "1090,50",
                                    "2": "LARGE"
                                },
                                {
                                    "0": "10249",
                                    "1": "1863,40",
                                    "2": "LARGE"
                                },
                                {
                                    "0": "10360",
                                    "1": "7390,20",
                                    "2": "LARGE"
                                },
                                {
                                    "0": "10692",
                                    "1": "878,00",
                                    "2": "LARGE"
                                },
                                {
                                    "0": "10704",
                                    "1": "595,50",
                                    "2": "LARGE"
                                },
                                {
                                    "0": "10901",
                                    "1": "934,50",
                                    "2": "LARGE"
                                },
                                {
                                    "0": "11036",
                                    "1": "1692,00",
                                    "2": "LARGE"
                                },
                                {
                                    "0": "10260",
                                    "1": "1746,20",
                                    "2": "LARGE"
                                },
                                {
                                    "0": "10349",
                                    "1": "141,60",
                                    "2": "MED"
                                },
                                {
                                    "0": "10598",
                                    "1": "2388,50",
                                    "2": "LARGE"
                                },
                                {
                                    "0": "10498",
                                    "1": "575,00",
                                    "2": "LARGE"
                                },
                                {
                                    "0": "10652",
                                    "1": "331,78",
                                    "2": "MED"
                                },
                                {
                                    "0": "10947",
                                    "1": "220,00",
                                    "2": "MED"
                                },
                                {
                                    "0": "10990",
                                    "1": "4931,00",
                                    "2": "LARGE"
                                },
                                {
                                    "0": "10303",
                                    "1": "1242,00",
                                    "2": "LARGE"
                                },
                                {
                                    "0": "10306",
                                    "1": "498,50",
                                    "2": "MED"
                                },
                                {
                                    "0": "10552",
                                    "1": "880,50",
                                    "2": "LARGE"
                                },
                                {
                                    "0": "10798",
                                    "1": "446,60",
                                    "2": "MED"
                                },
                                {
                                    "0": "10452",
                                    "1": "2096,00",
                                    "2": "LARGE"
                                },
                                {
                                    "0": "10698",
                                    "1": "3600,73",
                                    "2": "LARGE"
                                },
                                {
                                    "0": "10944",
                                    "1": "1139,10",
                                    "2": "LARGE"
                                },
                                {
                                    "0": "10993",
                                    "1": "6527,25",
                                    "2": "LARGE"
                                },
                                {
                                    "0": "10257",
                                    "1": "1119,90",
                                    "2": "LARGE"
                                },
                                {
                                    "0": "10352",
                                    "1": "154,00",
                                    "2": "MED"
                                },
                                {
                                    "0": "10518",
                                    "1": "4150,05",
                                    "2": "LARGE"
                                },
                                {
                                    "0": "10589",
                                    "1": "72,00",
                                    "2": "SMALL"
                                },
                                {
                                    "0": "10755",
                                    "1": "2598,00",
                                    "2": "LARGE"
                                },
                                {
                                    "0": "11016",
                                    "1": "491,50",
                                    "2": "MED"
                                },
                                {
                                    "0": "10873",
                                    "1": "336,80",
                                    "2": "MED"
                                },
                                {
                                    "0": "10469",
                                    "1": "1125,50",
                                    "2": "LARGE"
                                },
                                {
                                    "0": "10804",
                                    "1": "2290,40",
                                    "2": "LARGE"
                                },
                                {
                                    "0": "10446",
                                    "1": "273,60",
                                    "2": "MED"
                                },
                                {
                                    "0": "10495",
                                    "1": "278,00",
                                    "2": "MED"
                                },
                                {
                                    "0": "10681",
                                    "1": "1327,00",
                                    "2": "LARGE"
                                },
                                {
                                    "0": "10781",
                                    "1": "1132,35",
                                    "2": "LARGE"
                                },
                                {
                                    "0": "10830",
                                    "1": "1974,00",
                                    "2": "LARGE"
                                },
                                {
                                    "0": "10561",
                                    "1": "2844,50",
                                    "2": "LARGE"
                                },
                                {
                                    "0": "10638",
                                    "1": "2720,05",
                                    "2": "LARGE"
                                },
                                {
                                    "0": "10489",
                                    "1": "502,20",
                                    "2": "LARGE"
                                },
                                {
                                    "0": "10538",
                                    "1": "139,80",
                                    "2": "MED"
                                },
                                {
                                    "0": "10612",
                                    "1": "6375,00",
                                    "2": "LARGE"
                                },
                                {
                                    "0": "10661",
                                    "1": "703,25",
                                    "2": "LARGE"
                                },
                                {
                                    "0": "10761",
                                    "1": "629,50",
                                    "2": "LARGE"
                                },
                                {
                                    "0": "11010",
                                    "1": "645,00",
                                    "2": "LARGE"
                                },
                                {
                                    "0": "10369",
                                    "1": "2527,20",
                                    "2": "LARGE"
                                },
                                {
                                    "0": "10867",
                                    "1": "98,40",
                                    "2": "SMALL"
                                },
                                {
                                    "0": "10383",
                                    "1": "899,00",
                                    "2": "LARGE"
                                },
                                {
                                    "0": "10632",
                                    "1": "620,00",
                                    "2": "LARGE"
                                },
                                {
                                    "0": "10973",
                                    "1": "291,55",
                                    "2": "MED"
                                },
                                {
                                    "0": "11059",
                                    "1": "1838,00",
                                    "2": "LARGE"
                                },
                                {
                                    "0": "10569",
                                    "1": "977,50",
                                    "2": "LARGE"
                                },
                                {
                                    "0": "10581",
                                    "1": "387,50",
                                    "2": "MED"
                                },
                                {
                                    "0": "10618",
                                    "1": "2697,50",
                                    "2": "LARGE"
                                },
                                {
                                    "0": "10426",
                                    "1": "338,20",
                                    "2": "MED"
                                },
                                {
                                    "0": "10432",
                                    "1": "485,00",
                                    "2": "MED"
                                },
                                {
                                    "0": "10675",
                                    "1": "1423,00",
                                    "2": "LARGE"
                                },
                                {
                                    "0": "10924",
                                    "1": "2034,50",
                                    "2": "LARGE"
                                },
                                {
                                    "0": "10277",
                                    "1": "1200,80",
                                    "2": "LARGE"
                                },
                                {
                                    "0": "10283",
                                    "1": "1414,80",
                                    "2": "LARGE"
                                },
                                {
                                    "0": "10326",
                                    "1": "982,00",
                                    "2": "LARGE"
                                },
                                {
                                    "0": "10332",
                                    "1": "2233,60",
                                    "2": "LARGE"
                                },
                                {
                                    "0": "10775",
                                    "1": "228,00",
                                    "2": "MED"
                                },
                                {
                                    "0": "10818",
                                    "1": "833,00",
                                    "2": "LARGE"
                                },
                                {
                                    "0": "10824",
                                    "1": "250,80",
                                    "2": "MED"
                                },
                                {
                                    "0": "10475",
                                    "1": "1770,80",
                                    "2": "LARGE"
                                },
                                {
                                    "0": "10724",
                                    "1": "638,50",
                                    "2": "LARGE"
                                },
                                {
                                    "0": "10967",
                                    "1": "910,40",
                                    "2": "LARGE"
                                },
                                {
                                    "0": "10526",
                                    "1": "1344,00",
                                    "2": "LARGE"
                                },
                                {
                                    "0": "10575",
                                    "1": "2147,40",
                                    "2": "LARGE"
                                },
                                {
                                    "0": "11067",
                                    "1": "86,85",
                                    "2": "SMALL"
                                },
                                {
                                    "0": "10530",
                                    "1": "4180,00",
                                    "2": "LARGE"
                                },
                                {
                                    "0": "10862",
                                    "1": "581,00",
                                    "2": "LARGE"
                                },
                                {
                                    "0": "10553",
                                    "1": "1546,30",
                                    "2": "LARGE"
                                },
                                {
                                    "0": "10885",
                                    "1": "1209,00",
                                    "2": "LARGE"
                                },
                                {
                                    "0": "10484",
                                    "1": "386,20",
                                    "2": "MED"
                                },
                                {
                                    "0": "10816",
                                    "1": "8891,00",
                                    "2": "LARGE"
                                },
                                {
                                    "0": "10507",
                                    "1": "881,25",
                                    "2": "LARGE"
                                },
                                {
                                    "0": "10839",
                                    "1": "919,50",
                                    "2": "LARGE"
                                },
                                {
                                    "0": "10361",
                                    "1": "2273,60",
                                    "2": "LARGE"
                                },
                                {
                                    "0": "10367",
                                    "1": "834,20",
                                    "2": "LARGE"
                                },
                                {
                                    "0": "10438",
                                    "1": "567,50",
                                    "2": "LARGE"
                                },
                                {
                                    "0": "11025",
                                    "1": "300,00",
                                    "2": "MED"
                                },
                                {
                                    "0": "11031",
                                    "1": "2393,50",
                                    "2": "LARGE"
                                },
                                {
                                    "0": "10338",
                                    "1": "934,50",
                                    "2": "LARGE"
                                },
                                {
                                    "0": "10344",
                                    "1": "2856,00",
                                    "2": "LARGE"
                                },
                                {
                                    "0": "10461",
                                    "1": "2051,60",
                                    "2": "LARGE"
                                },
                                {
                                    "0": "11002",
                                    "1": "1902,00",
                                    "2": "LARGE"
                                },
                                {
                                    "0": "11008",
                                    "1": "4903,50",
                                    "2": "LARGE"
                                },
                                {
                                    "0": "10315",
                                    "1": "516,80",
                                    "2": "LARGE"
                                },
                                {
                                    "0": "10908",
                                    "1": "698,00",
                                    "2": "LARGE"
                                },
                                {
                                    "0": "10979",
                                    "1": "4813,50",
                                    "2": "LARGE"
                                },
                                {
                                    "0": "10292",
                                    "1": "1296,00",
                                    "2": "LARGE"
                                },
                                {
                                    "0": "10833",
                                    "1": "1007,70",
                                    "2": "LARGE"
                                },
                                {
                                    "0": "11054",
                                    "1": "305,00",
                                    "2": "MED"
                                },
                                {
                                    "0": "10607",
                                    "1": "6475,40",
                                    "2": "LARGE"
                                },
                                {
                                    "0": "10785",
                                    "1": "387,50",
                                    "2": "MED"
                                },
                                {
                                    "0": "10856",
                                    "1": "660,00",
                                    "2": "LARGE"
                                },
                                {
                                    "0": "10939",
                                    "1": "750,00",
                                    "2": "LARGE"
                                },
                                {
                                    "0": "10252",
                                    "1": "3730,00",
                                    "2": "LARGE"
                                },
                                {
                                    "0": "10547",
                                    "1": "1908,00",
                                    "2": "LARGE"
                                },
                                {
                                    "0": "10407",
                                    "1": "1194,00",
                                    "2": "LARGE"
                                },
                                {
                                    "0": "10653",
                                    "1": "1203,50",
                                    "2": "LARGE"
                                },
                                {
                                    "0": "10739",
                                    "1": "240,00",
                                    "2": "MED"
                                },
                                {
                                    "0": "10902",
                                    "1": "1015,80",
                                    "2": "LARGE"
                                },
                                {
                                    "0": "10985",
                                    "1": "2248,20",
                                    "2": "LARGE"
                                },
                                {
                                    "0": "10261",
                                    "1": "448,00",
                                    "2": "MED"
                                },
                                {
                                    "0": "10298",
                                    "1": "3127,00",
                                    "2": "LARGE"
                                },
                                {
                                    "0": "10593",
                                    "1": "2493,00",
                                    "2": "LARGE"
                                },
                                {
                                    "0": "11048",
                                    "1": "525,00",
                                    "2": "LARGE"
                                },
                                {
                                    "0": "10355",
                                    "1": "480,00",
                                    "2": "MED"
                                },
                                {
                                    "0": "10693",
                                    "1": "2334,00",
                                    "2": "LARGE"
                                },
                                {
                                    "0": "10699",
                                    "1": "114,00",
                                    "2": "MED"
                                },
                                {
                                    "0": "10948",
                                    "1": "2362,25",
                                    "2": "LARGE"
                                },
                                {
                                    "0": "10793",
                                    "1": "191,10",
                                    "2": "MED"
                                },
                                {
                                    "0": "10799",
                                    "1": "1585,00",
                                    "2": "LARGE"
                                },
                                {
                                    "0": "10401",
                                    "1": "3868,60",
                                    "2": "LARGE"
                                },
                                {
                                    "0": "10647",
                                    "1": "636,00",
                                    "2": "LARGE"
                                },
                                {
                                    "0": "10991",
                                    "1": "2870,00",
                                    "2": "LARGE"
                                },
                                {
                                    "0": "10304",
                                    "1": "954,40",
                                    "2": "LARGE"
                                },
                                {
                                    "0": "10501",
                                    "1": "149,00",
                                    "2": "MED"
                                },
                                {
                                    "0": "10845",
                                    "1": "4059,00",
                                    "2": "LARGE"
                                },
                                {
                                    "0": "11042",
                                    "1": "405,75",
                                    "2": "MED"
                                },
                                {
                                    "0": "10447",
                                    "1": "914,40",
                                    "2": "LARGE"
                                },
                                {
                                    "0": "10613",
                                    "1": "358,00",
                                    "2": "MED"
                                },
                                {
                                    "0": "10258",
                                    "1": "2018,60",
                                    "2": "LARGE"
                                },
                                {
                                    "0": "10541",
                                    "1": "2162,80",
                                    "2": "LARGE"
                                },
                                {
                                    "0": "10590",
                                    "1": "1140,00",
                                    "2": "LARGE"
                                },
                                {
                                    "0": "10756",
                                    "1": "2487,50",
                                    "2": "LARGE"
                                },
                                {
                                    "0": "10398",
                                    "1": "2736,00",
                                    "2": "LARGE"
                                },
                                {
                                    "0": "10825",
                                    "1": "1030,76",
                                    "2": "LARGE"
                                },
                                {
                                    "0": "10899",
                                    "1": "144,00",
                                    "2": "MED"
                                },
                                {
                                    "0": "11062",
                                    "1": "508,00",
                                    "2": "LARGE"
                                },
                                {
                                    "0": "10421",
                                    "1": "1273,20",
                                    "2": "LARGE"
                                },
                                {
                                    "0": "10470",
                                    "1": "1820,80",
                                    "2": "LARGE"
                                },
                                {
                                    "0": "10876",
                                    "1": "917,00",
                                    "2": "LARGE"
                                },
                                {
                                    "0": "10782",
                                    "1": "12,50",
                                    "2": "SMALL"
                                },
                                {
                                    "0": "10633",
                                    "1": "6483,05",
                                    "2": "LARGE"
                                },
                                {
                                    "0": "10639",
                                    "1": "500,00",
                                    "2": "MED"
                                },
                                {
                                    "0": "10805",
                                    "1": "2775,00",
                                    "2": "LARGE"
                                },
                                {
                                    "0": "10490",
                                    "1": "3163,20",
                                    "2": "LARGE"
                                },
                                {
                                    "0": "10564",
                                    "1": "1299,00",
                                    "2": "LARGE"
                                },
                                {
                                    "0": "10733",
                                    "1": "1459,00",
                                    "2": "LARGE"
                                },
                                {
                                    "0": "10513",
                                    "1": "2427,50",
                                    "2": "LARGE"
                                },
                                {
                                    "0": "10868",
                                    "1": "2004,60",
                                    "2": "LARGE"
                                },
                                {
                                    "0": "10584",
                                    "1": "625,00",
                                    "2": "LARGE"
                                },
                                {
                                    "0": "10713",
                                    "1": "2827,90",
                                    "2": "LARGE"
                                },
                                {
                                    "0": "10762",
                                    "1": "4337,00",
                                    "2": "LARGE"
                                },
                                {
                                    "0": "10321",
                                    "1": "144,00",
                                    "2": "MED"
                                },
                                {
                                    "0": "10570",
                                    "1": "2595,00",
                                    "2": "LARGE"
                                },
                                {
                                    "0": "10335",
                                    "1": "2545,20",
                                    "2": "LARGE"
                                },
                                {
                                    "0": "10384",
                                    "1": "2222,40",
                                    "2": "LARGE"
                                },
                                {
                                    "0": "10925",
                                    "1": "559,00",
                                    "2": "LARGE"
                                },
                                {
                                    "0": "10962",
                                    "1": "3584,00",
                                    "2": "LARGE"
                                },
                                {
                                    "0": "11011",
                                    "1": "960,00",
                                    "2": "LARGE"
                                },
                                {
                                    "0": "10278",
                                    "1": "1488,80",
                                    "2": "LARGE"
                                },
                                {
                                    "0": "10284",
                                    "1": "1452,00",
                                    "2": "LARGE"
                                },
                                {
                                    "0": "10521",
                                    "1": "225,50",
                                    "2": "MED"
                                },
                                {
                                    "0": "10527",
                                    "1": "1670,00",
                                    "2": "LARGE"
                                },
                                {
                                    "0": "10770",
                                    "1": "315,00",
                                    "2": "MED"
                                },
                                {
                                    "0": "10776",
                                    "1": "6984,50",
                                    "2": "LARGE"
                                },
                                {
                                    "0": "10627",
                                    "1": "1264,50",
                                    "2": "LARGE"
                                },
                                {
                                    "0": "10670",
                                    "1": "2301,75",
                                    "2": "LARGE"
                                },
                                {
                                    "0": "10676",
                                    "1": "534,85",
                                    "2": "LARGE"
                                },
                                {
                                    "0": "10327",
                                    "1": "2262,50",
                                    "2": "LARGE"
                                },
                                {
                                    "0": "10576",
                                    "1": "838,45",
                                    "2": "LARGE"
                                },
                                {
                                    "0": "10819",
                                    "1": "477,00",
                                    "2": "MED"
                                },
                                {
                                    "0": "11068",
                                    "1": "2384,80",
                                    "2": "LARGE"
                                },
                                {
                                    "0": "10378",
                                    "1": "103,20",
                                    "2": "MED"
                                },
                                {
                                    "0": "10427",
                                    "1": "651,00",
                                    "2": "LARGE"
                                },
                                {
                                    "0": "10919",
                                    "1": "1122,80",
                                    "2": "LARGE"
                                },
                                {
                                    "0": "10968",
                                    "1": "1408,00",
                                    "2": "LARGE"
                                },
                                {
                                    "0": "10364",
                                    "1": "950,00",
                                    "2": "LARGE"
                                },
                                {
                                    "0": "10696",
                                    "1": "996,00",
                                    "2": "LARGE"
                                },
                                {
                                    "0": "11028",
                                    "1": "2160,00",
                                    "2": "LARGE"
                                },
                                {
                                    "0": "10387",
                                    "1": "1058,40",
                                    "2": "LARGE"
                                },
                                {
                                    "0": "10719",
                                    "1": "1125,67",
                                    "2": "LARGE"
                                },
                                {
                                    "0": "11051",
                                    "1": "45,00",
                                    "2": "SMALL"
                                },
                                {
                                    "0": "10410",
                                    "1": "802,00",
                                    "2": "LARGE"
                                },
                                {
                                    "0": "10481",
                                    "1": "1472,00",
                                    "2": "LARGE"
                                },
                                {
                                    "0": "10742",
                                    "1": "3118,00",
                                    "2": "LARGE"
                                },
                                {
                                    "0": "10813",
                                    "1": "648,00",
                                    "2": "LARGE"
                                },
                                {
                                    "0": "11074",
                                    "1": "244,30",
                                    "2": "MED"
                                },
                                {
                                    "0": "10458",
                                    "1": "3891,00",
                                    "2": "LARGE"
                                },
                                {
                                    "0": "10556",
                                    "1": "835,20",
                                    "2": "LARGE"
                                },
                                {
                                    "0": "10888",
                                    "1": "605,00",
                                    "2": "LARGE"
                                },
                                {
                                    "0": "10272",
                                    "1": "1456,00",
                                    "2": "LARGE"
                                },
                                {
                                    "0": "10533",
                                    "1": "2295,20",
                                    "2": "LARGE"
                                },
                                {
                                    "0": "10859",
                                    "1": "1438,25",
                                    "2": "LARGE"
                                },
                                {
                                    "0": "10936",
                                    "1": "570,00",
                                    "2": "LARGE"
                                },
                                {
                                    "0": "10295",
                                    "1": "121,60",
                                    "2": "MED"
                                },
                                {
                                    "0": "10510",
                                    "1": "4735,44",
                                    "2": "LARGE"
                                },
                                {
                                    "0": "10836",
                                    "1": "4705,50",
                                    "2": "LARGE"
                                },
                                {
                                    "0": "10959",
                                    "1": "155,00",
                                    "2": "MED"
                                },
                                {
                                    "0": "10318",
                                    "1": "240,40",
                                    "2": "MED"
                                },
                                {
                                    "0": "10487",
                                    "1": "925,10",
                                    "2": "LARGE"
                                },
                                {
                                    "0": "10905",
                                    "1": "360,00",
                                    "2": "MED"
                                },
                                {
                                    "0": "10982",
                                    "1": "1014,00",
                                    "2": "LARGE"
                                },
                                {
                                    "0": "10341",
                                    "1": "412,00",
                                    "2": "MED"
                                },
                                {
                                    "0": "10464",
                                    "1": "1848,00",
                                    "2": "LARGE"
                                },
                                {
                                    "0": "10882",
                                    "1": "988,40",
                                    "2": "LARGE"
                                },
                                {
                                    "0": "11005",
                                    "1": "586,00",
                                    "2": "LARGE"
                                },
                                {
                                    "0": "10358",
                                    "1": "452,00",
                                    "2": "MED"
                                },
                                {
                                    "0": "10441",
                                    "1": "1755,00",
                                    "2": "LARGE"
                                },
                                {
                                    "0": "10690",
                                    "1": "1150,00",
                                    "2": "LARGE"
                                },
                                {
                                    "0": "10951",
                                    "1": "482,90",
                                    "2": "MED"
                                },
                                {
                                    "0": "11034",
                                    "1": "554,40",
                                    "2": "LARGE"
                                },
                                {
                                    "0": "10264",
                                    "1": "724,50",
                                    "2": "LARGE"
                                },
                                {
                                    "0": "10596",
                                    "1": "1476,10",
                                    "2": "LARGE"
                                },
                                {
                                    "0": "10750",
                                    "1": "1871,25",
                                    "2": "LARGE"
                                },
                                {
                                    "0": "11045",
                                    "1": "1309,50",
                                    "2": "LARGE"
                                },
                                {
                                    "0": "10312",
                                    "1": "1614,80",
                                    "2": "LARGE"
                                },
                                {
                                    "0": "10395",
                                    "1": "2333,20",
                                    "2": "LARGE"
                                },
                                {
                                    "0": "10656",
                                    "1": "671,35",
                                    "2": "LARGE"
                                },
                                {
                                    "0": "10988",
                                    "1": "3772,00",
                                    "2": "LARGE"
                                },
                                {
                                    "0": "10347",
                                    "1": "928,00",
                                    "2": "LARGE"
                                },
                                {
                                    "0": "10999",
                                    "1": "1261,00",
                                    "2": "LARGE"
                                },
                                {
                                    "0": "10450",
                                    "1": "531,40",
                                    "2": "LARGE"
                                },
                                {
                                    "0": "10604",
                                    "1": "256,50",
                                    "2": "MED"
                                },
                                {
                                    "0": "10942",
                                    "1": "560,00",
                                    "2": "LARGE"
                                },
                                {
                                    "0": "10301",
                                    "1": "755,00",
                                    "2": "LARGE"
                                },
                                {
                                    "0": "10504",
                                    "1": "1388,50",
                                    "2": "LARGE"
                                },
                                {
                                    "0": "10842",
                                    "1": "975,00",
                                    "2": "LARGE"
                                },
                                {
                                    "0": "10404",
                                    "1": "1675,00",
                                    "2": "LARGE"
                                },
                                {
                                    "0": "10650",
                                    "1": "1820,20",
                                    "2": "LARGE"
                                },
                                {
                                    "0": "10896",
                                    "1": "750,50",
                                    "2": "LARGE"
                                },
                                {
                                    "0": "10255",
                                    "1": "2490,50",
                                    "2": "LARGE"
                                },
                                {
                                    "0": "10550",
                                    "1": "749,00",
                                    "2": "LARGE"
                                },
                                {
                                    "0": "10796",
                                    "1": "2878,08",
                                    "2": "LARGE"
                                },
                                {
                                    "0": "10281",
                                    "1": "86,50",
                                    "2": "SMALL"
                                },
                                {
                                    "0": "10779",
                                    "1": "1335,00",
                                    "2": "LARGE"
                                },
                                {
                                    "0": "10945",
                                    "1": "245,00",
                                    "2": "MED"
                                },
                                {
                                    "0": "10375",
                                    "1": "338,00",
                                    "2": "MED"
                                },
                                {
                                    "0": "10424",
                                    "1": "11493,20",
                                    "2": "LARGE"
                                },
                                {
                                    "0": "10922",
                                    "1": "742,50",
                                    "2": "LARGE"
                                },
                                {
                                    "0": "10493",
                                    "1": "676,00",
                                    "2": "LARGE"
                                },
                                {
                                    "0": "10567",
                                    "1": "3109,00",
                                    "2": "LARGE"
                                },
                                {
                                    "0": "10730",
                                    "1": "509,75",
                                    "2": "LARGE"
                                },
                                {
                                    "0": "10544",
                                    "1": "417,20",
                                    "2": "MED"
                                },
                                {
                                    "0": "10753",
                                    "1": "88,00",
                                    "2": "SMALL"
                                },
                                {
                                    "0": "10802",
                                    "1": "3923,75",
                                    "2": "LARGE"
                                },
                                {
                                    "0": "10444",
                                    "1": "1031,70",
                                    "2": "LARGE"
                                },
                                {
                                    "0": "10610",
                                    "1": "399,00",
                                    "2": "MED"
                                },
                                {
                                    "0": "10616",
                                    "1": "5032,00",
                                    "2": "LARGE"
                                },
                                {
                                    "0": "10687",
                                    "1": "6201,90",
                                    "2": "LARGE"
                                },
                                {
                                    "0": "10853",
                                    "1": "625,00",
                                    "2": "LARGE"
                                },
                                {
                                    "0": "10467",
                                    "1": "235,20",
                                    "2": "MED"
                                },
                                {
                                    "0": "10659",
                                    "1": "1291,60",
                                    "2": "LARGE"
                                },
                                {
                                    "0": "10736",
                                    "1": "997,00",
                                    "2": "LARGE"
                                },
                                {
                                    "0": "10587",
                                    "1": "807,38",
                                    "2": "LARGE"
                                },
                                {
                                    "0": "10636",
                                    "1": "629,50",
                                    "2": "LARGE"
                                },
                                {
                                    "0": "10710",
                                    "1": "93,50",
                                    "2": "SMALL"
                                },
                                {
                                    "0": "10759",
                                    "1": "320,00",
                                    "2": "MED"
                                },
                                {
                                    "0": "10275",
                                    "1": "307,20",
                                    "2": "MED"
                                },
                                {
                                    "0": "10524",
                                    "1": "3192,65",
                                    "2": "LARGE"
                                },
                                {
                                    "0": "10773",
                                    "1": "2216,25",
                                    "2": "LARGE"
                                },
                                {
                                    "0": "11022",
                                    "1": "1402,00",
                                    "2": "LARGE"
                                },
                                {
                                    "0": "10381",
                                    "1": "112,00",
                                    "2": "MED"
                                },
                                {
                                    "0": "10418",
                                    "1": "1814,80",
                                    "2": "LARGE"
                                },
                                {
                                    "0": "10430",
                                    "1": "5796,00",
                                    "2": "LARGE"
                                },
                                {
                                    "0": "10879",
                                    "1": "611,30",
                                    "2": "LARGE"
                                },
                                {
                                    "0": "10916",
                                    "1": "686,70",
                                    "2": "LARGE"
                                },
                                {
                                    "0": "10928",
                                    "1": "137,50",
                                    "2": "MED"
                                },
                                {
                                    "0": "10324",
                                    "1": "6155,90",
                                    "2": "LARGE"
                                },
                                {
                                    "0": "11071",
                                    "1": "510,00",
                                    "2": "LARGE"
                                },
                                {
                                    "0": "10630",
                                    "1": "918,00",
                                    "2": "LARGE"
                                },
                                {
                                    "0": "10667",
                                    "1": "1921,00",
                                    "2": "LARGE"
                                },
                                {
                                    "0": "10679",
                                    "1": "660,00",
                                    "2": "LARGE"
                                },
                                {
                                    "0": "10716",
                                    "1": "706,00",
                                    "2": "LARGE"
                                },
                                {
                                    "0": "10865",
                                    "1": "17250,00",
                                    "2": "LARGE"
                                },
                                {
                                    "0": "10965",
                                    "1": "848,00",
                                    "2": "LARGE"
                                },
                                {
                                    "0": "10971",
                                    "1": "1733,06",
                                    "2": "LARGE"
                                },
                                {
                                    "0": "11014",
                                    "1": "270,20",
                                    "2": "MED"
                                },
                                {
                                    "0": "10573",
                                    "1": "2082,00",
                                    "2": "LARGE"
                                },
                                {
                                    "0": "10822",
                                    "1": "237,90",
                                    "2": "MED"
                                },
                                {
                                    "0": "11065",
                                    "1": "252,56",
                                    "2": "MED"
                                },
                                {
                                    "0": "10624",
                                    "1": "1393,24",
                                    "2": "LARGE"
                                },
                                {
                                    "0": "10673",
                                    "1": "412,35",
                                    "2": "MED"
                                },
                                {
                                    "0": "10722",
                                    "1": "1570,00",
                                    "2": "LARGE"
                                },
                                {
                                    "0": "10459",
                                    "1": "1688,00",
                                    "2": "LARGE"
                                },
                                {
                                    "0": "10791",
                                    "1": "1926,06",
                                    "2": "LARGE"
                                },
                                {
                                    "0": "10436",
                                    "1": "2210,80",
                                    "2": "LARGE"
                                },
                                {
                                    "0": "10768",
                                    "1": "1477,00",
                                    "2": "LARGE"
                                },
                                {
                                    "0": "10505",
                                    "1": "147,90",
                                    "2": "MED"
                                },
                                {
                                    "0": "10837",
                                    "1": "1254,00",
                                    "2": "LARGE"
                                },
                                {
                                    "0": "10482",
                                    "1": "147,00",
                                    "2": "MED"
                                },
                                {
                                    "0": "10814",
                                    "1": "2070,00",
                                    "2": "LARGE"
                                },
                                {
                                    "0": "10290",
                                    "1": "2169,00",
                                    "2": "LARGE"
                                },
                                {
                                    "0": "10296",
                                    "1": "1050,60",
                                    "2": "LARGE"
                                },
                                {
                                    "0": "10883",
                                    "1": "36,00",
                                    "2": "SMALL"
                                },
                                {
                                    "0": "10954",
                                    "1": "1902,10",
                                    "2": "LARGE"
                                },
                                {
                                    "0": "10960",
                                    "1": "276,60",
                                    "2": "MED"
                                },
                                {
                                    "0": "10313",
                                    "1": "182,40",
                                    "2": "MED"
                                },
                                {
                                    "0": "10319",
                                    "1": "1191,20",
                                    "2": "LARGE"
                                },
                                {
                                    "0": "10860",
                                    "1": "519,00",
                                    "2": "LARGE"
                                },
                                {
                                    "0": "10977",
                                    "1": "2233,00",
                                    "2": "LARGE"
                                },
                                {
                                    "0": "10983",
                                    "1": "796,50",
                                    "2": "LARGE"
                                },
                                {
                                    "0": "10342",
                                    "1": "2300,80",
                                    "2": "LARGE"
                                },
                                {
                                    "0": "10413",
                                    "1": "2123,20",
                                    "2": "LARGE"
                                },
                                {
                                    "0": "11006",
                                    "1": "391,58",
                                    "2": "MED"
                                },
                                {
                                    "0": "11077",
                                    "1": "1374,60",
                                    "2": "LARGE"
                                },
                                {
                                    "0": "10267",
                                    "1": "4031,00",
                                    "2": "LARGE"
                                },
                                {
                                    "0": "10390",
                                    "1": "2275,20",
                                    "2": "LARGE"
                                },
                                {
                                    "0": "10488",
                                    "1": "1560,00",
                                    "2": "LARGE"
                                },
                                {
                                    "0": "10931",
                                    "1": "837,00",
                                    "2": "LARGE"
                                },
                                {
                                    "0": "11029",
                                    "1": "1286,80",
                                    "2": "LARGE"
                                },
                                {
                                    "0": "10453",
                                    "1": "453,00",
                                    "2": "MED"
                                },
                                {
                                    "0": "10797",
                                    "1": "420,00",
                                    "2": "MED"
                                },
                                {
                                    "0": "11046",
                                    "1": "1564,00",
                                    "2": "LARGE"
                                },
                                {
                                    "0": "10405",
                                    "1": "400,00",
                                    "2": "MED"
                                },
                                {
                                    "0": "10442",
                                    "1": "1792,00",
                                    "2": "LARGE"
                                },
                                {
                                    "0": "10559",
                                    "1": "547,80",
                                    "2": "LARGE"
                                },
                                {
                                    "0": "10737",
                                    "1": "139,80",
                                    "2": "MED"
                                },
                                {
                                    "0": "10891",
                                    "1": "388,35",
                                    "2": "MED"
                                },
                                {
                                    "0": "10250",
                                    "1": "1813,00",
                                    "2": "LARGE"
                                },
                                {
                                    "0": "10751",
                                    "1": "1701,46",
                                    "2": "LARGE"
                                },
                                {
                                    "0": "11000",
                                    "1": "1075,00",
                                    "2": "LARGE"
                                },
                                {
                                    "0": "10359",
                                    "1": "3654,40",
                                    "2": "LARGE"
                                },
                                {
                                    "0": "10396",
                                    "1": "1903,80",
                                    "2": "LARGE"
                                },
                                {
                                    "0": "10605",
                                    "1": "4326,00",
                                    "2": "LARGE"
                                },
                                {
                                    "0": "10691",
                                    "1": "10164,80",
                                    "2": "LARGE"
                                },
                                {
                                    "0": "10937",
                                    "1": "644,80",
                                    "2": "LARGE"
                                },
                                {
                                    "0": "10545",
                                    "1": "210,00",
                                    "2": "MED"
                                },
                                {
                                    "0": "11037",
                                    "1": "60,00",
                                    "2": "SMALL"
                                },
                                {
                                    "0": "10307",
                                    "1": "424,00",
                                    "2": "MED"
                                },
                                {
                                    "0": "10350",
                                    "1": "713,40",
                                    "2": "LARGE"
                                },
                                {
                                    "0": "10645",
                                    "1": "1535,00",
                                    "2": "LARGE"
                                },
                                {
                                    "0": "10651",
                                    "1": "530,40",
                                    "2": "LARGE"
                                },
                                {
                                    "0": "10256",
                                    "1": "517,80",
                                    "2": "LARGE"
                                },
                                {
                                    "0": "10499",
                                    "1": "1412,00",
                                    "2": "LARGE"
                                },
                                {
                                    "0": "10745",
                                    "1": "4529,80",
                                    "2": "LARGE"
                                },
                                {
                                    "0": "10994",
                                    "1": "990,00",
                                    "2": "LARGE"
                                },
                                {
                                    "0": "10353",
                                    "1": "10741,60",
                                    "2": "LARGE"
                                },
                                {
                                    "0": "10599",
                                    "1": "493,00",
                                    "2": "MED"
                                },
                                {
                                    "0": "10943",
                                    "1": "711,00",
                                    "2": "LARGE"
                                },
                                {
                                    "0": "10376",
                                    "1": "420,00",
                                    "2": "MED"
                                },
                                {
                                    "0": "10874",
                                    "1": "310,00",
                                    "2": "MED"
                                },
                                {
                                    "0": "10731",
                                    "1": "1990,00",
                                    "2": "LARGE"
                                },
                                {
                                    "0": "10897",
                                    "1": "10835,24",
                                    "2": "LARGE"
                                },
                                {
                                    "0": "10946",
                                    "1": "1407,50",
                                    "2": "LARGE"
                                },
                                {
                                    "0": "10496",
                                    "1": "200,00",
                                    "2": "MED"
                                },
                                {
                                    "0": "10754",
                                    "1": "55,20",
                                    "2": "SMALL"
                                },
                                {
                                    "0": "10923",
                                    "1": "936,00",
                                    "2": "LARGE"
                                },
                                {
                                    "0": "10445",
                                    "1": "174,90",
                                    "2": "MED"
                                },
                                {
                                    "0": "10519",
                                    "1": "2356,00",
                                    "2": "LARGE"
                                },
                                {
                                    "0": "10568",
                                    "1": "155,00",
                                    "2": "MED"
                                },
                                {
                                    "0": "10539",
                                    "1": "355,50",
                                    "2": "MED"
                                },
                                {
                                    "0": "10705",
                                    "1": "378,00",
                                    "2": "MED"
                                },
                                {
                                    "0": "10711",
                                    "1": "4451,70",
                                    "2": "LARGE"
                                },
                                {
                                    "0": "10682",
                                    "1": "375,50",
                                    "2": "MED"
                                },
                                {
                                    "0": "10688",
                                    "1": "3490,00",
                                    "2": "LARGE"
                                },
                                {
                                    "0": "10854",
                                    "1": "3490,00",
                                    "2": "LARGE"
                                },
                                {
                                    "0": "10588",
                                    "1": "3900,00",
                                    "2": "LARGE"
                                },
                                {
                                    "0": "10662",
                                    "1": "125,00",
                                    "2": "MED"
                                },
                                {
                                    "0": "10831",
                                    "1": "2684,40",
                                    "2": "LARGE"
                                },
                                {
                                    "0": "10562",
                                    "1": "543,00",
                                    "2": "LARGE"
                                },
                                {
                                    "0": "10611",
                                    "1": "808,00",
                                    "2": "LARGE"
                                },
                                {
                                    "0": "10370",
                                    "1": "1174,00",
                                    "2": "LARGE"
                                },
                                {
                                    "0": "10382",
                                    "1": "2900,00",
                                    "2": "LARGE"
                                },
                                {
                                    "0": "10619",
                                    "1": "1260,00",
                                    "2": "LARGE"
                                },
                                {
                                    "0": "10631",
                                    "1": "62,00",
                                    "2": "SMALL"
                                },
                                {
                                    "0": "10880",
                                    "1": "1875,00",
                                    "2": "LARGE"
                                },
                                {
                                    "0": "10276",
                                    "1": "420,00",
                                    "2": "MED"
                                },
                                {
                                    "0": "10725",
                                    "1": "287,80",
                                    "2": "MED"
                                },
                                {
                                    "0": "10774",
                                    "1": "875,00",
                                    "2": "LARGE"
                                },
                                {
                                    "0": "10333",
                                    "1": "954,00",
                                    "2": "LARGE"
                                },
                                {
                                    "0": "10419",
                                    "1": "2208,00",
                                    "2": "LARGE"
                                },
                                {
                                    "0": "10582",
                                    "1": "330,00",
                                    "2": "MED"
                                },
                                {
                                    "0": "10668",
                                    "1": "694,75",
                                    "2": "LARGE"
                                },
                                {
                                    "0": "10974",
                                    "1": "439,00",
                                    "2": "MED"
                                },
                                {
                                    "0": "11023",
                                    "1": "1500,00",
                                    "2": "LARGE"
                                },
                                {
                                    "0": "11060",
                                    "1": "266,00",
                                    "2": "MED"
                                },
                                {
                                    "0": "10717",
                                    "1": "1331,75",
                                    "2": "LARGE"
                                },
                                {
                                    "0": "10966",
                                    "1": "1255,60",
                                    "2": "LARGE"
                                },
                                {
                                    "0": "10817",
                                    "1": "11490,70",
                                    "2": "LARGE"
                                },
                                {
                                    "0": "10425",
                                    "1": "480,00",
                                    "2": "MED"
                                },
                                {
                                    "0": "10674",
                                    "1": "45,00",
                                    "2": "SMALL"
                                },
                                {
                                    "0": "10917",
                                    "1": "365,89",
                                    "2": "MED"
                                },
                                {
                                    "0": "10476",
                                    "1": "182,40",
                                    "2": "MED"
                                },
                                {
                                    "0": "10525",
                                    "1": "846,00",
                                    "2": "LARGE"
                                },
                                {
                                    "0": "11017",
                                    "1": "6750,00",
                                    "2": "LARGE"
                                },
                                {
                                    "0": "11066",
                                    "1": "928,75",
                                    "2": "LARGE"
                                },
                                {
                                    "0": "10293",
                                    "1": "848,70",
                                    "2": "LARGE"
                                },
                                {
                                    "0": "10625",
                                    "1": "479,75",
                                    "2": "MED"
                                },
                                {
                                    "0": "10957",
                                    "1": "1762,70",
                                    "2": "LARGE"
                                },
                                {
                                    "0": "10270",
                                    "1": "1376,00",
                                    "2": "LARGE"
                                },
                                {
                                    "0": "10602",
                                    "1": "65,00",
                                    "2": "SMALL"
                                },
                                {
                                    "0": "10934",
                                    "1": "500,00",
                                    "2": "MED"
                                },
                                {
                                    "0": "10508",
                                    "1": "240,00",
                                    "2": "MED"
                                },
                                {
                                    "0": "10579",
                                    "1": "317,75",
                                    "2": "MED"
                                },
                                {
                                    "0": "10840",
                                    "1": "264,00",
                                    "2": "MED"
                                },
                                {
                                    "0": "10911",
                                    "1": "858,00",
                                    "2": "LARGE"
                                },
                                {
                                    "0": "10433",
                                    "1": "851,20",
                                    "2": "LARGE"
                                },
                                {
                                    "0": "10765",
                                    "1": "1684,00",
                                    "2": "LARGE"
                                },
                                {
                                    "0": "10863",
                                    "1": "519,00",
                                    "2": "LARGE"
                                },
                                {
                                    "0": "10462",
                                    "1": "156,00",
                                    "2": "MED"
                                },
                                {
                                    "0": "10788",
                                    "1": "770,00",
                                    "2": "LARGE"
                                },
                                {
                                    "0": "11049",
                                    "1": "342,00",
                                    "2": "MED"
                                },
                                {
                                    "0": "10362",
                                    "1": "1549,60",
                                    "2": "LARGE"
                                },
                                {
                                    "0": "10485",
                                    "1": "1760,00",
                                    "2": "LARGE"
                                },
                                {
                                    "0": "10811",
                                    "1": "852,00",
                                    "2": "LARGE"
                                },
                                {
                                    "0": "11026",
                                    "1": "1030,00",
                                    "2": "LARGE"
                                },
                                {
                                    "0": "10339",
                                    "1": "3463,20",
                                    "2": "LARGE"
                                },
                                {
                                    "0": "10416",
                                    "1": "720,00",
                                    "2": "LARGE"
                                },
                                {
                                    "0": "10834",
                                    "1": "1508,12",
                                    "2": "LARGE"
                                },
                                {
                                    "0": "11003",
                                    "1": "326,00",
                                    "2": "MED"
                                },
                                {
                                    "0": "10316",
                                    "1": "2835,00",
                                    "2": "LARGE"
                                },
                                {
                                    "0": "10439",
                                    "1": "1078,00",
                                    "2": "LARGE"
                                },
                                {
                                    "0": "10857",
                                    "1": "2630,95",
                                    "2": "LARGE"
                                },
                                {
                                    "0": "10980",
                                    "1": "310,00",
                                    "2": "MED"
                                },
                                {
                                    "0": "10299",
                                    "1": "349,50",
                                    "2": "MED"
                                },
                                {
                                    "0": "10548",
                                    "1": "275,10",
                                    "2": "MED"
                                },
                                {
                                    "0": "10702",
                                    "1": "330,00",
                                    "2": "MED"
                                },
                                {
                                    "0": "10393",
                                    "1": "3302,60",
                                    "2": "LARGE"
                                },
                                {
                                    "0": "10608",
                                    "1": "1064,00",
                                    "2": "LARGE"
                                },
                                {
                                    "0": "10903",
                                    "1": "932,05",
                                    "2": "LARGE"
                                },
                                {
                                    "0": "10940",
                                    "1": "360,00",
                                    "2": "MED"
                                },
                                {
                                    "0": "10997",
                                    "1": "1980,00",
                                    "2": "LARGE"
                                },
                                {
                                    "0": "10310",
                                    "1": "336,00",
                                    "2": "MED"
                                },
                                {
                                    "0": "10642",
                                    "1": "870,00",
                                    "2": "LARGE"
                                },
                                {
                                    "0": "10654",
                                    "1": "668,70",
                                    "2": "LARGE"
                                },
                                {
                                    "0": "10986",
                                    "1": "2220,00",
                                    "2": "LARGE"
                                },
                                {
                                    "0": "10456",
                                    "1": "656,00",
                                    "2": "LARGE"
                                },
                                {
                                    "0": "10794",
                                    "1": "393,45",
                                    "2": "MED"
                                },
                                {
                                    "0": "10800",
                                    "1": "1632,15",
                                    "2": "LARGE"
                                },
                                {
                                    "0": "11043",
                                    "1": "210,00",
                                    "2": "MED"
                                },
                                {
                                    "0": "10356",
                                    "1": "1106,40",
                                    "2": "LARGE"
                                },
                                {
                                    "0": "10694",
                                    "1": "4825,00",
                                    "2": "LARGE"
                                },
                                {
                                    "0": "10848",
                                    "1": "931,50",
                                    "2": "LARGE"
                                },
                                {
                                    "0": "10253",
                                    "1": "1444,80",
                                    "2": "LARGE"
                                },
                                {
                                    "0": "10502",
                                    "1": "816,30",
                                    "2": "LARGE"
                                },
                                {
                                    "0": "10748",
                                    "1": "2196,00",
                                    "2": "LARGE"
                                },
                                {
                                    "0": "10402",
                                    "1": "2713,50",
                                    "2": "LARGE"
                                },
                                {
                                    "0": "10648",
                                    "1": "382,50",
                                    "2": "MED"
                                },
                                {
                                    "0": "10894",
                                    "1": "2898,00",
                                    "2": "LARGE"
                                },
                                {
                                    "0": "10542",
                                    "1": "493,80",
                                    "2": "MED"
                                },
                                {
                                    "0": "10708",
                                    "1": "180,40",
                                    "2": "MED"
                                },
                                {
                                    "0": "11040",
                                    "1": "200,00",
                                    "2": "MED"
                                },
                                {
                                    "0": "10399",
                                    "1": "1765,60",
                                    "2": "LARGE"
                                },
                                {
                                    "0": "10565",
                                    "1": "711,00",
                                    "2": "LARGE"
                                },
                                {
                                    "0": "11063",
                                    "1": "1445,50",
                                    "2": "LARGE"
                                },
                                {
                                    "0": "10259",
                                    "1": "100,80",
                                    "2": "MED"
                                },
                                {
                                    "0": "10422",
                                    "1": "49,80",
                                    "2": "SMALL"
                                },
                                {
                                    "0": "10591",
                                    "1": "812,50",
                                    "2": "LARGE"
                                },
                                {
                                    "0": "10828",
                                    "1": "932,00",
                                    "2": "LARGE"
                                },
                                {
                                    "0": "10777",
                                    "1": "280,00",
                                    "2": "MED"
                                },
                                {
                                    "0": "10851",
                                    "1": "2740,00",
                                    "2": "LARGE"
                                },
                                {
                                    "0": "10900",
                                    "1": "45,00",
                                    "2": "SMALL"
                                },
                                {
                                    "0": "10634",
                                    "1": "4985,50",
                                    "2": "LARGE"
                                },
                                {
                                    "0": "10877",
                                    "1": "2086,00",
                                    "2": "LARGE"
                                },
                                {
                                    "0": "10516",
                                    "1": "2614,50",
                                    "2": "LARGE"
                                },
                                {
                                    "0": "10585",
                                    "1": "142,50",
                                    "2": "MED"
                                },
                                {
                                    "0": "10757",
                                    "1": "3082,00",
                                    "2": "LARGE"
                                },
                                {
                                    "0": "10685",
                                    "1": "801,10",
                                    "2": "LARGE"
                                },
                                {
                                    "0": "10734",
                                    "1": "1498,35",
                                    "2": "LARGE"
                                },
                                {
                                    "0": "10808",
                                    "1": "1660,00",
                                    "2": "LARGE"
                                },
                                {
                                    "0": "10287",
                                    "1": "924,00",
                                    "2": "LARGE"
                                },
                                {
                                    "0": "10465",
                                    "1": "2719,00",
                                    "2": "LARGE"
                                },
                                {
                                    "0": "10536",
                                    "1": "2085,00",
                                    "2": "LARGE"
                                },
                                {
                                    "0": "10714",
                                    "1": "2941,00",
                                    "2": "LARGE"
                                },
                                {
                                    "0": "10963",
                                    "1": "68,00",
                                    "2": "SMALL"
                                },
                                {
                                    "0": "10571",
                                    "1": "647,75",
                                    "2": "LARGE"
                                },
                                {
                                    "0": "11057",
                                    "1": "45,00",
                                    "2": "SMALL"
                                },
                                {
                                    "0": "11069",
                                    "1": "360,00",
                                    "2": "MED"
                                },
                                {
                                    "0": "10336",
                                    "1": "316,80",
                                    "2": "MED"
                                },
                                {
                                    "0": "10665",
                                    "1": "1295,00",
                                    "2": "LARGE"
                                },
                                {
                                    "0": "10914",
                                    "1": "537,50",
                                    "2": "LARGE"
                                },
                                {
                                    "0": "10273",
                                    "1": "2142,40",
                                    "2": "LARGE"
                                },
                                {
                                    "0": "10322",
                                    "1": "112,00",
                                    "2": "MED"
                                },
                                {
                                    "0": "10728",
                                    "1": "1296,75",
                                    "2": "LARGE"
                                },
                                {
                                    "0": "10373",
                                    "1": "1708,00",
                                    "2": "LARGE"
                                },
                                {
                                    "0": "10379",
                                    "1": "959,20",
                                    "2": "LARGE"
                                },
                                {
                                    "0": "10622",
                                    "1": "605,00",
                                    "2": "LARGE"
                                },
                                {
                                    "0": "10628",
                                    "1": "450,00",
                                    "2": "MED"
                                },
                                {
                                    "0": "10871",
                                    "1": "2083,40",
                                    "2": "LARGE"
                                },
                                {
                                    "0": "10473",
                                    "1": "230,40",
                                    "2": "MED"
                                },
                                {
                                    "0": "10479",
                                    "1": "10495,60",
                                    "2": "LARGE"
                                },
                                {
                                    "0": "10522",
                                    "1": "2657,80",
                                    "2": "LARGE"
                                },
                                {
                                    "0": "10528",
                                    "1": "396,20",
                                    "2": "MED"
                                },
                                {
                                    "0": "11020",
                                    "1": "744,00",
                                    "2": "LARGE"
                                },
                                {
                                    "0": "10330",
                                    "1": "1940,00",
                                    "2": "LARGE"
                                },
                                {
                                    "0": "10671",
                                    "1": "920,10",
                                    "2": "LARGE"
                                },
                                {
                                    "0": "10920",
                                    "1": "390,00",
                                    "2": "MED"
                                },
                                {
                                    "0": "10279",
                                    "1": "468,00",
                                    "2": "MED"
                                },
                                {
                                    "0": "10771",
                                    "1": "344,00",
                                    "2": "MED"
                                },
                                {
                                    "0": "10820",
                                    "1": "1140,00",
                                    "2": "LARGE"
                                }
                            ]
                        },
                        "text/html": [
                            "<table>",
                            "<tr><th>OrderID</th><th>TotalPrice</th><th>StatusOfTotalPrice</th></tr>",
                            "<tr><td>10411</td><td>1208,50</td><td>LARGE</td></tr>",
                            "<tr><td>10743</td><td>336,00</td><td>MED</td></tr>",
                            "<tr><td>11075</td><td>586,00</td><td>LARGE</td></tr>",
                            "<tr><td>10388</td><td>1274,00</td><td>LARGE</td></tr>",
                            "<tr><td>10720</td><td>550,00</td><td>LARGE</td></tr>",
                            "<tr><td>11052</td><td>1665,00</td><td>LARGE</td></tr>",
                            "<tr><td>10457</td><td>1584,00</td><td>LARGE</td></tr>",
                            "<tr><td>10789</td><td>3687,00</td><td>LARGE</td></tr>",
                            "<tr><td>10434</td><td>360,00</td><td>MED</td></tr>",
                            "<tr><td>10766</td><td>2310,00</td><td>LARGE</td></tr>",
                            "<tr><td>10248</td><td>440,00</td><td>MED</td></tr>",
                            "<tr><td>10835</td><td>851,00</td><td>LARGE</td></tr>",
                            "<tr><td>10906</td><td>427,50</td><td>MED</td></tr>",
                            "<tr><td>10912</td><td>8267,40</td><td>LARGE</td></tr>",
                            "<tr><td>10265</td><td>1176,00</td><td>LARGE</td></tr>",
                            "<tr><td>10271</td><td>48,00</td><td>SMALL</td></tr>",
                            "<tr><td>10812</td><td>1852,00</td><td>LARGE</td></tr>",
                            "<tr><td>10929</td><td>1174,75</td><td>LARGE</td></tr>",
                            "<tr><td>10935</td><td>700,00</td><td>LARGE</td></tr>",
                            "<tr><td>10294</td><td>1887,60</td><td>LARGE</td></tr>",
                            "<tr><td>10365</td><td>403,20</td><td>MED</td></tr>",
                            "<tr><td>10958</td><td>781,00</td><td>LARGE</td></tr>",
                            "<tr><td>10440</td><td>5793,10</td><td>LARGE</td></tr>",
                            "<tr><td>10981</td><td>15810,00</td><td>LARGE</td></tr>",
                            "<tr><td>10749</td><td>1080,00</td><td>LARGE</td></tr>",
                            "<tr><td>10998</td><td>686,00</td><td>LARGE</td></tr>",
                            "<tr><td>10357</td><td>1360,00</td><td>LARGE</td></tr>",
                            "<tr><td>10394</td><td>442,00</td><td>MED</td></tr>",
                            "<tr><td>10511</td><td>3000,00</td><td>LARGE</td></tr>",
                            "<tr><td>10689</td><td>630,00</td><td>LARGE</td></tr>",
                            "<tr><td>10843</td><td>212,00</td><td>MED</td></tr>",
                            "<tr><td>10703</td><td>2545,00</td><td>LARGE</td></tr>",
                            "<tr><td>10952</td><td>491,20</td><td>MED</td></tr>",
                            "<tr><td>11035</td><td>1754,50</td><td>LARGE</td></tr>",
                            "<tr><td>10311</td><td>268,80</td><td>MED</td></tr>",
                            "<tr><td>10348</td><td>396,00</td><td>MED</td></tr>",
                            "<tr><td>10557</td><td>1152,50</td><td>LARGE</td></tr>",
                            "<tr><td>10643</td><td>1086,00</td><td>LARGE</td></tr>",
                            "<tr><td>10889</td><td>11380,00</td><td>LARGE</td></tr>",
                            "<tr><td>10254</td><td>625,20</td><td>LARGE</td></tr>",
                            "<tr><td>10497</td><td>1380,60</td><td>LARGE</td></tr>",
                            "<tr><td>10503</td><td>2048,50</td><td>LARGE</td></tr>",
                            "<tr><td>10989</td><td>1353,60</td><td>LARGE</td></tr>",
                            "<tr><td>10302</td><td>2708,80</td><td>LARGE</td></tr>",
                            "<tr><td>10597</td><td>800,10</td><td>LARGE</td></tr>",
                            "<tr><td>10603</td><td>1508,00</td><td>LARGE</td></tr>",
                            "<tr><td>10941</td><td>4769,00</td><td>LARGE</td></tr>",
                            "<tr><td>10451</td><td>4277,40</td><td>LARGE</td></tr>",
                            "<tr><td>10697</td><td>1073,90</td><td>LARGE</td></tr>",
                            "<tr><td>10795</td><td>2499,25</td><td>LARGE</td></tr>",
                            "<tr><td>11044</td><td>591,60</td><td>LARGE</td></tr>",
                            "<tr><td>10305</td><td>4157,00</td><td>LARGE</td></tr>",
                            "<tr><td>10551</td><td>1836,00</td><td>LARGE</td></tr>",
                            "<tr><td>10649</td><td>1434,00</td><td>LARGE</td></tr>",
                            "<tr><td>10895</td><td>6379,40</td><td>LARGE</td></tr>",
                            "<tr><td>10494</td><td>912,00</td><td>LARGE</td></tr>",
                            "<tr><td>10660</td><td>1701,00</td><td>LARGE</td></tr>",
                            "<tr><td>10992</td><td>69,60</td><td>SMALL</td></tr>",
                            "<tr><td>10351</td><td>5677,60</td><td>LARGE</td></tr>",
                            "<tr><td>10400</td><td>3063,00</td><td>LARGE</td></tr>",
                            "<tr><td>10517</td><td>352,00</td><td>MED</td></tr>",
                            "<tr><td>10566</td><td>2040,00</td><td>LARGE</td></tr>",
                            "<tr><td>11015</td><td>622,35</td><td>LARGE</td></tr>",
                            "<tr><td>11064</td><td>4722,30</td><td>LARGE</td></tr>",
                            "<tr><td>10374</td><td>459,00</td><td>MED</td></tr>",
                            "<tr><td>10543</td><td>1770,00</td><td>LARGE</td></tr>",
                            "<tr><td>10780</td><td>720,00</td><td>LARGE</td></tr>",
                            "<tr><td>10729</td><td>1850,00</td><td>LARGE</td></tr>",
                            "<tr><td>10803</td><td>1255,80</td><td>LARGE</td></tr>",
                            "<tr><td>10852</td><td>2984,00</td><td>LARGE</td></tr>",
                            "<tr><td>10586</td><td>28,00</td><td>SMALL</td></tr>",
                            "<tr><td>10829</td><td>1764,00</td><td>LARGE</td></tr>",
                            "<tr><td>10468</td><td>717,60</td><td>LARGE</td></tr>",
                            "<tr><td>10537</td><td>1823,80</td><td>LARGE</td></tr>",
                            "<tr><td>10709</td><td>3424,00</td><td>LARGE</td></tr>",
                            "<tr><td>10637</td><td>2896,25</td><td>LARGE</td></tr>",
                            "<tr><td>10686</td><td>1638,45</td><td>LARGE</td></tr>",
                            "<tr><td>10760</td><td>3304,00</td><td>LARGE</td></tr>",
                            "<tr><td>10417</td><td>11283,20</td><td>LARGE</td></tr>",
                            "<tr><td>10666</td><td>4666,94</td><td>LARGE</td></tr>",
                            "<tr><td>10915</td><td>539,50</td><td>LARGE</td></tr>",
                            "<tr><td>10523</td><td>2715,90</td><td>LARGE</td></tr>",
                            "<tr><td>11009</td><td>702,00</td><td>LARGE</td></tr>",
                            "<tr><td>11021</td><td>6941,49</td><td>LARGE</td></tr>",
                            "<tr><td>11058</td><td>858,00</td><td>LARGE</td></tr>",
                            "<tr><td>10288</td><td>89,00</td><td>SMALL</td></tr>",
                            "<tr><td>10617</td><td>1650,00</td><td>LARGE</td></tr>",
                            "<tr><td>10629</td><td>2775,05</td><td>LARGE</td></tr>",
                            "<tr><td>10866</td><td>1461,60</td><td>LARGE</td></tr>",
                            "<tr><td>10878</td><td>1620,00</td><td>LARGE</td></tr>",
                            "<tr><td>10274</td><td>538,60</td><td>LARGE</td></tr>",
                            "<tr><td>10680</td><td>1682,50</td><td>LARGE</td></tr>",
                            "<tr><td>10325</td><td>1497,00</td><td>LARGE</td></tr>",
                            "<tr><td>10331</td><td>88,50</td><td>SMALL</td></tr>",
                            "<tr><td>10574</td><td>764,30</td><td>LARGE</td></tr>",
                            "<tr><td>10580</td><td>1067,10</td><td>LARGE</td></tr>",
                            "<tr><td>10823</td><td>3107,50</td><td>LARGE</td></tr>",
                            "<tr><td>11072</td><td>5218,00</td><td>LARGE</td></tr>",
                            "<tr><td>10431</td><td>2523,00</td><td>LARGE</td></tr>",
                            "<tr><td>10474</td><td>1249,10</td><td>LARGE</td></tr>",
                            "<tr><td>10480</td><td>756,00</td><td>LARGE</td></tr>",
                            "<tr><td>10972</td><td>251,50</td><td>MED</td></tr>",
                            "<tr><td>10282</td><td>155,40</td><td>MED</td></tr>",
                            "<tr><td>10623</td><td>1429,75</td><td>LARGE</td></tr>",
                            "<tr><td>10872</td><td>2166,80</td><td>LARGE</td></tr>",
                            "<tr><td>10723</td><td>468,45</td><td>MED</td></tr>",
                            "<tr><td>10772</td><td>3603,22</td><td>LARGE</td></tr>",
                            "<tr><td>10577</td><td>569,00</td><td>LARGE</td></tr>",
                            "<tr><td>10909</td><td>670,00</td><td>LARGE</td></tr>",
                            "<tr><td>10554</td><td>1819,50</td><td>LARGE</td></tr>",
                            "<tr><td>10886</td><td>3127,50</td><td>LARGE</td></tr>",
                            "<tr><td>10460</td><td>234,80</td><td>MED</td></tr>",
                            "<tr><td>10531</td><td>110,00</td><td>MED</td></tr>",
                            "<tr><td>10792</td><td>399,85</td><td>MED</td></tr>",
                            "<tr><td>10385</td><td>864,00</td><td>LARGE</td></tr>",
                            "<tr><td>10483</td><td>704,00</td><td>LARGE</td></tr>",
                            "<tr><td>10815</td><td>40,00</td><td>SMALL</td></tr>",
                            "<tr><td>10337</td><td>2467,00</td><td>LARGE</td></tr>",
                            "<tr><td>10414</td><td>231,40</td><td>MED</td></tr>",
                            "<tr><td>10740</td><td>1770,00</td><td>LARGE</td></tr>",
                            "<tr><td>11001</td><td>2769,00</td><td>LARGE</td></tr>",
                            "<tr><td>10314</td><td>2327,00</td><td>LARGE</td></tr>",
                            "<tr><td>10437</td><td>393,00</td><td>MED</td></tr>",
                            "<tr><td>10763</td><td>616,00</td><td>LARGE</td></tr>",
                            "<tr><td>10978</td><td>1500,70</td><td>LARGE</td></tr>",
                            "<tr><td>10291</td><td>552,80</td><td>LARGE</td></tr>",
                            "<tr><td>10368</td><td>1834,20</td><td>LARGE</td></tr>",
                            "<tr><td>10786</td><td>1913,85</td><td>LARGE</td></tr>",
                            "<tr><td>10955</td><td>93,00</td><td>SMALL</td></tr>",
                            "<tr><td>11032</td><td>8902,50</td><td>LARGE</td></tr>",
                            "<tr><td>10268</td><td>1101,20</td><td>LARGE</td></tr>",
                            "<tr><td>10391</td><td>86,40</td><td>SMALL</td></tr>",
                            "<tr><td>10809</td><td>140,00</td><td>MED</td></tr>",
                            "<tr><td>10932</td><td>1925,50</td><td>LARGE</td></tr>",
                            "<tr><td>11055</td><td>1727,50</td><td>LARGE</td></tr>",
                            "<tr><td>10251</td><td>670,80</td><td>LARGE</td></tr>",
                            "<tr><td>10500</td><td>550,80</td><td>LARGE</td></tr>",
                            "<tr><td>10345</td><td>2924,80</td><td>LARGE</td></tr>",
                            "<tr><td>10560</td><td>1257,30</td><td>LARGE</td></tr>",
                            "<tr><td>10855</td><td>2275,25</td><td>LARGE</td></tr>",
                            "<tr><td>10892</td><td>2200,00</td><td>LARGE</td></tr>",
                            "<tr><td>10949</td><td>4422,00</td><td>LARGE</td></tr>",
                            "<tr><td>10262</td><td>624,80</td><td>LARGE</td></tr>",
                            "<tr><td>10594</td><td>565,50</td><td>LARGE</td></tr>",
                            "<tr><td>10606</td><td>1413,00</td><td>LARGE</td></tr>",
                            "<tr><td>10938</td><td>3642,50</td><td>LARGE</td></tr>",
                            "<tr><td>10408</td><td>1622,40</td><td>LARGE</td></tr>",
                            "<tr><td>10746</td><td>2311,70</td><td>LARGE</td></tr>",
                            "<tr><td>10752</td><td>252,00</td><td>MED</td></tr>",
                            "<tr><td>10995</td><td>1196,00</td><td>LARGE</td></tr>",
                            "<tr><td>10308</td><td>88,80</td><td>SMALL</td></tr>",
                            "<tr><td>10646</td><td>1928,00</td><td>LARGE</td></tr>",
                            "<tr><td>10454</td><td>414,00</td><td>MED</td></tr>",
                            "<tr><td>10700</td><td>2048,00</td><td>LARGE</td></tr>",
                            "<tr><td>11041</td><td>1887,00</td><td>LARGE</td></tr>",
                            "<tr><td>10354</td><td>568,80</td><td>LARGE</td></tr>",
                            "<tr><td>10600</td><td>479,80</td><td>MED</td></tr>",
                            "<tr><td>10846</td><td>1112,00</td><td>LARGE</td></tr>",
                            "<tr><td>10328</td><td>1168,00</td><td>LARGE</td></tr>",
                            "<tr><td>10826</td><td>730,00</td><td>LARGE</td></tr>",
                            "<tr><td>10683</td><td>63,00</td><td>SMALL</td></tr>",
                            "<tr><td>10732</td><td>360,00</td><td>MED</td></tr>",
                            "<tr><td>10849</td><td>1052,14</td><td>LARGE</td></tr>",
                            "<tr><td>10898</td><td>30,00</td><td>SMALL</td></tr>",
                            "<tr><td>10448</td><td>443,40</td><td>MED</td></tr>",
                            "<tr><td>10706</td><td>1893,00</td><td>LARGE</td></tr>",
                            "<tr><td>10875</td><td>729,50</td><td>LARGE</td></tr>",
                            "<tr><td>11038</td><td>751,00</td><td>LARGE</td></tr>",
                            "<tr><td>10397</td><td>843,20</td><td>LARGE</td></tr>",
                            "<tr><td>10471</td><td>1328,00</td><td>LARGE</td></tr>",
                            "<tr><td>10520</td><td>200,00</td><td>MED</td></tr>",
                            "<tr><td>11061</td><td>510,00</td><td>LARGE</td></tr>",
                            "<tr><td>10420</td><td>1897,60</td><td>LARGE</td></tr>",
                            "<tr><td>10491</td><td>305,30</td><td>MED</td></tr>",
                            "<tr><td>10657</td><td>4371,60</td><td>LARGE</td></tr>",
                            "<tr><td>10663</td><td>2032,00</td><td>LARGE</td></tr>",
                            "<tr><td>10640</td><td>945,00</td><td>LARGE</td></tr>",
                            "<tr><td>10806</td><td>572,10</td><td>LARGE</td></tr>",
                            "<tr><td>10540</td><td>10191,70</td><td>LARGE</td></tr>",
                            "<tr><td>10614</td><td>464,00</td><td>MED</td></tr>",
                            "<tr><td>10712</td><td>1238,40</td><td>LARGE</td></tr>",
                            "<tr><td>10783</td><td>1442,50</td><td>LARGE</td></tr>",
                            "<tr><td>10514</td><td>8623,45</td><td>LARGE</td></tr>",
                            "<tr><td>10563</td><td>965,00</td><td>LARGE</td></tr>",
                            "<tr><td>10334</td><td>144,80</td><td>MED</td></tr>",
                            "<tr><td>10583</td><td>2413,90</td><td>LARGE</td></tr>",
                            "<tr><td>10832</td><td>568,95</td><td>LARGE</td></tr>",
                            "<tr><td>10677</td><td>956,90</td><td>LARGE</td></tr>",
                            "<tr><td>10726</td><td>655,00</td><td>LARGE</td></tr>",
                            "<tr><td>10285</td><td>2179,20</td><td>LARGE</td></tr>",
                            "<tr><td>10371</td><td>91,20</td><td>SMALL</td></tr>",
                            "<tr><td>10534</td><td>517,40</td><td>LARGE</td></tr>",
                            "<tr><td>10620</td><td>57,50</td><td>SMALL</td></tr>",
                            "<tr><td>10961</td><td>1122,00</td><td>LARGE</td></tr>",
                            "<tr><td>10926</td><td>514,40</td><td>LARGE</td></tr>",
                            "<tr><td>10975</td><td>717,50</td><td>LARGE</td></tr>",
                            "<tr><td>11012</td><td>2974,00</td><td>LARGE</td></tr>",
                            "<tr><td>11024</td><td>1966,81</td><td>LARGE</td></tr>",
                            "<tr><td>10669</td><td>570,00</td><td>LARGE</td></tr>",
                            "<tr><td>10918</td><td>1930,00</td><td>LARGE</td></tr>",
                            "<tr><td>10769</td><td>1704,00</td><td>LARGE</td></tr>",
                            "<tr><td>10377</td><td>1016,00</td><td>LARGE</td></tr>",
                            "<tr><td>10626</td><td>1503,60</td><td>LARGE</td></tr>",
                            "<tr><td>10869</td><td>1630,00</td><td>LARGE</td></tr>",
                            "<tr><td>10428</td><td>192,00</td><td>MED</td></tr>",
                            "<tr><td>10477</td><td>672,00</td><td>LARGE</td></tr>",
                            "<tr><td>10969</td><td>108,00</td><td>MED</td></tr>",
                            "<tr><td>11018</td><td>1575,00</td><td>LARGE</td></tr>",
                            "<tr><td>10269</td><td>676,00</td><td>LARGE</td></tr>",
                            "<tr><td>10340</td><td>2564,40</td><td>LARGE</td></tr>",
                            "<tr><td>10601</td><td>2285,00</td><td>LARGE</td></tr>",
                            "<tr><td>10672</td><td>4210,50</td><td>LARGE</td></tr>",
                            "<tr><td>10933</td><td>920,60</td><td>LARGE</td></tr>",
                            "<tr><td>11004</td><td>295,38</td><td>MED</td></tr>",
                            "<tr><td>10363</td><td>447,20</td><td>MED</td></tr>",
                            "<tr><td>10578</td><td>477,00</td><td>MED</td></tr>",
                            "<tr><td>10695</td><td>642,00</td><td>LARGE</td></tr>",
                            "<tr><td>10910</td><td>452,90</td><td>MED</td></tr>",
                            "<tr><td>11027</td><td>1170,30</td><td>LARGE</td></tr>",
                            "<tr><td>10386</td><td>166,00</td><td>MED</td></tr>",
                            "<tr><td>10555</td><td>3680,50</td><td>LARGE</td></tr>",
                            "<tr><td>10718</td><td>3463,00</td><td>LARGE</td></tr>",
                            "<tr><td>10887</td><td>70,00</td><td>SMALL</td></tr>",
                            "<tr><td>11050</td><td>900,00</td><td>LARGE</td></tr>",
                            "<tr><td>10409</td><td>319,20</td><td>MED</td></tr>",
                            "<tr><td>10532</td><td>796,35</td><td>LARGE</td></tr>",
                            "<tr><td>10741</td><td>285,00</td><td>MED</td></tr>",
                            "<tr><td>10864</td><td>282,00</td><td>MED</td></tr>",
                            "<tr><td>11073</td><td>300,00</td><td>MED</td></tr>",
                            "<tr><td>10509</td><td>136,80</td><td>MED</td></tr>",
                            "<tr><td>10764</td><td>2540,00</td><td>LARGE</td></tr>",
                            "<tr><td>10486</td><td>1272,00</td><td>LARGE</td></tr>",
                            "<tr><td>10787</td><td>2760,80</td><td>LARGE</td></tr>",
                            "<tr><td>10392</td><td>1440,00</td><td>LARGE</td></tr>",
                            "<tr><td>10463</td><td>713,30</td><td>LARGE</td></tr>",
                            "<tr><td>10810</td><td>187,00</td><td>MED</td></tr>",
                            "<tr><td>10881</td><td>150,00</td><td>MED</td></tr>",
                            "<tr><td>11056</td><td>3740,00</td><td>LARGE</td></tr>",
                            "<tr><td>10317</td><td>288,00</td><td>MED</td></tr>",
                            "<tr><td>10415</td><td>102,40</td><td>MED</td></tr>",
                            "<tr><td>10858</td><td>649,00</td><td>LARGE</td></tr>",
                            "<tr><td>10956</td><td>677,00</td><td>LARGE</td></tr>",
                            "<tr><td>10263</td><td>2464,80</td><td>LARGE</td></tr>",
                            "<tr><td>10346</td><td>1731,20</td><td>LARGE</td></tr>",
                            "<tr><td>10595</td><td>6300,00</td><td>LARGE</td></tr>",
                            "<tr><td>10701</td><td>3370,00</td><td>LARGE</td></tr>",
                            "<tr><td>10904</td><td>1924,25</td><td>LARGE</td></tr>",
                            "<tr><td>11033</td><td>3592,00</td><td>LARGE</td></tr>",
                            "<tr><td>10300</td><td>608,00</td><td>LARGE</td></tr>",
                            "<tr><td>10309</td><td>1762,00</td><td>LARGE</td></tr>",
                            "<tr><td>10641</td><td>2054,00</td><td>LARGE</td></tr>",
                            "<tr><td>10655</td><td>193,00</td><td>MED</td></tr>",
                            "<tr><td>10950</td><td>110,00</td><td>MED</td></tr>",
                            "<tr><td>10987</td><td>2772,00</td><td>LARGE</td></tr>",
                            "<tr><td>10841</td><td>4581,00</td><td>LARGE</td></tr>",
                            "<tr><td>10847</td><td>6164,90</td><td>LARGE</td></tr>",
                            "<tr><td>10449</td><td>1838,20</td><td>LARGE</td></tr>",
                            "<tr><td>10455</td><td>2684,00</td><td>LARGE</td></tr>",
                            "<tr><td>10996</td><td>560,00</td><td>LARGE</td></tr>",
                            "<tr><td>10549</td><td>4181,50</td><td>LARGE</td></tr>",
                            "<tr><td>10893</td><td>5502,11</td><td>LARGE</td></tr>",
                            "<tr><td>10403</td><td>1005,90</td><td>LARGE</td></tr>",
                            "<tr><td>10747</td><td>1912,85</td><td>LARGE</td></tr>",
                            "<tr><td>10423</td><td>1020,00</td><td>LARGE</td></tr>",
                            "<tr><td>10684</td><td>1768,00</td><td>LARGE</td></tr>",
                            "<tr><td>10850</td><td>740,00</td><td>LARGE</td></tr>",
                            "<tr><td>10921</td><td>1936,00</td><td>LARGE</td></tr>",
                            "<tr><td>10707</td><td>1704,00</td><td>LARGE</td></tr>",
                            "<tr><td>11039</td><td>3090,00</td><td>LARGE</td></tr>",
                            "<tr><td>10472</td><td>1051,20</td><td>LARGE</td></tr>",
                            "<tr><td>10801</td><td>4035,80</td><td>LARGE</td></tr>",
                            "<tr><td>10778</td><td>96,50</td><td>SMALL</td></tr>",
                            "<tr><td>10827</td><td>843,00</td><td>LARGE</td></tr>",
                            "<tr><td>10515</td><td>10588,50</td><td>LARGE</td></tr>",
                            "<tr><td>10592</td><td>543,65</td><td>LARGE</td></tr>",
                            "<tr><td>10758</td><td>1644,60</td><td>LARGE</td></tr>",
                            "<tr><td>10443</td><td>537,60</td><td>LARGE</td></tr>",
                            "<tr><td>10492</td><td>896,00</td><td>LARGE</td></tr>",
                            "<tr><td>10609</td><td>424,00</td><td>MED</td></tr>",
                            "<tr><td>10615</td><td>120,00</td><td>MED</td></tr>",
                            "<tr><td>10658</td><td>4668,00</td><td>LARGE</td></tr>",
                            "<tr><td>10664</td><td>1515,75</td><td>LARGE</td></tr>",
                            "<tr><td>10466</td><td>216,00</td><td>MED</td></tr>",
                            "<tr><td>10635</td><td>1380,25</td><td>LARGE</td></tr>",
                            "<tr><td>10807</td><td>18,40</td><td>SMALL</td></tr>",
                            "<tr><td>10735</td><td>596,00</td><td>LARGE</td></tr>",
                            "<tr><td>10784</td><td>1650,00</td><td>LARGE</td></tr>",
                            "<tr><td>10429</td><td>1748,50</td><td>LARGE</td></tr>",
                            "<tr><td>10678</td><td>5256,50</td><td>LARGE</td></tr>",
                            "<tr><td>10927</td><td>800,00</td><td>LARGE</td></tr>",
                            "<tr><td>10535</td><td>2156,50</td><td>LARGE</td></tr>",
                            "<tr><td>10572</td><td>1565,65</td><td>LARGE</td></tr>",
                            "<tr><td>11070</td><td>1873,50</td><td>LARGE</td></tr>",
                            "<tr><td>10715</td><td>1296,00</td><td>LARGE</td></tr>",
                            "<tr><td>10727</td><td>1710,00</td><td>LARGE</td></tr>",
                            "<tr><td>10964</td><td>2052,50</td><td>LARGE</td></tr>",
                            "<tr><td>10976</td><td>912,00</td><td>LARGE</td></tr>",
                            "<tr><td>10286</td><td>3016,00</td><td>LARGE</td></tr>",
                            "<tr><td>10323</td><td>164,40</td><td>MED</td></tr>",
                            "<tr><td>10372</td><td>12281,20</td><td>LARGE</td></tr>",
                            "<tr><td>10913</td><td>958,75</td><td>LARGE</td></tr>",
                            "<tr><td>11013</td><td>361,00</td><td>MED</td></tr>",
                            "<tr><td>11019</td><td>76,00</td><td>SMALL</td></tr>",
                            "<tr><td>10621</td><td>758,50</td><td>LARGE</td></tr>",
                            "<tr><td>10380</td><td>1419,80</td><td>LARGE</td></tr>",
                            "<tr><td>10478</td><td>496,00</td><td>MED</td></tr>",
                            "<tr><td>10721</td><td>972,50</td><td>LARGE</td></tr>",
                            "<tr><td>10970</td><td>280,00</td><td>MED</td></tr>",
                            "<tr><td>10280</td><td>613,20</td><td>LARGE</td></tr>",
                            "<tr><td>10329</td><td>4819,40</td><td>LARGE</td></tr>",
                            "<tr><td>10821</td><td>678,00</td><td>LARGE</td></tr>",
                            "<tr><td>10870</td><td>160,00</td><td>MED</td></tr>",
                            "<tr><td>10435</td><td>631,60</td><td>LARGE</td></tr>",
                            "<tr><td>10506</td><td>462,00</td><td>MED</td></tr>",
                            "<tr><td>10767</td><td>28,00</td><td>SMALL</td></tr>",
                            "<tr><td>10838</td><td>2584,50</td><td>LARGE</td></tr>",
                            "<tr><td>10412</td><td>372,00</td><td>MED</td></tr>",
                            "<tr><td>10529</td><td>946,00</td><td>LARGE</td></tr>",
                            "<tr><td>10744</td><td>920,00</td><td>LARGE</td></tr>",
                            "<tr><td>10861</td><td>3523,40</td><td>LARGE</td></tr>",
                            "<tr><td>11076</td><td>1057,00</td><td>LARGE</td></tr>",
                            "<tr><td>10790</td><td>850,00</td><td>LARGE</td></tr>",
                            "<tr><td>10266</td><td>364,80</td><td>MED</td></tr>",
                            "<tr><td>10343</td><td>1586,00</td><td>LARGE</td></tr>",
                            "<tr><td>10930</td><td>2455,00</td><td>LARGE</td></tr>",
                            "<tr><td>11007</td><td>2633,90</td><td>LARGE</td></tr>",
                            "<tr><td>10289</td><td>479,40</td><td>MED</td></tr>",
                            "<tr><td>10320</td><td>516,00</td><td>LARGE</td></tr>",
                            "<tr><td>10953</td><td>4675,00</td><td>LARGE</td></tr>",
                            "<tr><td>10984</td><td>1809,75</td><td>LARGE</td></tr>",
                            "<tr><td>10389</td><td>1832,80</td><td>LARGE</td></tr>",
                            "<tr><td>10884</td><td>1450,60</td><td>LARGE</td></tr>",
                            "<tr><td>11053</td><td>3658,75</td><td>LARGE</td></tr>",
                            "<tr><td>10366</td><td>136,00</td><td>MED</td></tr>",
                            "<tr><td>10907</td><td>108,50</td><td>MED</td></tr>",
                            "<tr><td>11030</td><td>16321,90</td><td>LARGE</td></tr>",
                            "<tr><td>10512</td><td>618,00</td><td>LARGE</td></tr>",
                            "<tr><td>10844</td><td>735,00</td><td>LARGE</td></tr>",
                            "<tr><td>10406</td><td>2018,20</td><td>LARGE</td></tr>",
                            "<tr><td>10738</td><td>52,35</td><td>SMALL</td></tr>",
                            "<tr><td>10297</td><td>1420,00</td><td>LARGE</td></tr>",
                            "<tr><td>10546</td><td>2812,00</td><td>LARGE</td></tr>",
                            "<tr><td>10558</td><td>2142,90</td><td>LARGE</td></tr>",
                            "<tr><td>10644</td><td>1422,00</td><td>LARGE</td></tr>",
                            "<tr><td>10890</td><td>860,10</td><td>LARGE</td></tr>",
                            "<tr><td>11047</td><td>1090,50</td><td>LARGE</td></tr>",
                            "<tr><td>10249</td><td>1863,40</td><td>LARGE</td></tr>",
                            "<tr><td>10360</td><td>7390,20</td><td>LARGE</td></tr>",
                            "<tr><td>10692</td><td>878,00</td><td>LARGE</td></tr>",
                            "<tr><td>10704</td><td>595,50</td><td>LARGE</td></tr>",
                            "<tr><td>10901</td><td>934,50</td><td>LARGE</td></tr>",
                            "<tr><td>11036</td><td>1692,00</td><td>LARGE</td></tr>",
                            "<tr><td>10260</td><td>1746,20</td><td>LARGE</td></tr>",
                            "<tr><td>10349</td><td>141,60</td><td>MED</td></tr>",
                            "<tr><td>10598</td><td>2388,50</td><td>LARGE</td></tr>",
                            "<tr><td>10498</td><td>575,00</td><td>LARGE</td></tr>",
                            "<tr><td>10652</td><td>331,78</td><td>MED</td></tr>",
                            "<tr><td>10947</td><td>220,00</td><td>MED</td></tr>",
                            "<tr><td>10990</td><td>4931,00</td><td>LARGE</td></tr>",
                            "<tr><td>10303</td><td>1242,00</td><td>LARGE</td></tr>",
                            "<tr><td>10306</td><td>498,50</td><td>MED</td></tr>",
                            "<tr><td>10552</td><td>880,50</td><td>LARGE</td></tr>",
                            "<tr><td>10798</td><td>446,60</td><td>MED</td></tr>",
                            "<tr><td>10452</td><td>2096,00</td><td>LARGE</td></tr>",
                            "<tr><td>10698</td><td>3600,73</td><td>LARGE</td></tr>",
                            "<tr><td>10944</td><td>1139,10</td><td>LARGE</td></tr>",
                            "<tr><td>10993</td><td>6527,25</td><td>LARGE</td></tr>",
                            "<tr><td>10257</td><td>1119,90</td><td>LARGE</td></tr>",
                            "<tr><td>10352</td><td>154,00</td><td>MED</td></tr>",
                            "<tr><td>10518</td><td>4150,05</td><td>LARGE</td></tr>",
                            "<tr><td>10589</td><td>72,00</td><td>SMALL</td></tr>",
                            "<tr><td>10755</td><td>2598,00</td><td>LARGE</td></tr>",
                            "<tr><td>11016</td><td>491,50</td><td>MED</td></tr>",
                            "<tr><td>10873</td><td>336,80</td><td>MED</td></tr>",
                            "<tr><td>10469</td><td>1125,50</td><td>LARGE</td></tr>",
                            "<tr><td>10804</td><td>2290,40</td><td>LARGE</td></tr>",
                            "<tr><td>10446</td><td>273,60</td><td>MED</td></tr>",
                            "<tr><td>10495</td><td>278,00</td><td>MED</td></tr>",
                            "<tr><td>10681</td><td>1327,00</td><td>LARGE</td></tr>",
                            "<tr><td>10781</td><td>1132,35</td><td>LARGE</td></tr>",
                            "<tr><td>10830</td><td>1974,00</td><td>LARGE</td></tr>",
                            "<tr><td>10561</td><td>2844,50</td><td>LARGE</td></tr>",
                            "<tr><td>10638</td><td>2720,05</td><td>LARGE</td></tr>",
                            "<tr><td>10489</td><td>502,20</td><td>LARGE</td></tr>",
                            "<tr><td>10538</td><td>139,80</td><td>MED</td></tr>",
                            "<tr><td>10612</td><td>6375,00</td><td>LARGE</td></tr>",
                            "<tr><td>10661</td><td>703,25</td><td>LARGE</td></tr>",
                            "<tr><td>10761</td><td>629,50</td><td>LARGE</td></tr>",
                            "<tr><td>11010</td><td>645,00</td><td>LARGE</td></tr>",
                            "<tr><td>10369</td><td>2527,20</td><td>LARGE</td></tr>",
                            "<tr><td>10867</td><td>98,40</td><td>SMALL</td></tr>",
                            "<tr><td>10383</td><td>899,00</td><td>LARGE</td></tr>",
                            "<tr><td>10632</td><td>620,00</td><td>LARGE</td></tr>",
                            "<tr><td>10973</td><td>291,55</td><td>MED</td></tr>",
                            "<tr><td>11059</td><td>1838,00</td><td>LARGE</td></tr>",
                            "<tr><td>10569</td><td>977,50</td><td>LARGE</td></tr>",
                            "<tr><td>10581</td><td>387,50</td><td>MED</td></tr>",
                            "<tr><td>10618</td><td>2697,50</td><td>LARGE</td></tr>",
                            "<tr><td>10426</td><td>338,20</td><td>MED</td></tr>",
                            "<tr><td>10432</td><td>485,00</td><td>MED</td></tr>",
                            "<tr><td>10675</td><td>1423,00</td><td>LARGE</td></tr>",
                            "<tr><td>10924</td><td>2034,50</td><td>LARGE</td></tr>",
                            "<tr><td>10277</td><td>1200,80</td><td>LARGE</td></tr>",
                            "<tr><td>10283</td><td>1414,80</td><td>LARGE</td></tr>",
                            "<tr><td>10326</td><td>982,00</td><td>LARGE</td></tr>",
                            "<tr><td>10332</td><td>2233,60</td><td>LARGE</td></tr>",
                            "<tr><td>10775</td><td>228,00</td><td>MED</td></tr>",
                            "<tr><td>10818</td><td>833,00</td><td>LARGE</td></tr>",
                            "<tr><td>10824</td><td>250,80</td><td>MED</td></tr>",
                            "<tr><td>10475</td><td>1770,80</td><td>LARGE</td></tr>",
                            "<tr><td>10724</td><td>638,50</td><td>LARGE</td></tr>",
                            "<tr><td>10967</td><td>910,40</td><td>LARGE</td></tr>",
                            "<tr><td>10526</td><td>1344,00</td><td>LARGE</td></tr>",
                            "<tr><td>10575</td><td>2147,40</td><td>LARGE</td></tr>",
                            "<tr><td>11067</td><td>86,85</td><td>SMALL</td></tr>",
                            "<tr><td>10530</td><td>4180,00</td><td>LARGE</td></tr>",
                            "<tr><td>10862</td><td>581,00</td><td>LARGE</td></tr>",
                            "<tr><td>10553</td><td>1546,30</td><td>LARGE</td></tr>",
                            "<tr><td>10885</td><td>1209,00</td><td>LARGE</td></tr>",
                            "<tr><td>10484</td><td>386,20</td><td>MED</td></tr>",
                            "<tr><td>10816</td><td>8891,00</td><td>LARGE</td></tr>",
                            "<tr><td>10507</td><td>881,25</td><td>LARGE</td></tr>",
                            "<tr><td>10839</td><td>919,50</td><td>LARGE</td></tr>",
                            "<tr><td>10361</td><td>2273,60</td><td>LARGE</td></tr>",
                            "<tr><td>10367</td><td>834,20</td><td>LARGE</td></tr>",
                            "<tr><td>10438</td><td>567,50</td><td>LARGE</td></tr>",
                            "<tr><td>11025</td><td>300,00</td><td>MED</td></tr>",
                            "<tr><td>11031</td><td>2393,50</td><td>LARGE</td></tr>",
                            "<tr><td>10338</td><td>934,50</td><td>LARGE</td></tr>",
                            "<tr><td>10344</td><td>2856,00</td><td>LARGE</td></tr>",
                            "<tr><td>10461</td><td>2051,60</td><td>LARGE</td></tr>",
                            "<tr><td>11002</td><td>1902,00</td><td>LARGE</td></tr>",
                            "<tr><td>11008</td><td>4903,50</td><td>LARGE</td></tr>",
                            "<tr><td>10315</td><td>516,80</td><td>LARGE</td></tr>",
                            "<tr><td>10908</td><td>698,00</td><td>LARGE</td></tr>",
                            "<tr><td>10979</td><td>4813,50</td><td>LARGE</td></tr>",
                            "<tr><td>10292</td><td>1296,00</td><td>LARGE</td></tr>",
                            "<tr><td>10833</td><td>1007,70</td><td>LARGE</td></tr>",
                            "<tr><td>11054</td><td>305,00</td><td>MED</td></tr>",
                            "<tr><td>10607</td><td>6475,40</td><td>LARGE</td></tr>",
                            "<tr><td>10785</td><td>387,50</td><td>MED</td></tr>",
                            "<tr><td>10856</td><td>660,00</td><td>LARGE</td></tr>",
                            "<tr><td>10939</td><td>750,00</td><td>LARGE</td></tr>",
                            "<tr><td>10252</td><td>3730,00</td><td>LARGE</td></tr>",
                            "<tr><td>10547</td><td>1908,00</td><td>LARGE</td></tr>",
                            "<tr><td>10407</td><td>1194,00</td><td>LARGE</td></tr>",
                            "<tr><td>10653</td><td>1203,50</td><td>LARGE</td></tr>",
                            "<tr><td>10739</td><td>240,00</td><td>MED</td></tr>",
                            "<tr><td>10902</td><td>1015,80</td><td>LARGE</td></tr>",
                            "<tr><td>10985</td><td>2248,20</td><td>LARGE</td></tr>",
                            "<tr><td>10261</td><td>448,00</td><td>MED</td></tr>",
                            "<tr><td>10298</td><td>3127,00</td><td>LARGE</td></tr>",
                            "<tr><td>10593</td><td>2493,00</td><td>LARGE</td></tr>",
                            "<tr><td>11048</td><td>525,00</td><td>LARGE</td></tr>",
                            "<tr><td>10355</td><td>480,00</td><td>MED</td></tr>",
                            "<tr><td>10693</td><td>2334,00</td><td>LARGE</td></tr>",
                            "<tr><td>10699</td><td>114,00</td><td>MED</td></tr>",
                            "<tr><td>10948</td><td>2362,25</td><td>LARGE</td></tr>",
                            "<tr><td>10793</td><td>191,10</td><td>MED</td></tr>",
                            "<tr><td>10799</td><td>1585,00</td><td>LARGE</td></tr>",
                            "<tr><td>10401</td><td>3868,60</td><td>LARGE</td></tr>",
                            "<tr><td>10647</td><td>636,00</td><td>LARGE</td></tr>",
                            "<tr><td>10991</td><td>2870,00</td><td>LARGE</td></tr>",
                            "<tr><td>10304</td><td>954,40</td><td>LARGE</td></tr>",
                            "<tr><td>10501</td><td>149,00</td><td>MED</td></tr>",
                            "<tr><td>10845</td><td>4059,00</td><td>LARGE</td></tr>",
                            "<tr><td>11042</td><td>405,75</td><td>MED</td></tr>",
                            "<tr><td>10447</td><td>914,40</td><td>LARGE</td></tr>",
                            "<tr><td>10613</td><td>358,00</td><td>MED</td></tr>",
                            "<tr><td>10258</td><td>2018,60</td><td>LARGE</td></tr>",
                            "<tr><td>10541</td><td>2162,80</td><td>LARGE</td></tr>",
                            "<tr><td>10590</td><td>1140,00</td><td>LARGE</td></tr>",
                            "<tr><td>10756</td><td>2487,50</td><td>LARGE</td></tr>",
                            "<tr><td>10398</td><td>2736,00</td><td>LARGE</td></tr>",
                            "<tr><td>10825</td><td>1030,76</td><td>LARGE</td></tr>",
                            "<tr><td>10899</td><td>144,00</td><td>MED</td></tr>",
                            "<tr><td>11062</td><td>508,00</td><td>LARGE</td></tr>",
                            "<tr><td>10421</td><td>1273,20</td><td>LARGE</td></tr>",
                            "<tr><td>10470</td><td>1820,80</td><td>LARGE</td></tr>",
                            "<tr><td>10876</td><td>917,00</td><td>LARGE</td></tr>",
                            "<tr><td>10782</td><td>12,50</td><td>SMALL</td></tr>",
                            "<tr><td>10633</td><td>6483,05</td><td>LARGE</td></tr>",
                            "<tr><td>10639</td><td>500,00</td><td>MED</td></tr>",
                            "<tr><td>10805</td><td>2775,00</td><td>LARGE</td></tr>",
                            "<tr><td>10490</td><td>3163,20</td><td>LARGE</td></tr>",
                            "<tr><td>10564</td><td>1299,00</td><td>LARGE</td></tr>",
                            "<tr><td>10733</td><td>1459,00</td><td>LARGE</td></tr>",
                            "<tr><td>10513</td><td>2427,50</td><td>LARGE</td></tr>",
                            "<tr><td>10868</td><td>2004,60</td><td>LARGE</td></tr>",
                            "<tr><td>10584</td><td>625,00</td><td>LARGE</td></tr>",
                            "<tr><td>10713</td><td>2827,90</td><td>LARGE</td></tr>",
                            "<tr><td>10762</td><td>4337,00</td><td>LARGE</td></tr>",
                            "<tr><td>10321</td><td>144,00</td><td>MED</td></tr>",
                            "<tr><td>10570</td><td>2595,00</td><td>LARGE</td></tr>",
                            "<tr><td>10335</td><td>2545,20</td><td>LARGE</td></tr>",
                            "<tr><td>10384</td><td>2222,40</td><td>LARGE</td></tr>",
                            "<tr><td>10925</td><td>559,00</td><td>LARGE</td></tr>",
                            "<tr><td>10962</td><td>3584,00</td><td>LARGE</td></tr>",
                            "<tr><td>11011</td><td>960,00</td><td>LARGE</td></tr>",
                            "<tr><td>10278</td><td>1488,80</td><td>LARGE</td></tr>",
                            "<tr><td>10284</td><td>1452,00</td><td>LARGE</td></tr>",
                            "<tr><td>10521</td><td>225,50</td><td>MED</td></tr>",
                            "<tr><td>10527</td><td>1670,00</td><td>LARGE</td></tr>",
                            "<tr><td>10770</td><td>315,00</td><td>MED</td></tr>",
                            "<tr><td>10776</td><td>6984,50</td><td>LARGE</td></tr>",
                            "<tr><td>10627</td><td>1264,50</td><td>LARGE</td></tr>",
                            "<tr><td>10670</td><td>2301,75</td><td>LARGE</td></tr>",
                            "<tr><td>10676</td><td>534,85</td><td>LARGE</td></tr>",
                            "<tr><td>10327</td><td>2262,50</td><td>LARGE</td></tr>",
                            "<tr><td>10576</td><td>838,45</td><td>LARGE</td></tr>",
                            "<tr><td>10819</td><td>477,00</td><td>MED</td></tr>",
                            "<tr><td>11068</td><td>2384,80</td><td>LARGE</td></tr>",
                            "<tr><td>10378</td><td>103,20</td><td>MED</td></tr>",
                            "<tr><td>10427</td><td>651,00</td><td>LARGE</td></tr>",
                            "<tr><td>10919</td><td>1122,80</td><td>LARGE</td></tr>",
                            "<tr><td>10968</td><td>1408,00</td><td>LARGE</td></tr>",
                            "<tr><td>10364</td><td>950,00</td><td>LARGE</td></tr>",
                            "<tr><td>10696</td><td>996,00</td><td>LARGE</td></tr>",
                            "<tr><td>11028</td><td>2160,00</td><td>LARGE</td></tr>",
                            "<tr><td>10387</td><td>1058,40</td><td>LARGE</td></tr>",
                            "<tr><td>10719</td><td>1125,67</td><td>LARGE</td></tr>",
                            "<tr><td>11051</td><td>45,00</td><td>SMALL</td></tr>",
                            "<tr><td>10410</td><td>802,00</td><td>LARGE</td></tr>",
                            "<tr><td>10481</td><td>1472,00</td><td>LARGE</td></tr>",
                            "<tr><td>10742</td><td>3118,00</td><td>LARGE</td></tr>",
                            "<tr><td>10813</td><td>648,00</td><td>LARGE</td></tr>",
                            "<tr><td>11074</td><td>244,30</td><td>MED</td></tr>",
                            "<tr><td>10458</td><td>3891,00</td><td>LARGE</td></tr>",
                            "<tr><td>10556</td><td>835,20</td><td>LARGE</td></tr>",
                            "<tr><td>10888</td><td>605,00</td><td>LARGE</td></tr>",
                            "<tr><td>10272</td><td>1456,00</td><td>LARGE</td></tr>",
                            "<tr><td>10533</td><td>2295,20</td><td>LARGE</td></tr>",
                            "<tr><td>10859</td><td>1438,25</td><td>LARGE</td></tr>",
                            "<tr><td>10936</td><td>570,00</td><td>LARGE</td></tr>",
                            "<tr><td>10295</td><td>121,60</td><td>MED</td></tr>",
                            "<tr><td>10510</td><td>4735,44</td><td>LARGE</td></tr>",
                            "<tr><td>10836</td><td>4705,50</td><td>LARGE</td></tr>",
                            "<tr><td>10959</td><td>155,00</td><td>MED</td></tr>",
                            "<tr><td>10318</td><td>240,40</td><td>MED</td></tr>",
                            "<tr><td>10487</td><td>925,10</td><td>LARGE</td></tr>",
                            "<tr><td>10905</td><td>360,00</td><td>MED</td></tr>",
                            "<tr><td>10982</td><td>1014,00</td><td>LARGE</td></tr>",
                            "<tr><td>10341</td><td>412,00</td><td>MED</td></tr>",
                            "<tr><td>10464</td><td>1848,00</td><td>LARGE</td></tr>",
                            "<tr><td>10882</td><td>988,40</td><td>LARGE</td></tr>",
                            "<tr><td>11005</td><td>586,00</td><td>LARGE</td></tr>",
                            "<tr><td>10358</td><td>452,00</td><td>MED</td></tr>",
                            "<tr><td>10441</td><td>1755,00</td><td>LARGE</td></tr>",
                            "<tr><td>10690</td><td>1150,00</td><td>LARGE</td></tr>",
                            "<tr><td>10951</td><td>482,90</td><td>MED</td></tr>",
                            "<tr><td>11034</td><td>554,40</td><td>LARGE</td></tr>",
                            "<tr><td>10264</td><td>724,50</td><td>LARGE</td></tr>",
                            "<tr><td>10596</td><td>1476,10</td><td>LARGE</td></tr>",
                            "<tr><td>10750</td><td>1871,25</td><td>LARGE</td></tr>",
                            "<tr><td>11045</td><td>1309,50</td><td>LARGE</td></tr>",
                            "<tr><td>10312</td><td>1614,80</td><td>LARGE</td></tr>",
                            "<tr><td>10395</td><td>2333,20</td><td>LARGE</td></tr>",
                            "<tr><td>10656</td><td>671,35</td><td>LARGE</td></tr>",
                            "<tr><td>10988</td><td>3772,00</td><td>LARGE</td></tr>",
                            "<tr><td>10347</td><td>928,00</td><td>LARGE</td></tr>",
                            "<tr><td>10999</td><td>1261,00</td><td>LARGE</td></tr>",
                            "<tr><td>10450</td><td>531,40</td><td>LARGE</td></tr>",
                            "<tr><td>10604</td><td>256,50</td><td>MED</td></tr>",
                            "<tr><td>10942</td><td>560,00</td><td>LARGE</td></tr>",
                            "<tr><td>10301</td><td>755,00</td><td>LARGE</td></tr>",
                            "<tr><td>10504</td><td>1388,50</td><td>LARGE</td></tr>",
                            "<tr><td>10842</td><td>975,00</td><td>LARGE</td></tr>",
                            "<tr><td>10404</td><td>1675,00</td><td>LARGE</td></tr>",
                            "<tr><td>10650</td><td>1820,20</td><td>LARGE</td></tr>",
                            "<tr><td>10896</td><td>750,50</td><td>LARGE</td></tr>",
                            "<tr><td>10255</td><td>2490,50</td><td>LARGE</td></tr>",
                            "<tr><td>10550</td><td>749,00</td><td>LARGE</td></tr>",
                            "<tr><td>10796</td><td>2878,08</td><td>LARGE</td></tr>",
                            "<tr><td>10281</td><td>86,50</td><td>SMALL</td></tr>",
                            "<tr><td>10779</td><td>1335,00</td><td>LARGE</td></tr>",
                            "<tr><td>10945</td><td>245,00</td><td>MED</td></tr>",
                            "<tr><td>10375</td><td>338,00</td><td>MED</td></tr>",
                            "<tr><td>10424</td><td>11493,20</td><td>LARGE</td></tr>",
                            "<tr><td>10922</td><td>742,50</td><td>LARGE</td></tr>",
                            "<tr><td>10493</td><td>676,00</td><td>LARGE</td></tr>",
                            "<tr><td>10567</td><td>3109,00</td><td>LARGE</td></tr>",
                            "<tr><td>10730</td><td>509,75</td><td>LARGE</td></tr>",
                            "<tr><td>10544</td><td>417,20</td><td>MED</td></tr>",
                            "<tr><td>10753</td><td>88,00</td><td>SMALL</td></tr>",
                            "<tr><td>10802</td><td>3923,75</td><td>LARGE</td></tr>",
                            "<tr><td>10444</td><td>1031,70</td><td>LARGE</td></tr>",
                            "<tr><td>10610</td><td>399,00</td><td>MED</td></tr>",
                            "<tr><td>10616</td><td>5032,00</td><td>LARGE</td></tr>",
                            "<tr><td>10687</td><td>6201,90</td><td>LARGE</td></tr>",
                            "<tr><td>10853</td><td>625,00</td><td>LARGE</td></tr>",
                            "<tr><td>10467</td><td>235,20</td><td>MED</td></tr>",
                            "<tr><td>10659</td><td>1291,60</td><td>LARGE</td></tr>",
                            "<tr><td>10736</td><td>997,00</td><td>LARGE</td></tr>",
                            "<tr><td>10587</td><td>807,38</td><td>LARGE</td></tr>",
                            "<tr><td>10636</td><td>629,50</td><td>LARGE</td></tr>",
                            "<tr><td>10710</td><td>93,50</td><td>SMALL</td></tr>",
                            "<tr><td>10759</td><td>320,00</td><td>MED</td></tr>",
                            "<tr><td>10275</td><td>307,20</td><td>MED</td></tr>",
                            "<tr><td>10524</td><td>3192,65</td><td>LARGE</td></tr>",
                            "<tr><td>10773</td><td>2216,25</td><td>LARGE</td></tr>",
                            "<tr><td>11022</td><td>1402,00</td><td>LARGE</td></tr>",
                            "<tr><td>10381</td><td>112,00</td><td>MED</td></tr>",
                            "<tr><td>10418</td><td>1814,80</td><td>LARGE</td></tr>",
                            "<tr><td>10430</td><td>5796,00</td><td>LARGE</td></tr>",
                            "<tr><td>10879</td><td>611,30</td><td>LARGE</td></tr>",
                            "<tr><td>10916</td><td>686,70</td><td>LARGE</td></tr>",
                            "<tr><td>10928</td><td>137,50</td><td>MED</td></tr>",
                            "<tr><td>10324</td><td>6155,90</td><td>LARGE</td></tr>",
                            "<tr><td>11071</td><td>510,00</td><td>LARGE</td></tr>",
                            "<tr><td>10630</td><td>918,00</td><td>LARGE</td></tr>",
                            "<tr><td>10667</td><td>1921,00</td><td>LARGE</td></tr>",
                            "<tr><td>10679</td><td>660,00</td><td>LARGE</td></tr>",
                            "<tr><td>10716</td><td>706,00</td><td>LARGE</td></tr>",
                            "<tr><td>10865</td><td>17250,00</td><td>LARGE</td></tr>",
                            "<tr><td>10965</td><td>848,00</td><td>LARGE</td></tr>",
                            "<tr><td>10971</td><td>1733,06</td><td>LARGE</td></tr>",
                            "<tr><td>11014</td><td>270,20</td><td>MED</td></tr>",
                            "<tr><td>10573</td><td>2082,00</td><td>LARGE</td></tr>",
                            "<tr><td>10822</td><td>237,90</td><td>MED</td></tr>",
                            "<tr><td>11065</td><td>252,56</td><td>MED</td></tr>",
                            "<tr><td>10624</td><td>1393,24</td><td>LARGE</td></tr>",
                            "<tr><td>10673</td><td>412,35</td><td>MED</td></tr>",
                            "<tr><td>10722</td><td>1570,00</td><td>LARGE</td></tr>",
                            "<tr><td>10459</td><td>1688,00</td><td>LARGE</td></tr>",
                            "<tr><td>10791</td><td>1926,06</td><td>LARGE</td></tr>",
                            "<tr><td>10436</td><td>2210,80</td><td>LARGE</td></tr>",
                            "<tr><td>10768</td><td>1477,00</td><td>LARGE</td></tr>",
                            "<tr><td>10505</td><td>147,90</td><td>MED</td></tr>",
                            "<tr><td>10837</td><td>1254,00</td><td>LARGE</td></tr>",
                            "<tr><td>10482</td><td>147,00</td><td>MED</td></tr>",
                            "<tr><td>10814</td><td>2070,00</td><td>LARGE</td></tr>",
                            "<tr><td>10290</td><td>2169,00</td><td>LARGE</td></tr>",
                            "<tr><td>10296</td><td>1050,60</td><td>LARGE</td></tr>",
                            "<tr><td>10883</td><td>36,00</td><td>SMALL</td></tr>",
                            "<tr><td>10954</td><td>1902,10</td><td>LARGE</td></tr>",
                            "<tr><td>10960</td><td>276,60</td><td>MED</td></tr>",
                            "<tr><td>10313</td><td>182,40</td><td>MED</td></tr>",
                            "<tr><td>10319</td><td>1191,20</td><td>LARGE</td></tr>",
                            "<tr><td>10860</td><td>519,00</td><td>LARGE</td></tr>",
                            "<tr><td>10977</td><td>2233,00</td><td>LARGE</td></tr>",
                            "<tr><td>10983</td><td>796,50</td><td>LARGE</td></tr>",
                            "<tr><td>10342</td><td>2300,80</td><td>LARGE</td></tr>",
                            "<tr><td>10413</td><td>2123,20</td><td>LARGE</td></tr>",
                            "<tr><td>11006</td><td>391,58</td><td>MED</td></tr>",
                            "<tr><td>11077</td><td>1374,60</td><td>LARGE</td></tr>",
                            "<tr><td>10267</td><td>4031,00</td><td>LARGE</td></tr>",
                            "<tr><td>10390</td><td>2275,20</td><td>LARGE</td></tr>",
                            "<tr><td>10488</td><td>1560,00</td><td>LARGE</td></tr>",
                            "<tr><td>10931</td><td>837,00</td><td>LARGE</td></tr>",
                            "<tr><td>11029</td><td>1286,80</td><td>LARGE</td></tr>",
                            "<tr><td>10453</td><td>453,00</td><td>MED</td></tr>",
                            "<tr><td>10797</td><td>420,00</td><td>MED</td></tr>",
                            "<tr><td>11046</td><td>1564,00</td><td>LARGE</td></tr>",
                            "<tr><td>10405</td><td>400,00</td><td>MED</td></tr>",
                            "<tr><td>10442</td><td>1792,00</td><td>LARGE</td></tr>",
                            "<tr><td>10559</td><td>547,80</td><td>LARGE</td></tr>",
                            "<tr><td>10737</td><td>139,80</td><td>MED</td></tr>",
                            "<tr><td>10891</td><td>388,35</td><td>MED</td></tr>",
                            "<tr><td>10250</td><td>1813,00</td><td>LARGE</td></tr>",
                            "<tr><td>10751</td><td>1701,46</td><td>LARGE</td></tr>",
                            "<tr><td>11000</td><td>1075,00</td><td>LARGE</td></tr>",
                            "<tr><td>10359</td><td>3654,40</td><td>LARGE</td></tr>",
                            "<tr><td>10396</td><td>1903,80</td><td>LARGE</td></tr>",
                            "<tr><td>10605</td><td>4326,00</td><td>LARGE</td></tr>",
                            "<tr><td>10691</td><td>10164,80</td><td>LARGE</td></tr>",
                            "<tr><td>10937</td><td>644,80</td><td>LARGE</td></tr>",
                            "<tr><td>10545</td><td>210,00</td><td>MED</td></tr>",
                            "<tr><td>11037</td><td>60,00</td><td>SMALL</td></tr>",
                            "<tr><td>10307</td><td>424,00</td><td>MED</td></tr>",
                            "<tr><td>10350</td><td>713,40</td><td>LARGE</td></tr>",
                            "<tr><td>10645</td><td>1535,00</td><td>LARGE</td></tr>",
                            "<tr><td>10651</td><td>530,40</td><td>LARGE</td></tr>",
                            "<tr><td>10256</td><td>517,80</td><td>LARGE</td></tr>",
                            "<tr><td>10499</td><td>1412,00</td><td>LARGE</td></tr>",
                            "<tr><td>10745</td><td>4529,80</td><td>LARGE</td></tr>",
                            "<tr><td>10994</td><td>990,00</td><td>LARGE</td></tr>",
                            "<tr><td>10353</td><td>10741,60</td><td>LARGE</td></tr>",
                            "<tr><td>10599</td><td>493,00</td><td>MED</td></tr>",
                            "<tr><td>10943</td><td>711,00</td><td>LARGE</td></tr>",
                            "<tr><td>10376</td><td>420,00</td><td>MED</td></tr>",
                            "<tr><td>10874</td><td>310,00</td><td>MED</td></tr>",
                            "<tr><td>10731</td><td>1990,00</td><td>LARGE</td></tr>",
                            "<tr><td>10897</td><td>10835,24</td><td>LARGE</td></tr>",
                            "<tr><td>10946</td><td>1407,50</td><td>LARGE</td></tr>",
                            "<tr><td>10496</td><td>200,00</td><td>MED</td></tr>",
                            "<tr><td>10754</td><td>55,20</td><td>SMALL</td></tr>",
                            "<tr><td>10923</td><td>936,00</td><td>LARGE</td></tr>",
                            "<tr><td>10445</td><td>174,90</td><td>MED</td></tr>",
                            "<tr><td>10519</td><td>2356,00</td><td>LARGE</td></tr>",
                            "<tr><td>10568</td><td>155,00</td><td>MED</td></tr>",
                            "<tr><td>10539</td><td>355,50</td><td>MED</td></tr>",
                            "<tr><td>10705</td><td>378,00</td><td>MED</td></tr>",
                            "<tr><td>10711</td><td>4451,70</td><td>LARGE</td></tr>",
                            "<tr><td>10682</td><td>375,50</td><td>MED</td></tr>",
                            "<tr><td>10688</td><td>3490,00</td><td>LARGE</td></tr>",
                            "<tr><td>10854</td><td>3490,00</td><td>LARGE</td></tr>",
                            "<tr><td>10588</td><td>3900,00</td><td>LARGE</td></tr>",
                            "<tr><td>10662</td><td>125,00</td><td>MED</td></tr>",
                            "<tr><td>10831</td><td>2684,40</td><td>LARGE</td></tr>",
                            "<tr><td>10562</td><td>543,00</td><td>LARGE</td></tr>",
                            "<tr><td>10611</td><td>808,00</td><td>LARGE</td></tr>",
                            "<tr><td>10370</td><td>1174,00</td><td>LARGE</td></tr>",
                            "<tr><td>10382</td><td>2900,00</td><td>LARGE</td></tr>",
                            "<tr><td>10619</td><td>1260,00</td><td>LARGE</td></tr>",
                            "<tr><td>10631</td><td>62,00</td><td>SMALL</td></tr>",
                            "<tr><td>10880</td><td>1875,00</td><td>LARGE</td></tr>",
                            "<tr><td>10276</td><td>420,00</td><td>MED</td></tr>",
                            "<tr><td>10725</td><td>287,80</td><td>MED</td></tr>",
                            "<tr><td>10774</td><td>875,00</td><td>LARGE</td></tr>",
                            "<tr><td>10333</td><td>954,00</td><td>LARGE</td></tr>",
                            "<tr><td>10419</td><td>2208,00</td><td>LARGE</td></tr>",
                            "<tr><td>10582</td><td>330,00</td><td>MED</td></tr>",
                            "<tr><td>10668</td><td>694,75</td><td>LARGE</td></tr>",
                            "<tr><td>10974</td><td>439,00</td><td>MED</td></tr>",
                            "<tr><td>11023</td><td>1500,00</td><td>LARGE</td></tr>",
                            "<tr><td>11060</td><td>266,00</td><td>MED</td></tr>",
                            "<tr><td>10717</td><td>1331,75</td><td>LARGE</td></tr>",
                            "<tr><td>10966</td><td>1255,60</td><td>LARGE</td></tr>",
                            "<tr><td>10817</td><td>11490,70</td><td>LARGE</td></tr>",
                            "<tr><td>10425</td><td>480,00</td><td>MED</td></tr>",
                            "<tr><td>10674</td><td>45,00</td><td>SMALL</td></tr>",
                            "<tr><td>10917</td><td>365,89</td><td>MED</td></tr>",
                            "<tr><td>10476</td><td>182,40</td><td>MED</td></tr>",
                            "<tr><td>10525</td><td>846,00</td><td>LARGE</td></tr>",
                            "<tr><td>11017</td><td>6750,00</td><td>LARGE</td></tr>",
                            "<tr><td>11066</td><td>928,75</td><td>LARGE</td></tr>",
                            "<tr><td>10293</td><td>848,70</td><td>LARGE</td></tr>",
                            "<tr><td>10625</td><td>479,75</td><td>MED</td></tr>",
                            "<tr><td>10957</td><td>1762,70</td><td>LARGE</td></tr>",
                            "<tr><td>10270</td><td>1376,00</td><td>LARGE</td></tr>",
                            "<tr><td>10602</td><td>65,00</td><td>SMALL</td></tr>",
                            "<tr><td>10934</td><td>500,00</td><td>MED</td></tr>",
                            "<tr><td>10508</td><td>240,00</td><td>MED</td></tr>",
                            "<tr><td>10579</td><td>317,75</td><td>MED</td></tr>",
                            "<tr><td>10840</td><td>264,00</td><td>MED</td></tr>",
                            "<tr><td>10911</td><td>858,00</td><td>LARGE</td></tr>",
                            "<tr><td>10433</td><td>851,20</td><td>LARGE</td></tr>",
                            "<tr><td>10765</td><td>1684,00</td><td>LARGE</td></tr>",
                            "<tr><td>10863</td><td>519,00</td><td>LARGE</td></tr>",
                            "<tr><td>10462</td><td>156,00</td><td>MED</td></tr>",
                            "<tr><td>10788</td><td>770,00</td><td>LARGE</td></tr>",
                            "<tr><td>11049</td><td>342,00</td><td>MED</td></tr>",
                            "<tr><td>10362</td><td>1549,60</td><td>LARGE</td></tr>",
                            "<tr><td>10485</td><td>1760,00</td><td>LARGE</td></tr>",
                            "<tr><td>10811</td><td>852,00</td><td>LARGE</td></tr>",
                            "<tr><td>11026</td><td>1030,00</td><td>LARGE</td></tr>",
                            "<tr><td>10339</td><td>3463,20</td><td>LARGE</td></tr>",
                            "<tr><td>10416</td><td>720,00</td><td>LARGE</td></tr>",
                            "<tr><td>10834</td><td>1508,12</td><td>LARGE</td></tr>",
                            "<tr><td>11003</td><td>326,00</td><td>MED</td></tr>",
                            "<tr><td>10316</td><td>2835,00</td><td>LARGE</td></tr>",
                            "<tr><td>10439</td><td>1078,00</td><td>LARGE</td></tr>",
                            "<tr><td>10857</td><td>2630,95</td><td>LARGE</td></tr>",
                            "<tr><td>10980</td><td>310,00</td><td>MED</td></tr>",
                            "<tr><td>10299</td><td>349,50</td><td>MED</td></tr>",
                            "<tr><td>10548</td><td>275,10</td><td>MED</td></tr>",
                            "<tr><td>10702</td><td>330,00</td><td>MED</td></tr>",
                            "<tr><td>10393</td><td>3302,60</td><td>LARGE</td></tr>",
                            "<tr><td>10608</td><td>1064,00</td><td>LARGE</td></tr>",
                            "<tr><td>10903</td><td>932,05</td><td>LARGE</td></tr>",
                            "<tr><td>10940</td><td>360,00</td><td>MED</td></tr>",
                            "<tr><td>10997</td><td>1980,00</td><td>LARGE</td></tr>",
                            "<tr><td>10310</td><td>336,00</td><td>MED</td></tr>",
                            "<tr><td>10642</td><td>870,00</td><td>LARGE</td></tr>",
                            "<tr><td>10654</td><td>668,70</td><td>LARGE</td></tr>",
                            "<tr><td>10986</td><td>2220,00</td><td>LARGE</td></tr>",
                            "<tr><td>10456</td><td>656,00</td><td>LARGE</td></tr>",
                            "<tr><td>10794</td><td>393,45</td><td>MED</td></tr>",
                            "<tr><td>10800</td><td>1632,15</td><td>LARGE</td></tr>",
                            "<tr><td>11043</td><td>210,00</td><td>MED</td></tr>",
                            "<tr><td>10356</td><td>1106,40</td><td>LARGE</td></tr>",
                            "<tr><td>10694</td><td>4825,00</td><td>LARGE</td></tr>",
                            "<tr><td>10848</td><td>931,50</td><td>LARGE</td></tr>",
                            "<tr><td>10253</td><td>1444,80</td><td>LARGE</td></tr>",
                            "<tr><td>10502</td><td>816,30</td><td>LARGE</td></tr>",
                            "<tr><td>10748</td><td>2196,00</td><td>LARGE</td></tr>",
                            "<tr><td>10402</td><td>2713,50</td><td>LARGE</td></tr>",
                            "<tr><td>10648</td><td>382,50</td><td>MED</td></tr>",
                            "<tr><td>10894</td><td>2898,00</td><td>LARGE</td></tr>",
                            "<tr><td>10542</td><td>493,80</td><td>MED</td></tr>",
                            "<tr><td>10708</td><td>180,40</td><td>MED</td></tr>",
                            "<tr><td>11040</td><td>200,00</td><td>MED</td></tr>",
                            "<tr><td>10399</td><td>1765,60</td><td>LARGE</td></tr>",
                            "<tr><td>10565</td><td>711,00</td><td>LARGE</td></tr>",
                            "<tr><td>11063</td><td>1445,50</td><td>LARGE</td></tr>",
                            "<tr><td>10259</td><td>100,80</td><td>MED</td></tr>",
                            "<tr><td>10422</td><td>49,80</td><td>SMALL</td></tr>",
                            "<tr><td>10591</td><td>812,50</td><td>LARGE</td></tr>",
                            "<tr><td>10828</td><td>932,00</td><td>LARGE</td></tr>",
                            "<tr><td>10777</td><td>280,00</td><td>MED</td></tr>",
                            "<tr><td>10851</td><td>2740,00</td><td>LARGE</td></tr>",
                            "<tr><td>10900</td><td>45,00</td><td>SMALL</td></tr>",
                            "<tr><td>10634</td><td>4985,50</td><td>LARGE</td></tr>",
                            "<tr><td>10877</td><td>2086,00</td><td>LARGE</td></tr>",
                            "<tr><td>10516</td><td>2614,50</td><td>LARGE</td></tr>",
                            "<tr><td>10585</td><td>142,50</td><td>MED</td></tr>",
                            "<tr><td>10757</td><td>3082,00</td><td>LARGE</td></tr>",
                            "<tr><td>10685</td><td>801,10</td><td>LARGE</td></tr>",
                            "<tr><td>10734</td><td>1498,35</td><td>LARGE</td></tr>",
                            "<tr><td>10808</td><td>1660,00</td><td>LARGE</td></tr>",
                            "<tr><td>10287</td><td>924,00</td><td>LARGE</td></tr>",
                            "<tr><td>10465</td><td>2719,00</td><td>LARGE</td></tr>",
                            "<tr><td>10536</td><td>2085,00</td><td>LARGE</td></tr>",
                            "<tr><td>10714</td><td>2941,00</td><td>LARGE</td></tr>",
                            "<tr><td>10963</td><td>68,00</td><td>SMALL</td></tr>",
                            "<tr><td>10571</td><td>647,75</td><td>LARGE</td></tr>",
                            "<tr><td>11057</td><td>45,00</td><td>SMALL</td></tr>",
                            "<tr><td>11069</td><td>360,00</td><td>MED</td></tr>",
                            "<tr><td>10336</td><td>316,80</td><td>MED</td></tr>",
                            "<tr><td>10665</td><td>1295,00</td><td>LARGE</td></tr>",
                            "<tr><td>10914</td><td>537,50</td><td>LARGE</td></tr>",
                            "<tr><td>10273</td><td>2142,40</td><td>LARGE</td></tr>",
                            "<tr><td>10322</td><td>112,00</td><td>MED</td></tr>",
                            "<tr><td>10728</td><td>1296,75</td><td>LARGE</td></tr>",
                            "<tr><td>10373</td><td>1708,00</td><td>LARGE</td></tr>",
                            "<tr><td>10379</td><td>959,20</td><td>LARGE</td></tr>",
                            "<tr><td>10622</td><td>605,00</td><td>LARGE</td></tr>",
                            "<tr><td>10628</td><td>450,00</td><td>MED</td></tr>",
                            "<tr><td>10871</td><td>2083,40</td><td>LARGE</td></tr>",
                            "<tr><td>10473</td><td>230,40</td><td>MED</td></tr>",
                            "<tr><td>10479</td><td>10495,60</td><td>LARGE</td></tr>",
                            "<tr><td>10522</td><td>2657,80</td><td>LARGE</td></tr>",
                            "<tr><td>10528</td><td>396,20</td><td>MED</td></tr>",
                            "<tr><td>11020</td><td>744,00</td><td>LARGE</td></tr>",
                            "<tr><td>10330</td><td>1940,00</td><td>LARGE</td></tr>",
                            "<tr><td>10671</td><td>920,10</td><td>LARGE</td></tr>",
                            "<tr><td>10920</td><td>390,00</td><td>MED</td></tr>",
                            "<tr><td>10279</td><td>468,00</td><td>MED</td></tr>",
                            "<tr><td>10771</td><td>344,00</td><td>MED</td></tr>",
                            "<tr><td>10820</td><td>1140,00</td><td>LARGE</td></tr>",
                            "</table>"
                        ]
                    }
                }
            ],
            "execution_count": 3
        },
        {
            "cell_type": "code",
            "source": [
                "/* SOAL 6 */\n",
                "SELECT Orders.ShipName, \n",
                "CASE\n",
                "    WHEN SUM([Order Details].UnitPrice * [Order Details].Quantity ) <= 100 Then 'SMALL'\n",
                "    WHEN SUM([Order Details].UnitPrice * [Order Details].Quantity ) BETWEEN 100 AND 500 Then 'MED'\n",
                "    ELSE 'LARGE'\n",
                "END AS StatusOfTotalPrice\n",
                "FROM [Order Details]\n",
                "JOIN Orders\n",
                "ON [Order Details].OrderID = Orders.OrderID\n",
                "\n",
                "WHERE YEAR(Orders.OrderDate) = 1997\n",
                "GROUP BY Orders.ShipName\n",
                "HAVING SUM([Order Details].UnitPrice * [Order Details].Quantity) > 500\n",
                "\n",
                ""
            ],
            "metadata": {
                "language": "sql",
                "azdata_cell_guid": "3533c219-8809-4932-80d2-739624780bd6"
            },
            "outputs": [
                {
                    "output_type": "display_data",
                    "data": {
                        "text/html": "(76 rows affected)"
                    },
                    "metadata": {}
                },
                {
                    "output_type": "display_data",
                    "data": {
                        "text/html": "Total execution time: 00:00:00.042"
                    },
                    "metadata": {}
                },
                {
                    "output_type": "execute_result",
                    "metadata": {},
                    "execution_count": 4,
                    "data": {
                        "application/vnd.dataresource+json": {
                            "schema": {
                                "fields": [
                                    {
                                        "name": "ShipName"
                                    },
                                    {
                                        "name": "StatusOfTotalPrice"
                                    }
                                ]
                            },
                            "data": [
                                {
                                    "0": "Vaffeljernet",
                                    "1": "LARGE"
                                },
                                {
                                    "0": "Ottilies Käseladen",
                                    "1": "LARGE"
                                },
                                {
                                    "0": "Santé Gourmet",
                                    "1": "LARGE"
                                },
                                {
                                    "0": "Let's Stop N Shop",
                                    "1": "LARGE"
                                },
                                {
                                    "0": "Hungry Coyote Import Store",
                                    "1": "LARGE"
                                },
                                {
                                    "0": "Morgenstern Gesundkost",
                                    "1": "LARGE"
                                },
                                {
                                    "0": "HILARION-Abastos",
                                    "1": "LARGE"
                                },
                                {
                                    "0": "Ricardo Adocicados",
                                    "1": "LARGE"
                                },
                                {
                                    "0": "Pericles Comidas clásicas",
                                    "1": "LARGE"
                                },
                                {
                                    "0": "Wartian Herkku",
                                    "1": "LARGE"
                                },
                                {
                                    "0": "Rancho grande",
                                    "1": "LARGE"
                                },
                                {
                                    "0": "Lehmanns Marktstand",
                                    "1": "LARGE"
                                },
                                {
                                    "0": "Queen Cozinha",
                                    "1": "LARGE"
                                },
                                {
                                    "0": "Island Trading",
                                    "1": "LARGE"
                                },
                                {
                                    "0": "Blauer See Delikatessen",
                                    "1": "LARGE"
                                },
                                {
                                    "0": "Folies gourmandes",
                                    "1": "LARGE"
                                },
                                {
                                    "0": "QUICK-Stop",
                                    "1": "LARGE"
                                },
                                {
                                    "0": "Great Lakes Food Market",
                                    "1": "LARGE"
                                },
                                {
                                    "0": "LINO-Delicateses",
                                    "1": "LARGE"
                                },
                                {
                                    "0": "Frankenversand",
                                    "1": "LARGE"
                                },
                                {
                                    "0": "Around the Horn",
                                    "1": "LARGE"
                                },
                                {
                                    "0": "Save-a-lot Markets",
                                    "1": "LARGE"
                                },
                                {
                                    "0": "White Clover Markets",
                                    "1": "LARGE"
                                },
                                {
                                    "0": "The Big Cheese",
                                    "1": "LARGE"
                                },
                                {
                                    "0": "Folk och fä HB",
                                    "1": "LARGE"
                                },
                                {
                                    "0": "Magazzini Alimentari Riuniti",
                                    "1": "LARGE"
                                },
                                {
                                    "0": "Tortuga Restaurante",
                                    "1": "LARGE"
                                },
                                {
                                    "0": "Toms Spezialitäten",
                                    "1": "LARGE"
                                },
                                {
                                    "0": "Consolidated Holdings",
                                    "1": "LARGE"
                                },
                                {
                                    "0": "Die Wandernde Kuh",
                                    "1": "LARGE"
                                },
                                {
                                    "0": "Split Rail Beer & Ale",
                                    "1": "LARGE"
                                },
                                {
                                    "0": "Piccolo und mehr",
                                    "1": "LARGE"
                                },
                                {
                                    "0": "Mère Paillarde",
                                    "1": "LARGE"
                                },
                                {
                                    "0": "Bottom-Dollar Markets",
                                    "1": "LARGE"
                                },
                                {
                                    "0": "Ernst Handel",
                                    "1": "LARGE"
                                },
                                {
                                    "0": "Familia Arquibaldo",
                                    "1": "LARGE"
                                },
                                {
                                    "0": "B's Beverages",
                                    "1": "LARGE"
                                },
                                {
                                    "0": "Königlich Essen",
                                    "1": "LARGE"
                                },
                                {
                                    "0": "Comércio Mineiro",
                                    "1": "LARGE"
                                },
                                {
                                    "0": "Antonio Moreno Taquería",
                                    "1": "LARGE"
                                },
                                {
                                    "0": "Bon app'",
                                    "1": "LARGE"
                                },
                                {
                                    "0": "Old World Delicatessen",
                                    "1": "LARGE"
                                },
                                {
                                    "0": "LILA-Supermercado",
                                    "1": "LARGE"
                                },
                                {
                                    "0": "Wellington Importadora",
                                    "1": "LARGE"
                                },
                                {
                                    "0": "France restauration",
                                    "1": "LARGE"
                                },
                                {
                                    "0": "Bólido Comidas preparadas",
                                    "1": "LARGE"
                                },
                                {
                                    "0": "Richter Supermarkt",
                                    "1": "LARGE"
                                },
                                {
                                    "0": "Reggiani Caseifici",
                                    "1": "LARGE"
                                },
                                {
                                    "0": "Rattlesnake Canyon Grocery",
                                    "1": "LARGE"
                                },
                                {
                                    "0": "Princesa Isabel Vinhos",
                                    "1": "LARGE"
                                },
                                {
                                    "0": "Alfreds Futterkiste",
                                    "1": "LARGE"
                                },
                                {
                                    "0": "Alfred's Futterkiste",
                                    "1": "LARGE"
                                },
                                {
                                    "0": "Furia Bacalhau e Frutos do Mar",
                                    "1": "LARGE"
                                },
                                {
                                    "0": "Wilman Kala",
                                    "1": "LARGE"
                                },
                                {
                                    "0": "La maison d'Asie",
                                    "1": "LARGE"
                                },
                                {
                                    "0": "Wolski Zajazd",
                                    "1": "LARGE"
                                },
                                {
                                    "0": "Ana Trujillo Emparedados y helados",
                                    "1": "LARGE"
                                },
                                {
                                    "0": "Tradiçao Hipermercados",
                                    "1": "LARGE"
                                },
                                {
                                    "0": "Maison Dewey",
                                    "1": "LARGE"
                                },
                                {
                                    "0": "Hanari Carnes",
                                    "1": "LARGE"
                                },
                                {
                                    "0": "Lonesome Pine Restaurant",
                                    "1": "LARGE"
                                },
                                {
                                    "0": "Blondel père et fils",
                                    "1": "LARGE"
                                },
                                {
                                    "0": "Seven Seas Imports",
                                    "1": "LARGE"
                                },
                                {
                                    "0": "Que Delícia",
                                    "1": "LARGE"
                                },
                                {
                                    "0": "North/South",
                                    "1": "LARGE"
                                },
                                {
                                    "0": "Godos Cocina Típica",
                                    "1": "LARGE"
                                },
                                {
                                    "0": "Eastern Connection",
                                    "1": "LARGE"
                                },
                                {
                                    "0": "Simons bistro",
                                    "1": "LARGE"
                                },
                                {
                                    "0": "Victuailles en stock",
                                    "1": "LARGE"
                                },
                                {
                                    "0": "Berglunds snabbköp",
                                    "1": "LARGE"
                                },
                                {
                                    "0": "Suprêmes délices",
                                    "1": "LARGE"
                                },
                                {
                                    "0": "The Cracker Box",
                                    "1": "LARGE"
                                },
                                {
                                    "0": "Trail's Head Gourmet Provisioners",
                                    "1": "LARGE"
                                },
                                {
                                    "0": "Gourmet Lanchonetes",
                                    "1": "LARGE"
                                },
                                {
                                    "0": "Chop-suey Chinese",
                                    "1": "LARGE"
                                },
                                {
                                    "0": "Hungry Owl All-Night Grocers",
                                    "1": "LARGE"
                                }
                            ]
                        },
                        "text/html": [
                            "<table>",
                            "<tr><th>ShipName</th><th>StatusOfTotalPrice</th></tr>",
                            "<tr><td>Vaffeljernet</td><td>LARGE</td></tr>",
                            "<tr><td>Ottilies Käseladen</td><td>LARGE</td></tr>",
                            "<tr><td>Santé Gourmet</td><td>LARGE</td></tr>",
                            "<tr><td>Let's Stop N Shop</td><td>LARGE</td></tr>",
                            "<tr><td>Hungry Coyote Import Store</td><td>LARGE</td></tr>",
                            "<tr><td>Morgenstern Gesundkost</td><td>LARGE</td></tr>",
                            "<tr><td>HILARION-Abastos</td><td>LARGE</td></tr>",
                            "<tr><td>Ricardo Adocicados</td><td>LARGE</td></tr>",
                            "<tr><td>Pericles Comidas clásicas</td><td>LARGE</td></tr>",
                            "<tr><td>Wartian Herkku</td><td>LARGE</td></tr>",
                            "<tr><td>Rancho grande</td><td>LARGE</td></tr>",
                            "<tr><td>Lehmanns Marktstand</td><td>LARGE</td></tr>",
                            "<tr><td>Queen Cozinha</td><td>LARGE</td></tr>",
                            "<tr><td>Island Trading</td><td>LARGE</td></tr>",
                            "<tr><td>Blauer See Delikatessen</td><td>LARGE</td></tr>",
                            "<tr><td>Folies gourmandes</td><td>LARGE</td></tr>",
                            "<tr><td>QUICK-Stop</td><td>LARGE</td></tr>",
                            "<tr><td>Great Lakes Food Market</td><td>LARGE</td></tr>",
                            "<tr><td>LINO-Delicateses</td><td>LARGE</td></tr>",
                            "<tr><td>Frankenversand</td><td>LARGE</td></tr>",
                            "<tr><td>Around the Horn</td><td>LARGE</td></tr>",
                            "<tr><td>Save-a-lot Markets</td><td>LARGE</td></tr>",
                            "<tr><td>White Clover Markets</td><td>LARGE</td></tr>",
                            "<tr><td>The Big Cheese</td><td>LARGE</td></tr>",
                            "<tr><td>Folk och fä HB</td><td>LARGE</td></tr>",
                            "<tr><td>Magazzini Alimentari Riuniti</td><td>LARGE</td></tr>",
                            "<tr><td>Tortuga Restaurante</td><td>LARGE</td></tr>",
                            "<tr><td>Toms Spezialitäten</td><td>LARGE</td></tr>",
                            "<tr><td>Consolidated Holdings</td><td>LARGE</td></tr>",
                            "<tr><td>Die Wandernde Kuh</td><td>LARGE</td></tr>",
                            "<tr><td>Split Rail Beer &amp; Ale</td><td>LARGE</td></tr>",
                            "<tr><td>Piccolo und mehr</td><td>LARGE</td></tr>",
                            "<tr><td>Mère Paillarde</td><td>LARGE</td></tr>",
                            "<tr><td>Bottom-Dollar Markets</td><td>LARGE</td></tr>",
                            "<tr><td>Ernst Handel</td><td>LARGE</td></tr>",
                            "<tr><td>Familia Arquibaldo</td><td>LARGE</td></tr>",
                            "<tr><td>B's Beverages</td><td>LARGE</td></tr>",
                            "<tr><td>Königlich Essen</td><td>LARGE</td></tr>",
                            "<tr><td>Comércio Mineiro</td><td>LARGE</td></tr>",
                            "<tr><td>Antonio Moreno Taquería</td><td>LARGE</td></tr>",
                            "<tr><td>Bon app'</td><td>LARGE</td></tr>",
                            "<tr><td>Old World Delicatessen</td><td>LARGE</td></tr>",
                            "<tr><td>LILA-Supermercado</td><td>LARGE</td></tr>",
                            "<tr><td>Wellington Importadora</td><td>LARGE</td></tr>",
                            "<tr><td>France restauration</td><td>LARGE</td></tr>",
                            "<tr><td>Bólido Comidas preparadas</td><td>LARGE</td></tr>",
                            "<tr><td>Richter Supermarkt</td><td>LARGE</td></tr>",
                            "<tr><td>Reggiani Caseifici</td><td>LARGE</td></tr>",
                            "<tr><td>Rattlesnake Canyon Grocery</td><td>LARGE</td></tr>",
                            "<tr><td>Princesa Isabel Vinhos</td><td>LARGE</td></tr>",
                            "<tr><td>Alfreds Futterkiste</td><td>LARGE</td></tr>",
                            "<tr><td>Alfred's Futterkiste</td><td>LARGE</td></tr>",
                            "<tr><td>Furia Bacalhau e Frutos do Mar</td><td>LARGE</td></tr>",
                            "<tr><td>Wilman Kala</td><td>LARGE</td></tr>",
                            "<tr><td>La maison d'Asie</td><td>LARGE</td></tr>",
                            "<tr><td>Wolski Zajazd</td><td>LARGE</td></tr>",
                            "<tr><td>Ana Trujillo Emparedados y helados</td><td>LARGE</td></tr>",
                            "<tr><td>Tradiçao Hipermercados</td><td>LARGE</td></tr>",
                            "<tr><td>Maison Dewey</td><td>LARGE</td></tr>",
                            "<tr><td>Hanari Carnes</td><td>LARGE</td></tr>",
                            "<tr><td>Lonesome Pine Restaurant</td><td>LARGE</td></tr>",
                            "<tr><td>Blondel père et fils</td><td>LARGE</td></tr>",
                            "<tr><td>Seven Seas Imports</td><td>LARGE</td></tr>",
                            "<tr><td>Que Delícia</td><td>LARGE</td></tr>",
                            "<tr><td>North/South</td><td>LARGE</td></tr>",
                            "<tr><td>Godos Cocina Típica</td><td>LARGE</td></tr>",
                            "<tr><td>Eastern Connection</td><td>LARGE</td></tr>",
                            "<tr><td>Simons bistro</td><td>LARGE</td></tr>",
                            "<tr><td>Victuailles en stock</td><td>LARGE</td></tr>",
                            "<tr><td>Berglunds snabbköp</td><td>LARGE</td></tr>",
                            "<tr><td>Suprêmes délices</td><td>LARGE</td></tr>",
                            "<tr><td>The Cracker Box</td><td>LARGE</td></tr>",
                            "<tr><td>Trail's Head Gourmet Provisioners</td><td>LARGE</td></tr>",
                            "<tr><td>Gourmet Lanchonetes</td><td>LARGE</td></tr>",
                            "<tr><td>Chop-suey Chinese</td><td>LARGE</td></tr>",
                            "<tr><td>Hungry Owl All-Night Grocers</td><td>LARGE</td></tr>",
                            "</table>"
                        ]
                    }
                }
            ],
            "execution_count": 4
        },
        {
            "cell_type": "code",
            "source": [
                "/* SOAL 7 */\n",
                "WITH cte AS (\n",
                "    SELECT MONTH(Orders.OrderDate) AS Month,SUM([Order Details].UnitPrice * [Order Details].Quantity ) AS TotalPrice, Products.ProductName,\n",
                "    ROW_NUMBER() OVER(PARTITION BY MONTH(Orders.OrderDate) ORDER BY SUM([Order Details].UnitPrice * [Order Details].Quantity )DESC) AS Rank\n",
                "    FROM [Order Details]\n",
                "    JOIN Orders\n",
                "        ON [Order Details].OrderID = Orders.OrderID\n",
                "    JOIN Products\n",
                "        ON [Order Details].ProductID = Products.ProductID\n",
                "    WHERE YEAR(Orders.OrderDate) = 1997 \n",
                "    GROUP BY Products.ProductName, MONTH(Orders.OrderDate)\n",
                "    \n",
                ") \n",
                "SELECT * \n",
                "FROM cte\n",
                "WHERE Rank <= 5\n",
                ""
            ],
            "metadata": {
                "language": "sql",
                "azdata_cell_guid": "b9f352c9-00fe-4021-b9e2-75268af45053"
            },
            "outputs": [
                {
                    "output_type": "display_data",
                    "data": {
                        "text/html": "(60 rows affected)"
                    },
                    "metadata": {}
                },
                {
                    "output_type": "display_data",
                    "data": {
                        "text/html": "Total execution time: 00:00:00.058"
                    },
                    "metadata": {}
                },
                {
                    "output_type": "execute_result",
                    "metadata": {},
                    "execution_count": 5,
                    "data": {
                        "application/vnd.dataresource+json": {
                            "schema": {
                                "fields": [
                                    {
                                        "name": "Month"
                                    },
                                    {
                                        "name": "TotalPrice"
                                    },
                                    {
                                        "name": "ProductName"
                                    },
                                    {
                                        "name": "Rank"
                                    }
                                ]
                            },
                            "data": [
                                {
                                    "0": "1",
                                    "1": "20869,20",
                                    "2": "Côte de Blaye",
                                    "3": "1"
                                },
                                {
                                    "0": "1",
                                    "1": "5060,00",
                                    "2": "Raclette Courdavault",
                                    "3": "2"
                                },
                                {
                                    "0": "1",
                                    "1": "3510,00",
                                    "2": "Vegie-spread",
                                    "3": "3"
                                },
                                {
                                    "0": "1",
                                    "1": "3192,00",
                                    "2": "Gnocchi di nonna Alice",
                                    "3": "4"
                                },
                                {
                                    "0": "1",
                                    "1": "3026,40",
                                    "2": "Alice Mutton",
                                    "3": "5"
                                },
                                {
                                    "0": "2",
                                    "1": "3456,00",
                                    "2": "Pâté chinois",
                                    "3": "1"
                                },
                                {
                                    "0": "2",
                                    "1": "2622,00",
                                    "2": "Sirop d'érable",
                                    "3": "2"
                                },
                                {
                                    "0": "2",
                                    "1": "2523,20",
                                    "2": "Gnocchi di nonna Alice",
                                    "3": "3"
                                },
                                {
                                    "0": "2",
                                    "1": "2376,00",
                                    "2": "Thüringer Rostbratwurst",
                                    "3": "4"
                                },
                                {
                                    "0": "2",
                                    "1": "2074,80",
                                    "2": "Rössle Sauerkraut",
                                    "3": "5"
                                },
                                {
                                    "0": "3",
                                    "1": "7128,00",
                                    "2": "Raclette Courdavault",
                                    "3": "1"
                                },
                                {
                                    "0": "3",
                                    "1": "6324,00",
                                    "2": "Côte de Blaye",
                                    "3": "2"
                                },
                                {
                                    "0": "3",
                                    "1": "1950,40",
                                    "2": "Manjimup Dried Apples",
                                    "3": "3"
                                },
                                {
                                    "0": "3",
                                    "1": "1782,00",
                                    "2": "Thüringer Rostbratwurst",
                                    "3": "4"
                                },
                                {
                                    "0": "3",
                                    "1": "1632,00",
                                    "2": "Camembert Pierrot",
                                    "3": "5"
                                },
                                {
                                    "0": "4",
                                    "1": "5517,60",
                                    "2": "Gnocchi di nonna Alice",
                                    "3": "1"
                                },
                                {
                                    "0": "4",
                                    "1": "5268,00",
                                    "2": "Schoggi Schokolade",
                                    "3": "2"
                                },
                                {
                                    "0": "4",
                                    "1": "4456,44",
                                    "2": "Thüringer Rostbratwurst",
                                    "3": "3"
                                },
                                {
                                    "0": "4",
                                    "1": "3952,50",
                                    "2": "Côte de Blaye",
                                    "3": "4"
                                },
                                {
                                    "0": "4",
                                    "1": "3604,00",
                                    "2": "Camembert Pierrot",
                                    "3": "5"
                                },
                                {
                                    "0": "5",
                                    "1": "8959,00",
                                    "2": "Côte de Blaye",
                                    "3": "1"
                                },
                                {
                                    "0": "5",
                                    "1": "3910,00",
                                    "2": "Ipoh Coffee",
                                    "3": "2"
                                },
                                {
                                    "0": "5",
                                    "1": "2958,00",
                                    "2": "Tarte au sucre",
                                    "3": "3"
                                },
                                {
                                    "0": "5",
                                    "1": "2862,00",
                                    "2": "Manjimup Dried Apples",
                                    "3": "4"
                                },
                                {
                                    "0": "5",
                                    "1": "2847,00",
                                    "2": "Alice Mutton",
                                    "3": "5"
                                },
                                {
                                    "0": "6",
                                    "1": "4929,00",
                                    "2": "Manjimup Dried Apples",
                                    "3": "1"
                                },
                                {
                                    "0": "6",
                                    "1": "3800,00",
                                    "2": "Gnocchi di nonna Alice",
                                    "3": "2"
                                },
                                {
                                    "0": "6",
                                    "1": "2860,00",
                                    "2": "Raclette Courdavault",
                                    "3": "3"
                                },
                                {
                                    "0": "6",
                                    "1": "2137,50",
                                    "2": "Gorgonzola Telino",
                                    "3": "4"
                                },
                                {
                                    "0": "6",
                                    "1": "1879,20",
                                    "2": "Mozzarella di Giovanni",
                                    "3": "5"
                                },
                                {
                                    "0": "7",
                                    "1": "4675,00",
                                    "2": "Raclette Courdavault",
                                    "3": "1"
                                },
                                {
                                    "0": "7",
                                    "1": "4250,00",
                                    "2": "Camembert Pierrot",
                                    "3": "2"
                                },
                                {
                                    "0": "7",
                                    "1": "3952,50",
                                    "2": "Côte de Blaye",
                                    "3": "3"
                                },
                                {
                                    "0": "7",
                                    "1": "3900,00",
                                    "2": "Alice Mutton",
                                    "3": "4"
                                },
                                {
                                    "0": "7",
                                    "1": "3420,00",
                                    "2": "Sirop d'érable",
                                    "3": "5"
                                },
                                {
                                    "0": "8",
                                    "1": "5125,00",
                                    "2": "Carnarvon Tigers",
                                    "3": "1"
                                },
                                {
                                    "0": "8",
                                    "1": "4683,50",
                                    "2": "Tarte au sucre",
                                    "3": "2"
                                },
                                {
                                    "0": "8",
                                    "1": "3218,54",
                                    "2": "Thüringer Rostbratwurst",
                                    "3": "3"
                                },
                                {
                                    "0": "8",
                                    "1": "3040,00",
                                    "2": "Gnocchi di nonna Alice",
                                    "3": "4"
                                },
                                {
                                    "0": "8",
                                    "1": "2610,00",
                                    "2": "Mozzarella di Giovanni",
                                    "3": "5"
                                },
                                {
                                    "0": "9",
                                    "1": "5694,34",
                                    "2": "Thüringer Rostbratwurst",
                                    "3": "1"
                                },
                                {
                                    "0": "9",
                                    "1": "4850,00",
                                    "2": "Mishi Kobe Niku",
                                    "3": "2"
                                },
                                {
                                    "0": "9",
                                    "1": "4590,00",
                                    "2": "Camembert Pierrot",
                                    "3": "3"
                                },
                                {
                                    "0": "9",
                                    "1": "3952,50",
                                    "2": "Côte de Blaye",
                                    "3": "4"
                                },
                                {
                                    "0": "9",
                                    "1": "3800,00",
                                    "2": "Queso Manchego La Pastora",
                                    "3": "5"
                                },
                                {
                                    "0": "10",
                                    "1": "6437,08",
                                    "2": "Thüringer Rostbratwurst",
                                    "3": "1"
                                },
                                {
                                    "0": "10",
                                    "1": "6050,00",
                                    "2": "Raclette Courdavault",
                                    "3": "2"
                                },
                                {
                                    "0": "10",
                                    "1": "4034,40",
                                    "2": "Perth Pasties",
                                    "3": "3"
                                },
                                {
                                    "0": "10",
                                    "1": "3352,40",
                                    "2": "Tarte au sucre",
                                    "3": "4"
                                },
                                {
                                    "0": "10",
                                    "1": "2944,00",
                                    "2": "Ipoh Coffee",
                                    "3": "5"
                                },
                                {
                                    "0": "11",
                                    "1": "5115,00",
                                    "2": "Raclette Courdavault",
                                    "3": "1"
                                },
                                {
                                    "0": "11",
                                    "1": "4248,00",
                                    "2": "Gudbrandsdalsost",
                                    "3": "2"
                                },
                                {
                                    "0": "11",
                                    "1": "3686,00",
                                    "2": "Gnocchi di nonna Alice",
                                    "3": "3"
                                },
                                {
                                    "0": "11",
                                    "1": "2812,50",
                                    "2": "Carnarvon Tigers",
                                    "3": "4"
                                },
                                {
                                    "0": "11",
                                    "1": "2210,00",
                                    "2": "Camembert Pierrot",
                                    "3": "5"
                                },
                                {
                                    "0": "12",
                                    "1": "9964,00",
                                    "2": "Manjimup Dried Apples",
                                    "3": "1"
                                },
                                {
                                    "0": "12",
                                    "1": "8912,88",
                                    "2": "Thüringer Rostbratwurst",
                                    "3": "2"
                                },
                                {
                                    "0": "12",
                                    "1": "4212,00",
                                    "2": "Alice Mutton",
                                    "3": "3"
                                },
                                {
                                    "0": "12",
                                    "1": "3952,50",
                                    "2": "Côte de Blaye",
                                    "3": "4"
                                },
                                {
                                    "0": "12",
                                    "1": "3800,00",
                                    "2": "Gnocchi di nonna Alice",
                                    "3": "5"
                                }
                            ]
                        },
                        "text/html": [
                            "<table>",
                            "<tr><th>Month</th><th>TotalPrice</th><th>ProductName</th><th>Rank</th></tr>",
                            "<tr><td>1</td><td>20869,20</td><td>Côte de Blaye</td><td>1</td></tr>",
                            "<tr><td>1</td><td>5060,00</td><td>Raclette Courdavault</td><td>2</td></tr>",
                            "<tr><td>1</td><td>3510,00</td><td>Vegie-spread</td><td>3</td></tr>",
                            "<tr><td>1</td><td>3192,00</td><td>Gnocchi di nonna Alice</td><td>4</td></tr>",
                            "<tr><td>1</td><td>3026,40</td><td>Alice Mutton</td><td>5</td></tr>",
                            "<tr><td>2</td><td>3456,00</td><td>Pâté chinois</td><td>1</td></tr>",
                            "<tr><td>2</td><td>2622,00</td><td>Sirop d'érable</td><td>2</td></tr>",
                            "<tr><td>2</td><td>2523,20</td><td>Gnocchi di nonna Alice</td><td>3</td></tr>",
                            "<tr><td>2</td><td>2376,00</td><td>Thüringer Rostbratwurst</td><td>4</td></tr>",
                            "<tr><td>2</td><td>2074,80</td><td>Rössle Sauerkraut</td><td>5</td></tr>",
                            "<tr><td>3</td><td>7128,00</td><td>Raclette Courdavault</td><td>1</td></tr>",
                            "<tr><td>3</td><td>6324,00</td><td>Côte de Blaye</td><td>2</td></tr>",
                            "<tr><td>3</td><td>1950,40</td><td>Manjimup Dried Apples</td><td>3</td></tr>",
                            "<tr><td>3</td><td>1782,00</td><td>Thüringer Rostbratwurst</td><td>4</td></tr>",
                            "<tr><td>3</td><td>1632,00</td><td>Camembert Pierrot</td><td>5</td></tr>",
                            "<tr><td>4</td><td>5517,60</td><td>Gnocchi di nonna Alice</td><td>1</td></tr>",
                            "<tr><td>4</td><td>5268,00</td><td>Schoggi Schokolade</td><td>2</td></tr>",
                            "<tr><td>4</td><td>4456,44</td><td>Thüringer Rostbratwurst</td><td>3</td></tr>",
                            "<tr><td>4</td><td>3952,50</td><td>Côte de Blaye</td><td>4</td></tr>",
                            "<tr><td>4</td><td>3604,00</td><td>Camembert Pierrot</td><td>5</td></tr>",
                            "<tr><td>5</td><td>8959,00</td><td>Côte de Blaye</td><td>1</td></tr>",
                            "<tr><td>5</td><td>3910,00</td><td>Ipoh Coffee</td><td>2</td></tr>",
                            "<tr><td>5</td><td>2958,00</td><td>Tarte au sucre</td><td>3</td></tr>",
                            "<tr><td>5</td><td>2862,00</td><td>Manjimup Dried Apples</td><td>4</td></tr>",
                            "<tr><td>5</td><td>2847,00</td><td>Alice Mutton</td><td>5</td></tr>",
                            "<tr><td>6</td><td>4929,00</td><td>Manjimup Dried Apples</td><td>1</td></tr>",
                            "<tr><td>6</td><td>3800,00</td><td>Gnocchi di nonna Alice</td><td>2</td></tr>",
                            "<tr><td>6</td><td>2860,00</td><td>Raclette Courdavault</td><td>3</td></tr>",
                            "<tr><td>6</td><td>2137,50</td><td>Gorgonzola Telino</td><td>4</td></tr>",
                            "<tr><td>6</td><td>1879,20</td><td>Mozzarella di Giovanni</td><td>5</td></tr>",
                            "<tr><td>7</td><td>4675,00</td><td>Raclette Courdavault</td><td>1</td></tr>",
                            "<tr><td>7</td><td>4250,00</td><td>Camembert Pierrot</td><td>2</td></tr>",
                            "<tr><td>7</td><td>3952,50</td><td>Côte de Blaye</td><td>3</td></tr>",
                            "<tr><td>7</td><td>3900,00</td><td>Alice Mutton</td><td>4</td></tr>",
                            "<tr><td>7</td><td>3420,00</td><td>Sirop d'érable</td><td>5</td></tr>",
                            "<tr><td>8</td><td>5125,00</td><td>Carnarvon Tigers</td><td>1</td></tr>",
                            "<tr><td>8</td><td>4683,50</td><td>Tarte au sucre</td><td>2</td></tr>",
                            "<tr><td>8</td><td>3218,54</td><td>Thüringer Rostbratwurst</td><td>3</td></tr>",
                            "<tr><td>8</td><td>3040,00</td><td>Gnocchi di nonna Alice</td><td>4</td></tr>",
                            "<tr><td>8</td><td>2610,00</td><td>Mozzarella di Giovanni</td><td>5</td></tr>",
                            "<tr><td>9</td><td>5694,34</td><td>Thüringer Rostbratwurst</td><td>1</td></tr>",
                            "<tr><td>9</td><td>4850,00</td><td>Mishi Kobe Niku</td><td>2</td></tr>",
                            "<tr><td>9</td><td>4590,00</td><td>Camembert Pierrot</td><td>3</td></tr>",
                            "<tr><td>9</td><td>3952,50</td><td>Côte de Blaye</td><td>4</td></tr>",
                            "<tr><td>9</td><td>3800,00</td><td>Queso Manchego La Pastora</td><td>5</td></tr>",
                            "<tr><td>10</td><td>6437,08</td><td>Thüringer Rostbratwurst</td><td>1</td></tr>",
                            "<tr><td>10</td><td>6050,00</td><td>Raclette Courdavault</td><td>2</td></tr>",
                            "<tr><td>10</td><td>4034,40</td><td>Perth Pasties</td><td>3</td></tr>",
                            "<tr><td>10</td><td>3352,40</td><td>Tarte au sucre</td><td>4</td></tr>",
                            "<tr><td>10</td><td>2944,00</td><td>Ipoh Coffee</td><td>5</td></tr>",
                            "<tr><td>11</td><td>5115,00</td><td>Raclette Courdavault</td><td>1</td></tr>",
                            "<tr><td>11</td><td>4248,00</td><td>Gudbrandsdalsost</td><td>2</td></tr>",
                            "<tr><td>11</td><td>3686,00</td><td>Gnocchi di nonna Alice</td><td>3</td></tr>",
                            "<tr><td>11</td><td>2812,50</td><td>Carnarvon Tigers</td><td>4</td></tr>",
                            "<tr><td>11</td><td>2210,00</td><td>Camembert Pierrot</td><td>5</td></tr>",
                            "<tr><td>12</td><td>9964,00</td><td>Manjimup Dried Apples</td><td>1</td></tr>",
                            "<tr><td>12</td><td>8912,88</td><td>Thüringer Rostbratwurst</td><td>2</td></tr>",
                            "<tr><td>12</td><td>4212,00</td><td>Alice Mutton</td><td>3</td></tr>",
                            "<tr><td>12</td><td>3952,50</td><td>Côte de Blaye</td><td>4</td></tr>",
                            "<tr><td>12</td><td>3800,00</td><td>Gnocchi di nonna Alice</td><td>5</td></tr>",
                            "</table>"
                        ]
                    }
                }
            ],
            "execution_count": 5
        }
    ]
}