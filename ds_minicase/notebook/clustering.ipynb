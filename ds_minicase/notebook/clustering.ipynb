{
 "cells": [
  {
   "cell_type": "code",
   "execution_count": 95,
   "metadata": {},
   "outputs": [],
   "source": [
    "import numpy as np\n",
    "import pandas as pd\n",
    "\n",
    "import matplotlib.pyplot as plt\n",
    "import seaborn as sns\n",
    "\n",
    "from sklearn.preprocessing import StandardScaler\n",
    "from sklearn.decomposition import PCA\n",
    "\n",
    "from sklearn.cluster import KMeans"
   ]
  },
  {
   "cell_type": "code",
   "execution_count": 96,
   "metadata": {},
   "outputs": [
    {
     "name": "stdout",
     "output_type": "stream",
     "text": [
      "<class 'pandas.core.frame.DataFrame'>\n",
      "RangeIndex: 17982 entries, 0 to 17981\n",
      "Data columns (total 8 columns):\n",
      " #   Column            Non-Null Count  Dtype  \n",
      "---  ------            --------------  -----  \n",
      " 0   date              17982 non-null  object \n",
      " 1   street            17982 non-null  object \n",
      " 2   level             17982 non-null  int64  \n",
      " 3   median_length     17982 non-null  float64\n",
      " 4   median_delay      17982 non-null  float64\n",
      " 5   median_speed_kmh  17982 non-null  float64\n",
      " 6   median_record     17982 non-null  float64\n",
      " 7   id                17982 non-null  object \n",
      "dtypes: float64(4), int64(1), object(3)\n",
      "memory usage: 1.1+ MB\n"
     ]
    }
   ],
   "source": [
    "data = pd.read_csv('../data/bandung/jams agg bandung.csv')\n",
    "data = data.iloc[:,1:]\n",
    "data.info()"
   ]
  },
  {
   "cell_type": "code",
   "execution_count": 97,
   "metadata": {},
   "outputs": [
    {
     "data": {
      "text/html": [
       "<div>\n",
       "<style scoped>\n",
       "    .dataframe tbody tr th:only-of-type {\n",
       "        vertical-align: middle;\n",
       "    }\n",
       "\n",
       "    .dataframe tbody tr th {\n",
       "        vertical-align: top;\n",
       "    }\n",
       "\n",
       "    .dataframe thead th {\n",
       "        text-align: right;\n",
       "    }\n",
       "</style>\n",
       "<table border=\"1\" class=\"dataframe\">\n",
       "  <thead>\n",
       "    <tr style=\"text-align: right;\">\n",
       "      <th></th>\n",
       "      <th>date</th>\n",
       "      <th>street</th>\n",
       "      <th>level</th>\n",
       "      <th>median_length</th>\n",
       "      <th>median_delay</th>\n",
       "      <th>median_speed_kmh</th>\n",
       "      <th>median_record</th>\n",
       "      <th>id</th>\n",
       "    </tr>\n",
       "  </thead>\n",
       "  <tbody>\n",
       "    <tr>\n",
       "      <th>14276</th>\n",
       "      <td>2022-08-23</td>\n",
       "      <td>Parakan Saat</td>\n",
       "      <td>1</td>\n",
       "      <td>561.00</td>\n",
       "      <td>76.50</td>\n",
       "      <td>11.850000</td>\n",
       "      <td>2.0</td>\n",
       "      <td>2022-08-23_Parakan Saat</td>\n",
       "    </tr>\n",
       "    <tr>\n",
       "      <th>15692</th>\n",
       "      <td>2022-08-28</td>\n",
       "      <td>Jalan Ambon</td>\n",
       "      <td>2</td>\n",
       "      <td>290.00</td>\n",
       "      <td>75.50</td>\n",
       "      <td>7.145000</td>\n",
       "      <td>4.0</td>\n",
       "      <td>2022-08-28_Jalan Ambon</td>\n",
       "    </tr>\n",
       "    <tr>\n",
       "      <th>16713</th>\n",
       "      <td>2022-08-31</td>\n",
       "      <td>Pungkur</td>\n",
       "      <td>3</td>\n",
       "      <td>570.75</td>\n",
       "      <td>111.00</td>\n",
       "      <td>10.950000</td>\n",
       "      <td>12.0</td>\n",
       "      <td>2022-08-31_Pungkur</td>\n",
       "    </tr>\n",
       "    <tr>\n",
       "      <th>11373</th>\n",
       "      <td>2022-08-13</td>\n",
       "      <td>Tubagus Ismail</td>\n",
       "      <td>2</td>\n",
       "      <td>1001.00</td>\n",
       "      <td>128.50</td>\n",
       "      <td>11.970000</td>\n",
       "      <td>19.0</td>\n",
       "      <td>2022-08-13_Tubagus Ismail</td>\n",
       "    </tr>\n",
       "    <tr>\n",
       "      <th>15414</th>\n",
       "      <td>2022-08-27</td>\n",
       "      <td>Jalan Purwakarta</td>\n",
       "      <td>2</td>\n",
       "      <td>627.00</td>\n",
       "      <td>105.00</td>\n",
       "      <td>13.090000</td>\n",
       "      <td>10.0</td>\n",
       "      <td>2022-08-27_Jalan Purwakarta</td>\n",
       "    </tr>\n",
       "    <tr>\n",
       "      <th>103</th>\n",
       "      <td>2022-07-06</td>\n",
       "      <td>Guntursari Wetan</td>\n",
       "      <td>2</td>\n",
       "      <td>390.00</td>\n",
       "      <td>93.00</td>\n",
       "      <td>8.870000</td>\n",
       "      <td>6.0</td>\n",
       "      <td>2022-07-06_Guntursari Wetan</td>\n",
       "    </tr>\n",
       "    <tr>\n",
       "      <th>2734</th>\n",
       "      <td>2022-07-15</td>\n",
       "      <td>Wa'as</td>\n",
       "      <td>4</td>\n",
       "      <td>219.00</td>\n",
       "      <td>101.00</td>\n",
       "      <td>5.060000</td>\n",
       "      <td>6.0</td>\n",
       "      <td>2022-07-15_Wa'as</td>\n",
       "    </tr>\n",
       "    <tr>\n",
       "      <th>17726</th>\n",
       "      <td>2022-09-04</td>\n",
       "      <td>Cihapit</td>\n",
       "      <td>2</td>\n",
       "      <td>437.50</td>\n",
       "      <td>87.00</td>\n",
       "      <td>8.270001</td>\n",
       "      <td>12.0</td>\n",
       "      <td>2022-09-04_Cihapit</td>\n",
       "    </tr>\n",
       "    <tr>\n",
       "      <th>4097</th>\n",
       "      <td>2022-07-20</td>\n",
       "      <td>Jalan Cimandiri</td>\n",
       "      <td>3</td>\n",
       "      <td>513.00</td>\n",
       "      <td>126.50</td>\n",
       "      <td>8.835000</td>\n",
       "      <td>3.0</td>\n",
       "      <td>2022-07-20_Jalan Cimandiri</td>\n",
       "    </tr>\n",
       "    <tr>\n",
       "      <th>16147</th>\n",
       "      <td>2022-08-29</td>\n",
       "      <td>Suryalaya</td>\n",
       "      <td>2</td>\n",
       "      <td>416.00</td>\n",
       "      <td>97.25</td>\n",
       "      <td>10.657500</td>\n",
       "      <td>4.5</td>\n",
       "      <td>2022-08-29_Suryalaya</td>\n",
       "    </tr>\n",
       "  </tbody>\n",
       "</table>\n",
       "</div>"
      ],
      "text/plain": [
       "             date            street  level  median_length  median_delay  \\\n",
       "14276  2022-08-23      Parakan Saat      1         561.00         76.50   \n",
       "15692  2022-08-28       Jalan Ambon      2         290.00         75.50   \n",
       "16713  2022-08-31           Pungkur      3         570.75        111.00   \n",
       "11373  2022-08-13    Tubagus Ismail      2        1001.00        128.50   \n",
       "15414  2022-08-27  Jalan Purwakarta      2         627.00        105.00   \n",
       "103    2022-07-06  Guntursari Wetan      2         390.00         93.00   \n",
       "2734   2022-07-15             Wa'as      4         219.00        101.00   \n",
       "17726  2022-09-04           Cihapit      2         437.50         87.00   \n",
       "4097   2022-07-20   Jalan Cimandiri      3         513.00        126.50   \n",
       "16147  2022-08-29         Suryalaya      2         416.00         97.25   \n",
       "\n",
       "       median_speed_kmh  median_record                           id  \n",
       "14276         11.850000            2.0      2022-08-23_Parakan Saat  \n",
       "15692          7.145000            4.0       2022-08-28_Jalan Ambon  \n",
       "16713         10.950000           12.0           2022-08-31_Pungkur  \n",
       "11373         11.970000           19.0    2022-08-13_Tubagus Ismail  \n",
       "15414         13.090000           10.0  2022-08-27_Jalan Purwakarta  \n",
       "103            8.870000            6.0  2022-07-06_Guntursari Wetan  \n",
       "2734           5.060000            6.0             2022-07-15_Wa'as  \n",
       "17726          8.270001           12.0           2022-09-04_Cihapit  \n",
       "4097           8.835000            3.0   2022-07-20_Jalan Cimandiri  \n",
       "16147         10.657500            4.5         2022-08-29_Suryalaya  "
      ]
     },
     "execution_count": 97,
     "metadata": {},
     "output_type": "execute_result"
    }
   ],
   "source": [
    "data.sample(10)"
   ]
  },
  {
   "cell_type": "code",
   "execution_count": 98,
   "metadata": {},
   "outputs": [
    {
     "data": {
      "text/plain": [
       "<matplotlib.axes._subplots.AxesSubplot at 0x7fc7e1dc98b0>"
      ]
     },
     "execution_count": 98,
     "metadata": {},
     "output_type": "execute_result"
    },
    {
     "data": {
      "image/png": "[encoded data removed]",
      "text/plain": [
       "<Figure size 432x288 with 1 Axes>"
      ]
     },
     "metadata": {
      "needs_background": "light"
     },
     "output_type": "display_data"
    }
   ],
   "source": [
    "data.isnull().sum().plot(kind='bar')"
   ]
  },
  {
   "cell_type": "code",
   "execution_count": 99,
   "metadata": {},
   "outputs": [
    {
     "data": {
      "text/plain": [
       "Index(['date', 'street', 'level', 'median_length', 'median_delay',\n",
       "       'median_speed_kmh', 'median_record', 'id'],\n",
       "      dtype='object')"
      ]
     },
     "execution_count": 99,
     "metadata": {},
     "output_type": "execute_result"
    }
   ],
   "source": [
    "data.columns"
   ]
  },
  {
   "cell_type": "code",
   "execution_count": 100,
   "metadata": {},
   "outputs": [
    {
     "name": "stderr",
     "output_type": "stream",
     "text": [
      "/var/folders/yt/n9_2kr5s6nx_5b2y_kx3mnnm0000gn/T/ipykernel_9645/2578434383.py:1: FutureWarning: The default value of numeric_only in DataFrame.corr is deprecated. In a future version, it will default to False. Select only valid columns or specify the value of numeric_only to silence this warning.\n",
      "  sns.heatmap(data.corr(),annot=True)\n"
     ]
    },
    {
     "data": {
      "text/plain": [
       "<matplotlib.axes._subplots.AxesSubplot at 0x7fc7aa887be0>"
      ]
     },
     "execution_count": 100,
     "metadata": {},
     "output_type": "execute_result"
    },
    {
     "data": {
      "image/png": "[encoded data removed]",
      "text/plain": [
       "<Figure size 432x288 with 2 Axes>"
      ]
     },
     "metadata": {
      "needs_background": "light"
     },
     "output_type": "display_data"
    }
   ],
   "source": [
    "sns.heatmap(data.corr(),annot=True)"
   ]
  },
  {
   "cell_type": "code",
   "execution_count": 101,
   "metadata": {},
   "outputs": [
    {
     "name": "stderr",
     "output_type": "stream",
     "text": [
      "/var/folders/yt/n9_2kr5s6nx_5b2y_kx3mnnm0000gn/T/ipykernel_9645/2366356854.py:1: FutureWarning: The default value of numeric_only in DataFrame.corr is deprecated. In a future version, it will default to False. Select only valid columns or specify the value of numeric_only to silence this warning.\n",
      "  g = sns.clustermap(data.corr(), center=0, cmap=\"vlag\",\n"
     ]
    },
    {
     "data": {
      "image/png": "[encoded data removed]",
      "text/plain": [
       "<Figure size 720x720 with 4 Axes>"
      ]
     },
     "metadata": {
      "needs_background": "light"
     },
     "output_type": "display_data"
    }
   ],
   "source": [
    "g = sns.clustermap(data.corr(), center=0, cmap=\"vlag\",\n",
    "                   annot=True,\n",
    "                   dendrogram_ratio=(.1, .2),\n",
    "                   cbar_pos=(.02, .32, .03, .2),\n",
    "                   linewidths=.75)"
   ]
  },
  {
   "cell_type": "code",
   "execution_count": 102,
   "metadata": {},
   "outputs": [
    {
     "data": {
      "text/html": [
       "<div>\n",
       "<style scoped>\n",
       "    .dataframe tbody tr th:only-of-type {\n",
       "        vertical-align: middle;\n",
       "    }\n",
       "\n",
       "    .dataframe tbody tr th {\n",
       "        vertical-align: top;\n",
       "    }\n",
       "\n",
       "    .dataframe thead th {\n",
       "        text-align: right;\n",
       "    }\n",
       "</style>\n",
       "<table border=\"1\" class=\"dataframe\">\n",
       "  <thead>\n",
       "    <tr style=\"text-align: right;\">\n",
       "      <th></th>\n",
       "      <th>median_length</th>\n",
       "      <th>median_delay</th>\n",
       "      <th>median_speed_kmh</th>\n",
       "      <th>median_record</th>\n",
       "    </tr>\n",
       "  </thead>\n",
       "  <tbody>\n",
       "    <tr>\n",
       "      <th>0</th>\n",
       "      <td>838.0</td>\n",
       "      <td>85.50</td>\n",
       "      <td>16.715000</td>\n",
       "      <td>15.0</td>\n",
       "    </tr>\n",
       "    <tr>\n",
       "      <th>1</th>\n",
       "      <td>374.0</td>\n",
       "      <td>172.50</td>\n",
       "      <td>4.520000</td>\n",
       "      <td>15.0</td>\n",
       "    </tr>\n",
       "    <tr>\n",
       "      <th>2</th>\n",
       "      <td>317.0</td>\n",
       "      <td>63.50</td>\n",
       "      <td>8.830000</td>\n",
       "      <td>7.0</td>\n",
       "    </tr>\n",
       "    <tr>\n",
       "      <th>3</th>\n",
       "      <td>341.0</td>\n",
       "      <td>111.00</td>\n",
       "      <td>6.735000</td>\n",
       "      <td>10.0</td>\n",
       "    </tr>\n",
       "    <tr>\n",
       "      <th>4</th>\n",
       "      <td>717.0</td>\n",
       "      <td>83.25</td>\n",
       "      <td>11.069999</td>\n",
       "      <td>6.5</td>\n",
       "    </tr>\n",
       "    <tr>\n",
       "      <th>...</th>\n",
       "      <td>...</td>\n",
       "      <td>...</td>\n",
       "      <td>...</td>\n",
       "      <td>...</td>\n",
       "    </tr>\n",
       "    <tr>\n",
       "      <th>17977</th>\n",
       "      <td>22.0</td>\n",
       "      <td>-1.00</td>\n",
       "      <td>0.000000</td>\n",
       "      <td>60.0</td>\n",
       "    </tr>\n",
       "    <tr>\n",
       "      <th>17978</th>\n",
       "      <td>1194.0</td>\n",
       "      <td>-1.00</td>\n",
       "      <td>0.000000</td>\n",
       "      <td>120.0</td>\n",
       "    </tr>\n",
       "    <tr>\n",
       "      <th>17979</th>\n",
       "      <td>571.0</td>\n",
       "      <td>124.50</td>\n",
       "      <td>11.340000</td>\n",
       "      <td>10.0</td>\n",
       "    </tr>\n",
       "    <tr>\n",
       "      <th>17980</th>\n",
       "      <td>1510.0</td>\n",
       "      <td>77.00</td>\n",
       "      <td>34.590000</td>\n",
       "      <td>6.0</td>\n",
       "    </tr>\n",
       "    <tr>\n",
       "      <th>17981</th>\n",
       "      <td>516.0</td>\n",
       "      <td>144.00</td>\n",
       "      <td>12.750000</td>\n",
       "      <td>5.0</td>\n",
       "    </tr>\n",
       "  </tbody>\n",
       "</table>\n",
       "<p>17982 rows × 4 columns</p>\n",
       "</div>"
      ],
      "text/plain": [
       "       median_length  median_delay  median_speed_kmh  median_record\n",
       "0              838.0         85.50         16.715000           15.0\n",
       "1              374.0        172.50          4.520000           15.0\n",
       "2              317.0         63.50          8.830000            7.0\n",
       "3              341.0        111.00          6.735000           10.0\n",
       "4              717.0         83.25         11.069999            6.5\n",
       "...              ...           ...               ...            ...\n",
       "17977           22.0         -1.00          0.000000           60.0\n",
       "17978         1194.0         -1.00          0.000000          120.0\n",
       "17979          571.0        124.50         11.340000           10.0\n",
       "17980         1510.0         77.00         34.590000            6.0\n",
       "17981          516.0        144.00         12.750000            5.0\n",
       "\n",
       "[17982 rows x 4 columns]"
      ]
     },
     "execution_count": 102,
     "metadata": {},
     "output_type": "execute_result"
    }
   ],
   "source": [
    "### Select feature without level \n",
    "X = data.loc[:,'median_length':'median_record']\n",
    "X"
   ]
  },
  {
   "cell_type": "code",
   "execution_count": 103,
   "metadata": {},
   "outputs": [],
   "source": [
    "#DE\n",
    "sc = StandardScaler()\n",
    "X_std = sc.fit_transform(X)\n",
    "pca = PCA(n_components = 2)\n",
    "X_reduced = pca.fit_transform(X_std)"
   ]
  },
  {
   "cell_type": "code",
   "execution_count": 104,
   "metadata": {},
   "outputs": [
    {
     "data": {
      "text/html": [
       "<div>\n",
       "<style scoped>\n",
       "    .dataframe tbody tr th:only-of-type {\n",
       "        vertical-align: middle;\n",
       "    }\n",
       "\n",
       "    .dataframe tbody tr th {\n",
       "        vertical-align: top;\n",
       "    }\n",
       "\n",
       "    .dataframe thead th {\n",
       "        text-align: right;\n",
       "    }\n",
       "</style>\n",
       "<table border=\"1\" class=\"dataframe\">\n",
       "  <thead>\n",
       "    <tr style=\"text-align: right;\">\n",
       "      <th></th>\n",
       "      <th>0</th>\n",
       "      <th>1</th>\n",
       "      <th>level</th>\n",
       "    </tr>\n",
       "  </thead>\n",
       "  <tbody>\n",
       "    <tr>\n",
       "      <th>0</th>\n",
       "      <td>1.426726</td>\n",
       "      <td>-0.121420</td>\n",
       "      <td>2</td>\n",
       "    </tr>\n",
       "    <tr>\n",
       "      <th>1</th>\n",
       "      <td>-1.489308</td>\n",
       "      <td>-0.026346</td>\n",
       "      <td>3</td>\n",
       "    </tr>\n",
       "    <tr>\n",
       "      <th>2</th>\n",
       "      <td>-0.590733</td>\n",
       "      <td>-0.391167</td>\n",
       "      <td>2</td>\n",
       "    </tr>\n",
       "    <tr>\n",
       "      <th>3</th>\n",
       "      <td>-1.019087</td>\n",
       "      <td>-0.210417</td>\n",
       "      <td>3</td>\n",
       "    </tr>\n",
       "    <tr>\n",
       "      <th>4</th>\n",
       "      <td>0.349672</td>\n",
       "      <td>0.105990</td>\n",
       "      <td>1</td>\n",
       "    </tr>\n",
       "    <tr>\n",
       "      <th>...</th>\n",
       "      <td>...</td>\n",
       "      <td>...</td>\n",
       "      <td>...</td>\n",
       "    </tr>\n",
       "    <tr>\n",
       "      <th>17977</th>\n",
       "      <td>-1.309147</td>\n",
       "      <td>-5.090853</td>\n",
       "      <td>5</td>\n",
       "    </tr>\n",
       "    <tr>\n",
       "      <th>17978</th>\n",
       "      <td>1.657327</td>\n",
       "      <td>-8.604177</td>\n",
       "      <td>5</td>\n",
       "    </tr>\n",
       "    <tr>\n",
       "      <th>17979</th>\n",
       "      <td>-0.043382</td>\n",
       "      <td>0.234063</td>\n",
       "      <td>3</td>\n",
       "    </tr>\n",
       "    <tr>\n",
       "      <th>17980</th>\n",
       "      <td>4.984238</td>\n",
       "      <td>1.510727</td>\n",
       "      <td>2</td>\n",
       "    </tr>\n",
       "    <tr>\n",
       "      <th>17981</th>\n",
       "      <td>-0.119008</td>\n",
       "      <td>0.803474</td>\n",
       "      <td>3</td>\n",
       "    </tr>\n",
       "  </tbody>\n",
       "</table>\n",
       "<p>17982 rows × 3 columns</p>\n",
       "</div>"
      ],
      "text/plain": [
       "              0         1  level\n",
       "0      1.426726 -0.121420      2\n",
       "1     -1.489308 -0.026346      3\n",
       "2     -0.590733 -0.391167      2\n",
       "3     -1.019087 -0.210417      3\n",
       "4      0.349672  0.105990      1\n",
       "...         ...       ...    ...\n",
       "17977 -1.309147 -5.090853      5\n",
       "17978  1.657327 -8.604177      5\n",
       "17979 -0.043382  0.234063      3\n",
       "17980  4.984238  1.510727      2\n",
       "17981 -0.119008  0.803474      3\n",
       "\n",
       "[17982 rows x 3 columns]"
      ]
     },
     "execution_count": 104,
     "metadata": {},
     "output_type": "execute_result"
    }
   ],
   "source": [
    "X_append = pd.concat([pd.DataFrame(X_reduced),data['level']],axis=1)\n",
    "X_append"
   ]
  },
  {
   "cell_type": "code",
   "execution_count": 105,
   "metadata": {},
   "outputs": [
    {
     "data": {
      "text/plain": [
       "<matplotlib.axes._subplots.AxesSubplot at 0x7fc7e1dcff70>"
      ]
     },
     "execution_count": 105,
     "metadata": {},
     "output_type": "execute_result"
    },
    {
     "data": {
      "image/png": "[encoded data removed]",
      "text/plain": [
       "<Figure size 432x288 with 1 Axes>"
      ]
     },
     "metadata": {
      "needs_background": "light"
     },
     "output_type": "display_data"
    }
   ],
   "source": [
    "sns.scatterplot(data=X_append,x=0,y=1,hue='level',alpha=0.8)"
   ]
  },
  {
   "cell_type": "markdown",
   "metadata": {},
   "source": []
  },
  {
   "attachments": {},
   "cell_type": "markdown",
   "metadata": {},
   "source": [
    "Kmeans\n"
   ]
  },
  {
   "attachments": {},
   "cell_type": "markdown",
   "metadata": {},
   "source": [
    "Cluster by only the data point, (not time series based cluster)"
   ]
  },
  {
   "cell_type": "code",
   "execution_count": 106,
   "metadata": {},
   "outputs": [
    {
     "data": {
      "text/plain": [
       "<matplotlib.collections.PathCollection at 0x7fc7e1265460>"
      ]
     },
     "execution_count": 106,
     "metadata": {},
     "output_type": "execute_result"
    },
    {
     "data": {
      "image/png": "[encoded data removed]",
      "text/plain": [
       "<Figure size 432x288 with 1 Axes>"
      ]
     },
     "metadata": {
      "needs_background": "light"
     },
     "output_type": "display_data"
    }
   ],
   "source": [
    "# X without feature level\n",
    "wcss = []\n",
    "\n",
    "for i in range(2,11):\n",
    "   kmeans = KMeans(n_clusters=i,init='k-means++',random_state=0)\n",
    "   kmeans.fit(X)\n",
    "   wcss.append(kmeans.inertia_)\n",
    "\n",
    "plt.plot(range(2,11),wcss)\n",
    "plt.scatter(5,wcss[3],c='r')  "
   ]
  },
  {
   "cell_type": "code",
   "execution_count": 107,
   "metadata": {},
   "outputs": [
    {
     "data": {
      "text/plain": [
       "<matplotlib.collections.PathCollection at 0x7fc7c1e1d400>"
      ]
     },
     "execution_count": 107,
     "metadata": {},
     "output_type": "execute_result"
    },
    {
     "data": {
      "image/png": "[encoded data removed]",
      "text/plain": [
       "<Figure size 432x288 with 1 Axes>"
      ]
     },
     "metadata": {
      "needs_background": "light"
     },
     "output_type": "display_data"
    }
   ],
   "source": [
    "# data for data been processed with PCA\n",
    "\n",
    "wcss = []\n",
    "\n",
    "for i in range(2,11):\n",
    "   kmeans = KMeans(n_clusters=i,init='k-means++',random_state=0)\n",
    "   kmeans.fit(X_append.iloc[:,:2])\n",
    "   wcss.append(kmeans.inertia_)\n",
    "\n",
    "plt.plot(range(2,11),wcss)\n",
    "plt.scatter(5,wcss[3],c='r')  "
   ]
  },
  {
   "cell_type": "code",
   "execution_count": 108,
   "metadata": {},
   "outputs": [
    {
     "data": {
      "text/html": [
       "<div>\n",
       "<style scoped>\n",
       "    .dataframe tbody tr th:only-of-type {\n",
       "        vertical-align: middle;\n",
       "    }\n",
       "\n",
       "    .dataframe tbody tr th {\n",
       "        vertical-align: top;\n",
       "    }\n",
       "\n",
       "    .dataframe thead th {\n",
       "        text-align: right;\n",
       "    }\n",
       "</style>\n",
       "<table border=\"1\" class=\"dataframe\">\n",
       "  <thead>\n",
       "    <tr style=\"text-align: right;\">\n",
       "      <th></th>\n",
       "      <th>0</th>\n",
       "      <th>1</th>\n",
       "      <th>level</th>\n",
       "    </tr>\n",
       "  </thead>\n",
       "  <tbody>\n",
       "    <tr>\n",
       "      <th>0</th>\n",
       "      <td>1.426726</td>\n",
       "      <td>-0.121420</td>\n",
       "      <td>2</td>\n",
       "    </tr>\n",
       "    <tr>\n",
       "      <th>1</th>\n",
       "      <td>-1.489308</td>\n",
       "      <td>-0.026346</td>\n",
       "      <td>3</td>\n",
       "    </tr>\n",
       "    <tr>\n",
       "      <th>2</th>\n",
       "      <td>-0.590733</td>\n",
       "      <td>-0.391167</td>\n",
       "      <td>2</td>\n",
       "    </tr>\n",
       "    <tr>\n",
       "      <th>3</th>\n",
       "      <td>-1.019087</td>\n",
       "      <td>-0.210417</td>\n",
       "      <td>3</td>\n",
       "    </tr>\n",
       "    <tr>\n",
       "      <th>4</th>\n",
       "      <td>0.349672</td>\n",
       "      <td>0.105990</td>\n",
       "      <td>1</td>\n",
       "    </tr>\n",
       "    <tr>\n",
       "      <th>...</th>\n",
       "      <td>...</td>\n",
       "      <td>...</td>\n",
       "      <td>...</td>\n",
       "    </tr>\n",
       "    <tr>\n",
       "      <th>17977</th>\n",
       "      <td>-1.309147</td>\n",
       "      <td>-5.090853</td>\n",
       "      <td>5</td>\n",
       "    </tr>\n",
       "    <tr>\n",
       "      <th>17978</th>\n",
       "      <td>1.657327</td>\n",
       "      <td>-8.604177</td>\n",
       "      <td>5</td>\n",
       "    </tr>\n",
       "    <tr>\n",
       "      <th>17979</th>\n",
       "      <td>-0.043382</td>\n",
       "      <td>0.234063</td>\n",
       "      <td>3</td>\n",
       "    </tr>\n",
       "    <tr>\n",
       "      <th>17980</th>\n",
       "      <td>4.984238</td>\n",
       "      <td>1.510727</td>\n",
       "      <td>2</td>\n",
       "    </tr>\n",
       "    <tr>\n",
       "      <th>17981</th>\n",
       "      <td>-0.119008</td>\n",
       "      <td>0.803474</td>\n",
       "      <td>3</td>\n",
       "    </tr>\n",
       "  </tbody>\n",
       "</table>\n",
       "<p>17982 rows × 3 columns</p>\n",
       "</div>"
      ],
      "text/plain": [
       "              0         1  level\n",
       "0      1.426726 -0.121420      2\n",
       "1     -1.489308 -0.026346      3\n",
       "2     -0.590733 -0.391167      2\n",
       "3     -1.019087 -0.210417      3\n",
       "4      0.349672  0.105990      1\n",
       "...         ...       ...    ...\n",
       "17977 -1.309147 -5.090853      5\n",
       "17978  1.657327 -8.604177      5\n",
       "17979 -0.043382  0.234063      3\n",
       "17980  4.984238  1.510727      2\n",
       "17981 -0.119008  0.803474      3\n",
       "\n",
       "[17982 rows x 3 columns]"
      ]
     },
     "execution_count": 108,
     "metadata": {},
     "output_type": "execute_result"
    }
   ],
   "source": [
    "X_append"
   ]
  },
  {
   "cell_type": "code",
   "execution_count": 109,
   "metadata": {},
   "outputs": [],
   "source": [
    "kmeans = KMeans(n_clusters = 5, init = 'k-means++', random_state = 0)\n",
    "y_kmeans = kmeans.fit_predict(X_append.iloc[:,:2])\n",
    "\n",
    "X_feature_clus = X_append.iloc[:,:2].copy()\n",
    "X_feature_clus['y5'] = y_kmeans"
   ]
  },
  {
   "cell_type": "code",
   "execution_count": 110,
   "metadata": {},
   "outputs": [],
   "source": [
    "data = pd.concat([data,X_feature_clus['y5']],axis=1)"
   ]
  },
  {
   "cell_type": "code",
   "execution_count": 111,
   "metadata": {},
   "outputs": [
    {
     "data": {
      "image/png": "[encoded data removed]",
      "text/plain": [
       "<Figure size 432x288 with 1 Axes>"
      ]
     },
     "metadata": {
      "needs_background": "light"
     },
     "output_type": "display_data"
    }
   ],
   "source": [
    "plt.scatter(X_feature_clus[X_feature_clus['y5'] == 0][0], X_feature_clus[X_feature_clus['y5'] == 0][1], s = 50, c = 'red', label = 'Cluster 1',alpha=0.5)\n",
    "plt.scatter(X_feature_clus[X_feature_clus['y5'] == 1][0], X_feature_clus[X_feature_clus['y5'] == 1][1], s = 50, c = 'blue', label = 'Cluster 2',alpha=0.5)\n",
    "plt.scatter(X_feature_clus[X_feature_clus['y5'] == 2][0], X_feature_clus[X_feature_clus['y5'] == 2][1], s = 50, c = 'green', label = 'Cluster 3',alpha=0.5)\n",
    "plt.scatter(X_feature_clus[X_feature_clus['y5'] == 3][0], X_feature_clus[X_feature_clus['y5'] == 3][1], s = 50, c = 'cyan', label = 'Cluster 4',alpha=0.5)\n",
    "plt.scatter(X_feature_clus[X_feature_clus['y5'] == 4][0], X_feature_clus[X_feature_clus['y5'] == 4][1], s = 50, c = 'purple', label = 'Cluster 5',alpha=0.5)\n",
    "plt.scatter(kmeans.cluster_centers_[:, 0], kmeans.cluster_centers_[:, 1], s = 200, c = 'yellow', label = 'Centroids')\n",
    "plt.title('Clusters of Jams data')\n",
    "plt.xlabel('PCA x')\n",
    "plt.ylabel('PCA Y')\n",
    "plt.legend()\n",
    "plt.show()"
   ]
  },
  {
   "attachments": {},
   "cell_type": "markdown",
   "metadata": {},
   "source": [
    "kurang terpisahkan, maka kita bisa pilih untuk wcss n cluster yang lebih sedikit, sehingga bisa terlihat perbedaanya"
   ]
  },
  {
   "cell_type": "code",
   "execution_count": 112,
   "metadata": {},
   "outputs": [],
   "source": [
    "kmeans = KMeans(n_clusters = 3, init = 'k-means++', random_state = 0)\n",
    "y_kmeans = kmeans.fit_predict(X_append.iloc[:,:2])\n",
    "\n",
    "X_feature_clus = X_append.iloc[:,:2].copy()\n",
    "X_feature_clus['y3'] = y_kmeans"
   ]
  },
  {
   "cell_type": "code",
   "execution_count": 113,
   "metadata": {},
   "outputs": [],
   "source": [
    "data = pd.concat([data,X_feature_clus['y3']],axis=1)"
   ]
  },
  {
   "cell_type": "code",
   "execution_count": 114,
   "metadata": {},
   "outputs": [
    {
     "data": {
      "image/png": "[encoded data removed]",
      "text/plain": [
       "<Figure size 432x288 with 1 Axes>"
      ]
     },
     "metadata": {
      "needs_background": "light"
     },
     "output_type": "display_data"
    }
   ],
   "source": [
    "plt.scatter(X_feature_clus[X_feature_clus['y3'] == 0][0], X_feature_clus[X_feature_clus['y3'] == 0][1], s = 50, c = 'red', label = 'Cluster 1',alpha=0.5)\n",
    "plt.scatter(X_feature_clus[X_feature_clus['y3'] == 1][0], X_feature_clus[X_feature_clus['y3'] == 1][1], s = 50, c = 'blue', label = 'Cluster 2',alpha=0.5)\n",
    "plt.scatter(X_feature_clus[X_feature_clus['y3'] == 2][0], X_feature_clus[X_feature_clus['y3'] == 2][1], s = 50, c = 'green', label = 'Cluster 3',alpha=0.5)\n",
    "\n",
    "plt.scatter(kmeans.cluster_centers_[:, 0], kmeans.cluster_centers_[:, 1], s = 200, c = 'yellow', label = 'Centroids')\n",
    "plt.title('Clusters of Jams data')\n",
    "plt.xlabel('PCA x')\n",
    "plt.ylabel('PCA Y')\n",
    "plt.legend()\n",
    "plt.show()"
   ]
  },
  {
   "cell_type": "code",
   "execution_count": 115,
   "metadata": {},
   "outputs": [],
   "source": [
    "kmeans = KMeans(n_clusters = 4, init = 'k-means++', random_state = 0)\n",
    "y_kmeans = kmeans.fit_predict(X_append.iloc[:,:2])\n",
    "\n",
    "X_feature_clus = X_append.iloc[:,:2].copy()\n",
    "X_feature_clus['y4'] = y_kmeans"
   ]
  },
  {
   "cell_type": "code",
   "execution_count": 116,
   "metadata": {},
   "outputs": [],
   "source": [
    "data = pd.concat([data,X_feature_clus['y4']],axis=1)"
   ]
  },
  {
   "cell_type": "code",
   "execution_count": 117,
   "metadata": {},
   "outputs": [
    {
     "data": {
      "image/png": "[encoded data removed]",
      "text/plain": [
       "<Figure size 432x288 with 1 Axes>"
      ]
     },
     "metadata": {
      "needs_background": "light"
     },
     "output_type": "display_data"
    }
   ],
   "source": [
    "plt.scatter(X_feature_clus[X_feature_clus['y4'] == 0][0], X_feature_clus[X_feature_clus['y4'] == 0][1], s = 50, c = 'red', label = 'Cluster 1',alpha=0.5)\n",
    "plt.scatter(X_feature_clus[X_feature_clus['y4'] == 1][0], X_feature_clus[X_feature_clus['y4'] == 1][1], s = 50, c = 'blue', label = 'Cluster 2',alpha=0.5)\n",
    "plt.scatter(X_feature_clus[X_feature_clus['y4'] == 2][0], X_feature_clus[X_feature_clus['y4'] == 2][1], s = 50, c = 'green', label = 'Cluster 3',alpha=0.5)\n",
    "plt.scatter(X_feature_clus[X_feature_clus['y4'] == 3][0], X_feature_clus[X_feature_clus['y4'] == 3][1], s = 50, c = 'cyan', label = 'Cluster 4',alpha=0.5)\n",
    "plt.scatter(kmeans.cluster_centers_[:, 0], kmeans.cluster_centers_[:, 1], s = 200, c = 'yellow', label = 'Centroids')\n",
    "plt.title('Clusters of Jams data')\n",
    "plt.xlabel('PCA x')\n",
    "plt.ylabel('PCA Y')\n",
    "plt.legend()\n",
    "plt.show()"
   ]
  },
  {
   "cell_type": "code",
   "execution_count": 121,
   "metadata": {},
   "outputs": [
    {
     "name": "stdout",
     "output_type": "stream",
     "text": [
      "1\n",
      "[1 4 0 2]\n",
      "[0 1]\n",
      "[3 0 2]\n",
      "2\n",
      "[0 4 1 2 3]\n",
      "[0 1 2]\n",
      "[3 0 2 1]\n",
      "3\n",
      "[4 0 1 2 3]\n",
      "[1 0 2]\n",
      "[0 2 3 1]\n",
      "4\n",
      "[4 3 1]\n",
      "[1 2 0]\n",
      "[0 1 3]\n",
      "5\n",
      "[3 4]\n",
      "[2 1]\n",
      "[1 0]\n",
      "1\n",
      "[1 4 0 2]\n",
      "[0 1]\n",
      "[3 0 2]\n",
      "2\n",
      "[0 4 1 2 3]\n",
      "[0 1 2]\n",
      "[3 0 2 1]\n",
      "3\n",
      "[4 0 1 2 3]\n",
      "[1 0 2]\n",
      "[0 2 3 1]\n",
      "4\n",
      "[4 3 1]\n",
      "[1 2 0]\n",
      "[0 1 3]\n",
      "5\n",
      "[3 4]\n",
      "[2 1]\n",
      "[1 0]\n",
      "1\n",
      "[1 4 0 2]\n",
      "[0 1]\n",
      "[3 0 2]\n",
      "2\n",
      "[0 4 1 2 3]\n",
      "[0 1 2]\n",
      "[3 0 2 1]\n",
      "3\n",
      "[4 0 1 2 3]\n",
      "[1 0 2]\n",
      "[0 2 3 1]\n",
      "4\n",
      "[4 3 1]\n",
      "[1 2 0]\n",
      "[0 1 3]\n",
      "5\n",
      "[3 4]\n",
      "[2 1]\n",
      "[1 0]\n"
     ]
    }
   ],
   "source": [
    "list_of_level = [1,2,3,4,5]\n",
    "cols = ['y5','y3','y4']\n",
    "for i in range(3):\n",
    "    for j in list_of_level:\n",
    "        print(j)\n",
    "        print(data[data.level==j]['y5'].unique())\n",
    "        print(data[data.level==j]['y3'].unique())\n",
    "        print(data[data.level==j]['y4'].unique())"
   ]
  },
  {
   "attachments": {},
   "cell_type": "markdown",
   "metadata": {},
   "source": [
    "pemetaan cluster manapun tidak satu-satu terhadap level"
   ]
  },
  {
   "attachments": {},
   "cell_type": "markdown",
   "metadata": {},
   "source": []
  },
  {
   "cell_type": "code",
   "execution_count": null,
   "metadata": {},
   "outputs": [],
   "source": []
  }
 ],
 "metadata": {
  "kernelspec": {
   "display_name": "base",
   "language": "python",
   "name": "python3"
  },
  "language_info": {
   "codemirror_mode": {
    "name": "ipython",
    "version": 3
   },
   "file_extension": ".py",
   "mimetype": "text/x-python",
   "name": "python",
   "nbconvert_exporter": "python",
   "pygments_lexer": "ipython3",
   "version": "3.9.7"
  },
  "orig_nbformat": 4,
  "vscode": {
   "interpreter": {
    "hash": "40d3a090f54c6569ab1632332b64b2c03c39dcf918b08424e98f38b5ae0af88f"
   }
  }
 },
 "nbformat": 4,
 "nbformat_minor": 2
}
